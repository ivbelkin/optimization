{
 "cells": [
  {
   "cell_type": "code",
   "execution_count": 1,
   "metadata": {},
   "outputs": [],
   "source": [
    "import numpy as np\n",
    "import cvxpy as cp\n",
    "import torch\n",
    "import matplotlib.pyplot as plt\n",
    "\n",
    "%matplotlib inline"
   ]
  },
  {
   "cell_type": "code",
   "execution_count": 2,
   "metadata": {},
   "outputs": [],
   "source": [
    "# Generate data for Huber regression.\n",
    "np.random.seed(1)\n",
    "n = 300\n",
    "SAMPLES = int(1.5*n)\n",
    "beta_true = 5*np.random.normal(size=(n,1))\n",
    "X = np.random.randn(n, SAMPLES)\n",
    "Y = np.zeros((SAMPLES,1))\n",
    "v = np.random.normal(size=(SAMPLES,1))"
   ]
  },
  {
   "cell_type": "code",
   "execution_count": 3,
   "metadata": {},
   "outputs": [
    {
     "name": "stdout",
     "output_type": "stream",
     "text": [
      "(300, 450)\n",
      "(450, 1)\n",
      "(450, 1)\n",
      "(300, 1)\n"
     ]
    }
   ],
   "source": [
    "print(X.shape)\n",
    "print(Y.shape)\n",
    "print(v.shape)\n",
    "print(beta_true.shape)"
   ]
  },
  {
   "cell_type": "markdown",
   "metadata": {},
   "source": [
    "### CVXPY"
   ]
  },
  {
   "cell_type": "code",
   "execution_count": 4,
   "metadata": {},
   "outputs": [],
   "source": [
    "TESTS = 50\n",
    "huber_data = np.zeros(TESTS)\n",
    "p_vals = np.linspace(0,0.15, num=TESTS)"
   ]
  },
  {
   "cell_type": "code",
   "execution_count": 5,
   "metadata": {},
   "outputs": [
    {
     "name": "stdout",
     "output_type": "stream",
     "text": [
      "(50,)\n",
      "[0. 0. 0. 0. 0. 0. 0. 0. 0. 0. 0. 0. 0. 0. 0. 0. 0. 0. 0. 0. 0. 0. 0. 0.\n",
      " 0. 0. 0. 0. 0. 0. 0. 0. 0. 0. 0. 0. 0. 0. 0. 0. 0. 0. 0. 0. 0. 0. 0. 0.\n",
      " 0. 0.]\n",
      "[0.         0.00306122 0.00612245 0.00918367 0.0122449  0.01530612\n",
      " 0.01836735 0.02142857 0.0244898  0.02755102 0.03061224 0.03367347\n",
      " 0.03673469 0.03979592 0.04285714 0.04591837 0.04897959 0.05204082\n",
      " 0.05510204 0.05816327 0.06122449 0.06428571 0.06734694 0.07040816\n",
      " 0.07346939 0.07653061 0.07959184 0.08265306 0.08571429 0.08877551\n",
      " 0.09183673 0.09489796 0.09795918 0.10102041 0.10408163 0.10714286\n",
      " 0.11020408 0.11326531 0.11632653 0.11938776 0.12244898 0.1255102\n",
      " 0.12857143 0.13163265 0.13469388 0.1377551  0.14081633 0.14387755\n",
      " 0.14693878 0.15      ]\n"
     ]
    }
   ],
   "source": [
    "print(huber_data.shape)\n",
    "print(huber_data)\n",
    "print(p_vals)"
   ]
  },
  {
   "cell_type": "code",
   "execution_count": 6,
   "metadata": {},
   "outputs": [
    {
     "name": "stdout",
     "output_type": "stream",
     "text": [
      "CPU times: user 49.3 s, sys: 6.17 s, total: 55.5 s\n",
      "Wall time: 15.1 s\n"
     ]
    }
   ],
   "source": [
    "%%time\n",
    "Y_s = []\n",
    "for idx, p in enumerate(p_vals):\n",
    "    \n",
    "    factor = 2*np.random.binomial(1, 1-p, size=(SAMPLES,1)) - 1\n",
    "    Y = factor*X.T.dot(beta_true) + v\n",
    "    Y_s.append(Y)\n",
    "    beta = cp.Variable((n,1))\n",
    "    fit = cp.norm(beta - beta_true)/cp.norm(beta_true)\n",
    "    cost = cp.sum(cp.huber(X.T*beta - Y, 1))\n",
    "    cp.Problem(cp.Minimize(cost)).solve()\n",
    "    huber_data[idx] = fit.value\n"
   ]
  },
  {
   "cell_type": "code",
   "execution_count": 7,
   "metadata": {},
   "outputs": [
    {
     "data": {
      "image/png": "[encoded data removed]",
      "text/plain": [
       "<Figure size 432x288 with 1 Axes>"
      ]
     },
     "metadata": {
      "needs_background": "light"
     },
     "output_type": "display_data"
    }
   ],
   "source": [
    "plt.plot(p_vals, huber_data, label='Huber')\n",
    "plt.ylabel(r'$\\||\\beta - \\beta^{\\mathrm{true}}\\||_2/\\||\\beta^{\\mathrm{true}}\\||_2$')\n",
    "plt.xlabel('p')\n",
    "plt.legend(loc='upper left')\n",
    "plt.show()"
   ]
  },
  {
   "cell_type": "markdown",
   "metadata": {},
   "source": [
    "### Torch"
   ]
  },
  {
   "cell_type": "code",
   "execution_count": 8,
   "metadata": {},
   "outputs": [
    {
     "name": "stdout",
     "output_type": "stream",
     "text": [
      "tensor([[ 2.0658e+00,  1.5365e+00, -5.3903e-01,  ...,  1.7127e-01,\n",
      "         -4.0097e-01, -4.2941e-01],\n",
      "        [-1.4712e+00, -3.7501e-04,  6.4410e-01,  ...,  4.5984e-01,\n",
      "         -1.8288e-02,  1.5262e+00],\n",
      "        [-8.3017e-01,  1.2935e+00,  1.8363e-01,  ...,  1.9132e-01,\n",
      "         -2.3015e+00,  3.7185e-01],\n",
      "        ...,\n",
      "        [ 4.0008e-03, -1.4490e+00,  4.3913e-01,  ...,  2.9422e-01,\n",
      "         -3.5162e-01,  4.0545e-01],\n",
      "        [ 3.2127e-01,  7.7949e-01, -1.1030e+00,  ...,  1.2667e-01,\n",
      "          8.5643e-01,  2.5469e-01],\n",
      "        [-7.2521e-01, -1.0863e+00,  7.5949e-01,  ...,  2.0586e-01,\n",
      "          2.0738e+00, -2.9558e-01]], dtype=torch.float64)\n"
     ]
    }
   ],
   "source": [
    "inputs = torch.from_numpy(X.T)\n",
    "print(inputs)"
   ]
  },
  {
   "cell_type": "code",
   "execution_count": 9,
   "metadata": {},
   "outputs": [],
   "source": [
    "def huber_loss(y, y_pred, sigma=0.1):\n",
    "    r = (y - y_pred).abs()\n",
    "    loss = (r[r <= sigma]).pow(2).mean()\n",
    "    loss += 2*(r[r > sigma]).mean() * sigma - sigma**2\n",
    "    return loss"
   ]
  },
  {
   "cell_type": "code",
   "execution_count": 10,
   "metadata": {},
   "outputs": [
    {
     "name": "stdout",
     "output_type": "stream",
     "text": [
      "CPU times: user 40.4 s, sys: 521 ms, total: 40.9 s\n",
      "Wall time: 2.82 s\n"
     ]
    }
   ],
   "source": [
    "%%time\n",
    "huber_data_t = []\n",
    "for y in Y_s:\n",
    "    targets = torch.from_numpy(y)\n",
    "    model = torch.nn.Linear(in_features=300, out_features=1)\n",
    "    opt = torch.optim.SGD(model.parameters(), lr = 0.2)\n",
    "    criterion = torch.nn.SmoothL1Loss()\n",
    "\n",
    "    for epoch in range(100):\n",
    "\n",
    "        preds = model(inputs.float())\n",
    "        loss = criterion(targets.float(), preds)\n",
    "        loss.backward()\n",
    "        opt.step()\n",
    "        opt.zero_grad()\n",
    "        \n",
    "    huber_data_t.append(torch.norm(model.weight-torch.from_numpy(beta_true))/torch.norm(torch.from_numpy(beta_true)))"
   ]
  },
  {
   "cell_type": "markdown",
   "metadata": {},
   "source": [
    "### Torch работает существенно быстрее, но качество заметно хуже\n",
    "#### возможно я допустила ошибку"
   ]
  },
  {
   "cell_type": "code",
   "execution_count": 11,
   "metadata": {},
   "outputs": [
    {
     "data": {
      "text/plain": [
       "[tensor(17.8541, dtype=torch.float64, grad_fn=<DivBackward0>),\n",
       " tensor(17.8431, dtype=torch.float64, grad_fn=<DivBackward0>),\n",
       " tensor(17.8571, dtype=torch.float64, grad_fn=<DivBackward0>),\n",
       " tensor(17.8364, dtype=torch.float64, grad_fn=<DivBackward0>),\n",
       " tensor(17.8494, dtype=torch.float64, grad_fn=<DivBackward0>),\n",
       " tensor(17.8267, dtype=torch.float64, grad_fn=<DivBackward0>),\n",
       " tensor(17.8359, dtype=torch.float64, grad_fn=<DivBackward0>),\n",
       " tensor(17.8165, dtype=torch.float64, grad_fn=<DivBackward0>),\n",
       " tensor(17.8121, dtype=torch.float64, grad_fn=<DivBackward0>),\n",
       " tensor(17.8292, dtype=torch.float64, grad_fn=<DivBackward0>),\n",
       " tensor(17.8274, dtype=torch.float64, grad_fn=<DivBackward0>),\n",
       " tensor(17.8243, dtype=torch.float64, grad_fn=<DivBackward0>),\n",
       " tensor(17.8323, dtype=torch.float64, grad_fn=<DivBackward0>),\n",
       " tensor(17.8129, dtype=torch.float64, grad_fn=<DivBackward0>),\n",
       " tensor(17.8291, dtype=torch.float64, grad_fn=<DivBackward0>),\n",
       " tensor(17.7860, dtype=torch.float64, grad_fn=<DivBackward0>),\n",
       " tensor(17.8218, dtype=torch.float64, grad_fn=<DivBackward0>),\n",
       " tensor(17.8183, dtype=torch.float64, grad_fn=<DivBackward0>),\n",
       " tensor(17.7816, dtype=torch.float64, grad_fn=<DivBackward0>),\n",
       " tensor(17.8041, dtype=torch.float64, grad_fn=<DivBackward0>),\n",
       " tensor(17.8140, dtype=torch.float64, grad_fn=<DivBackward0>),\n",
       " tensor(17.7875, dtype=torch.float64, grad_fn=<DivBackward0>),\n",
       " tensor(17.7795, dtype=torch.float64, grad_fn=<DivBackward0>),\n",
       " tensor(17.7591, dtype=torch.float64, grad_fn=<DivBackward0>),\n",
       " tensor(17.7938, dtype=torch.float64, grad_fn=<DivBackward0>),\n",
       " tensor(17.7492, dtype=torch.float64, grad_fn=<DivBackward0>),\n",
       " tensor(17.7854, dtype=torch.float64, grad_fn=<DivBackward0>),\n",
       " tensor(17.7652, dtype=torch.float64, grad_fn=<DivBackward0>),\n",
       " tensor(17.8067, dtype=torch.float64, grad_fn=<DivBackward0>),\n",
       " tensor(17.7502, dtype=torch.float64, grad_fn=<DivBackward0>),\n",
       " tensor(17.7580, dtype=torch.float64, grad_fn=<DivBackward0>),\n",
       " tensor(17.7142, dtype=torch.float64, grad_fn=<DivBackward0>),\n",
       " tensor(17.7584, dtype=torch.float64, grad_fn=<DivBackward0>),\n",
       " tensor(17.7389, dtype=torch.float64, grad_fn=<DivBackward0>),\n",
       " tensor(17.7750, dtype=torch.float64, grad_fn=<DivBackward0>),\n",
       " tensor(17.7610, dtype=torch.float64, grad_fn=<DivBackward0>),\n",
       " tensor(17.7750, dtype=torch.float64, grad_fn=<DivBackward0>),\n",
       " tensor(17.7471, dtype=torch.float64, grad_fn=<DivBackward0>),\n",
       " tensor(17.6981, dtype=torch.float64, grad_fn=<DivBackward0>),\n",
       " tensor(17.7314, dtype=torch.float64, grad_fn=<DivBackward0>),\n",
       " tensor(17.7016, dtype=torch.float64, grad_fn=<DivBackward0>),\n",
       " tensor(17.6939, dtype=torch.float64, grad_fn=<DivBackward0>),\n",
       " tensor(17.7350, dtype=torch.float64, grad_fn=<DivBackward0>),\n",
       " tensor(17.7324, dtype=torch.float64, grad_fn=<DivBackward0>),\n",
       " tensor(17.6648, dtype=torch.float64, grad_fn=<DivBackward0>),\n",
       " tensor(17.6872, dtype=torch.float64, grad_fn=<DivBackward0>),\n",
       " tensor(17.6786, dtype=torch.float64, grad_fn=<DivBackward0>),\n",
       " tensor(17.7000, dtype=torch.float64, grad_fn=<DivBackward0>),\n",
       " tensor(17.7378, dtype=torch.float64, grad_fn=<DivBackward0>),\n",
       " tensor(17.7473, dtype=torch.float64, grad_fn=<DivBackward0>)]"
      ]
     },
     "execution_count": 11,
     "metadata": {},
     "output_type": "execute_result"
    }
   ],
   "source": [
    "huber_data_t"
   ]
  },
  {
   "cell_type": "code",
   "execution_count": null,
   "metadata": {},
   "outputs": [],
   "source": []
  }
 ],
 "metadata": {
  "kernelspec": {
   "display_name": "Python 3",
   "language": "python",
   "name": "python3"
  },
  "language_info": {
   "codemirror_mode": {
    "name": "ipython",
    "version": 3
   },
   "file_extension": ".py",
   "mimetype": "text/x-python",
   "name": "python",
   "nbconvert_exporter": "python",
   "pygments_lexer": "ipython3",
   "version": "3.7.4"
  }
 },
 "nbformat": 4,
 "nbformat_minor": 2
}
