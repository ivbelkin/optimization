{
 "cells": [
  {
   "cell_type": "code",
   "execution_count": 1,
   "metadata": {},
   "outputs": [],
   "source": [
    "import torch\n",
    "import math\n",
    "import numpy as np\n",
    "import xalglib\n",
    "import matplotlib.pyplot as plt\n",
    "\n",
    "from sklearn.datasets import load_breast_cancer\n",
    "from sklearn.linear_model import LogisticRegression\n",
    "from sklearn.metrics import log_loss\n",
    "\n",
    "from time import clock_gettime, CLOCK_MONOTONIC\n",
    "from CubicEquationSolver import solve as solve_cubic"
   ]
  },
  {
   "cell_type": "markdown",
   "metadata": {},
   "source": [
    "# Problem"
   ]
  },
  {
   "cell_type": "markdown",
   "metadata": {},
   "source": [
    "## sklearn: LogisticRegression"
   ]
  },
  {
   "cell_type": "code",
   "execution_count": 2,
   "metadata": {},
   "outputs": [],
   "source": [
    "X, y = load_breast_cancer(True)\n",
    "X = (X - X.mean(axis=0)) / X.std(axis=0) + np.random.randn(*X.shape)\n",
    "X = np.concatenate((X, np.ones((X.shape[0], 1))), axis=1)"
   ]
  },
  {
   "cell_type": "code",
   "execution_count": 3,
   "metadata": {},
   "outputs": [
    {
     "data": {
      "text/plain": [
       "LogisticRegression(C=1.0, class_weight=None, dual=False, fit_intercept=False,\n",
       "                   intercept_scaling=1, l1_ratio=None, max_iter=100,\n",
       "                   multi_class='warn', n_jobs=None, penalty='none',\n",
       "                   random_state=None, solver='newton-cg', tol=1e-07, verbose=0,\n",
       "                   warm_start=False)"
      ]
     },
     "execution_count": 3,
     "metadata": {},
     "output_type": "execute_result"
    }
   ],
   "source": [
    "log_reg = LogisticRegression(penalty='none', fit_intercept=False, solver='newton-cg', tol=1e-7)\n",
    "log_reg.fit(X, y)"
   ]
  },
  {
   "cell_type": "code",
   "execution_count": 4,
   "metadata": {},
   "outputs": [],
   "source": [
    "x_opt = log_reg.coef_[0]"
   ]
  },
  {
   "cell_type": "code",
   "execution_count": 5,
   "metadata": {},
   "outputs": [
    {
     "data": {
      "text/plain": [
       "array([-0.38768368, -0.49994833, -0.59541948, -0.39849101, -0.46836326,\n",
       "        0.05606896, -0.52595313, -0.64947702, -0.0090894 , -0.05547195,\n",
       "       -0.5520733 ,  0.23525235, -0.12438167, -0.32129765,  0.11368458,\n",
       "        0.07847555,  0.2410645 , -0.36537693, -0.08385033,  0.493171  ,\n",
       "       -0.54010285, -0.96178676, -0.97699409, -0.58642306, -0.42297448,\n",
       "       -0.22330365, -0.26123462, -0.28766289, -0.43890332,  0.10174956,\n",
       "        0.95363823])"
      ]
     },
     "execution_count": 5,
     "metadata": {},
     "output_type": "execute_result"
    }
   ],
   "source": [
    "x_opt"
   ]
  },
  {
   "cell_type": "code",
   "execution_count": 6,
   "metadata": {},
   "outputs": [
    {
     "data": {
      "text/plain": [
       "0.9384885764499121"
      ]
     },
     "execution_count": 6,
     "metadata": {},
     "output_type": "execute_result"
    }
   ],
   "source": [
    "log_reg.score(X, y)"
   ]
  },
  {
   "cell_type": "code",
   "execution_count": 7,
   "metadata": {},
   "outputs": [
    {
     "data": {
      "text/plain": [
       "0.13935816325588316"
      ]
     },
     "execution_count": 7,
     "metadata": {},
     "output_type": "execute_result"
    }
   ],
   "source": [
    "log_loss(y, log_reg.predict_proba(X))"
   ]
  },
  {
   "cell_type": "markdown",
   "metadata": {},
   "source": [
    "## PyTorch: optimization problem"
   ]
  },
  {
   "cell_type": "code",
   "execution_count": 8,
   "metadata": {},
   "outputs": [],
   "source": [
    "X = torch.tensor(X, dtype=torch.float32)\n",
    "y = torch.tensor(y, dtype=torch.float32)\n",
    "\n",
    "x_opt = torch.tensor(x_opt, dtype=torch.float32)\n",
    "N = x_opt.shape[0]\n",
    "\n",
    "x_0 = torch.randn(N)"
   ]
  },
  {
   "cell_type": "code",
   "execution_count": 9,
   "metadata": {},
   "outputs": [],
   "source": [
    "def f(x):\n",
    "    return torch.nn.functional.binary_cross_entropy_with_logits(X @ x, y)"
   ]
  },
  {
   "cell_type": "code",
   "execution_count": 10,
   "metadata": {},
   "outputs": [
    {
     "data": {
      "text/plain": [
       "0.13935816287994385"
      ]
     },
     "execution_count": 10,
     "metadata": {},
     "output_type": "execute_result"
    }
   ],
   "source": [
    "f(x_opt).item()"
   ]
  },
  {
   "cell_type": "code",
   "execution_count": 11,
   "metadata": {},
   "outputs": [
    {
     "data": {
      "text/plain": [
       "3.643639326095581"
      ]
     },
     "execution_count": 11,
     "metadata": {},
     "output_type": "execute_result"
    }
   ],
   "source": [
    "f(x_0).item()"
   ]
  },
  {
   "cell_type": "code",
   "execution_count": 12,
   "metadata": {},
   "outputs": [],
   "source": [
    "def check_optimality(f, x, step=1e-4, eps=1e-7):\n",
    "    n = x.shape[0]\n",
    "    fx = f(x)\n",
    "    for i in range(n):\n",
    "        for s in [-1, 1]:\n",
    "            y = x.clone()\n",
    "            y[i] += s * step\n",
    "            fy = f(y)\n",
    "            if fy < fx - eps:\n",
    "                return False\n",
    "    return True"
   ]
  },
  {
   "cell_type": "code",
   "execution_count": 13,
   "metadata": {},
   "outputs": [
    {
     "data": {
      "text/plain": [
       "False"
      ]
     },
     "execution_count": 13,
     "metadata": {},
     "output_type": "execute_result"
    }
   ],
   "source": [
    "check_optimality(f, x_0)"
   ]
  },
  {
   "cell_type": "code",
   "execution_count": 14,
   "metadata": {},
   "outputs": [
    {
     "data": {
      "text/plain": [
       "True"
      ]
     },
     "execution_count": 14,
     "metadata": {},
     "output_type": "execute_result"
    }
   ],
   "source": [
    "check_optimality(f, x_opt)"
   ]
  },
  {
   "cell_type": "markdown",
   "metadata": {},
   "source": [
    "# Helper functions"
   ]
  },
  {
   "cell_type": "code",
   "execution_count": 15,
   "metadata": {},
   "outputs": [],
   "source": [
    "def d_p(x, p):\n",
    "    '''\n",
    "    Prox-function\n",
    "    '''\n",
    "    return 1 / p * torch.norm(x)**p\n",
    "\n",
    "\n",
    "def gradient(f, x, create_graph=False, retain_graph=None):\n",
    "    '''\n",
    "    Gradient of scalar function 'f' w.r.t. 1-d vector 'x'\n",
    "    '''\n",
    "    return torch.autograd.grad(\n",
    "        outputs=[f],\n",
    "        inputs=[x],\n",
    "        create_graph=create_graph, \n",
    "        retain_graph=retain_graph)[0]\n",
    "\n",
    "\n",
    "def hessian(f, x, create_graph=False):\n",
    "    '''\n",
    "    Hessian of scalar function 'f' w.r.t. 1-d vector 'x'\n",
    "    '''\n",
    "    n = x.shape[0]\n",
    "    h = torch.empty(n, n)\n",
    "    g = gradient(f, x, True)\n",
    "    for i in range(n):\n",
    "        h[i] = gradient(g[i], x, create_graph, True)\n",
    "    return h\n",
    "\n",
    "\n",
    "def D3(f, x, create_graph=False):\n",
    "    n = x.shape[0]\n",
    "    d3 = torch.empty(n, n, n)\n",
    "    g = gradient(f, x, True)\n",
    "    for i in range(n):\n",
    "        d3[i] = hessian(g[i], x, create_graph)\n",
    "    return d3\n",
    "\n",
    "\n",
    "def hessian_vector_product(f, x, v, retain_graph=False):\n",
    "    '''\n",
    "    Hessian-vector product: D^2(f) @ v\n",
    "    '''\n",
    "    grad_f = gradient(f, x, True)\n",
    "    return gradient(grad_f @ v, x, retain_graph=retain_graph)"
   ]
  },
  {
   "cell_type": "code",
   "execution_count": 16,
   "metadata": {},
   "outputs": [
    {
     "name": "stdout",
     "output_type": "stream",
     "text": [
      "F = tensor(14.0625, grad_fn=<ProdBackward0>) \n",
      "\n",
      "g = tensor([18.7500, 11.2500]) \n",
      "\n",
      "h = tensor([[12.5000, 15.0000],\n",
      "        [15.0000,  4.5000]]) \n",
      "\n",
      "h @ e = tensor([27.5000, 19.5000]) \n",
      "\n",
      "d3 = tensor([[[ 2.8610e-06,  1.0000e+01],\n",
      "         [ 1.0000e+01,  6.0000e+00]],\n",
      "\n",
      "        [[ 1.0000e+01,  6.0000e+00],\n",
      "         [ 6.0000e+00, -1.4305e-06]]]) \n",
      "\n"
     ]
    }
   ],
   "source": [
    "def test():\n",
    "    x = torch.tensor([1.5, 2.5], requires_grad=True)\n",
    "    e = torch.tensor([1., 1.])\n",
    "    f = x.pow(2).prod()\n",
    "    print('F =', f, '\\n')\n",
    "\n",
    "    g = gradient(f, x, retain_graph=True)\n",
    "    print('g =', g, '\\n')\n",
    "\n",
    "    h = hessian(f, x)\n",
    "    print('h =', h, '\\n')\n",
    "\n",
    "    he = hessian_vector_product(f, x, e, retain_graph=True)\n",
    "    print('h @ e =', he, '\\n')\n",
    "    \n",
    "    d3 = D3(f, x)\n",
    "    print('d3 =', d3, '\\n')\n",
    "\n",
    "test()"
   ]
  },
  {
   "cell_type": "markdown",
   "metadata": {},
   "source": [
    "# Auxilary problem"
   ]
  },
  {
   "cell_type": "markdown",
   "metadata": {},
   "source": [
    "## Original problem"
   ]
  },
  {
   "cell_type": "code",
   "execution_count": 100,
   "metadata": {},
   "outputs": [],
   "source": [
    "def auxilary_problem_objective(h, A, c, gamma):\n",
    "    value = .5 * A @ h @ h + c @ h + gamma * torch.norm(h)**4 / 4\n",
    "    return value\n",
    "\n",
    "\n",
    "def solve_auxilary_problem_autograd_vanilla_gd(A, c, gamma, h_0, learning_rate=0.001, n_iter=1000):\n",
    "    h = h_0.clone().detach().requires_grad_()\n",
    "    for i in range(n_iter):\n",
    "        value = auxilary_problem_objective(h, A, c, gamma)\n",
    "        grad = gradient(value, h)\n",
    "        with torch.no_grad():\n",
    "            h -= learning_rate * grad\n",
    "    return h\n",
    "\n",
    "\n",
    "def solve_auxilary_problem_analytic_vanilla_gd(A, c, gamma, h_0, learning_rate=0.001, n_iter=1000):\n",
    "    h = h_0.clone().detach()\n",
    "    for i in range(n_iter): \n",
    "        grad = A @ h + c + gamma * torch.norm(h)**2 * h\n",
    "        with torch.no_grad():\n",
    "            h -= learning_rate * grad\n",
    "    return h\n",
    "\n",
    "\n",
    "def solve_auxilary_problem_analytic_gd_grad_norm(A, c, gamma, h_0, learning_rate=0.001, min_grad_norm=1e-3):\n",
    "    h = h_0.clone().detach()\n",
    "    while True:\n",
    "        grad = A @ h + c + gamma * torch.norm(h)**2 * h\n",
    "        grad_norm = torch.norm(grad)\n",
    "        if grad_norm < min_grad_norm:\n",
    "            break\n",
    "        with torch.no_grad():\n",
    "            h -= learning_rate * grad\n",
    "    return h\n",
    "\n",
    "\n",
    "def solve_auxilary_problem_exact_gd_np(A, c, gamma, h_0, min_step_size=1e-5):\n",
    "    h = h_0.clone().detach()\n",
    "    \n",
    "    def opt_learning_rate():\n",
    "        gh = g @ h\n",
    "        hh = h_norm ** 2\n",
    "        gg = g_norm ** 2\n",
    "        a3 =      gamma * gg**2\n",
    "        a2 = -3 * gamma * gg * gh\n",
    "        a1 =  gamma * hh * gg + 2 * gamma * gh**2 + A @ g @ g\n",
    "        a0 = -gamma * hh * gh - Ah @ g - c @ g\n",
    "        root = [r.real for r in np.roots([a3, a2, a1, a0]) if r.imag == 0][0]\n",
    "        return root\n",
    "    \n",
    "    while True:\n",
    "        h_norm = torch.norm(h)\n",
    "        Ah = A @ h\n",
    "        g = Ah + c + gamma * h_norm**2 * h\n",
    "        g_norm = torch.norm(g)\n",
    "        learning_rate = opt_learning_rate()\n",
    "        if g_norm * learning_rate < min_step_size:\n",
    "            break\n",
    "        with torch.no_grad():\n",
    "            h -= learning_rate * g\n",
    "    return h\n",
    "\n",
    "\n",
    "def solve_auxilary_problem_exact_gd(A, c, gamma, h_0, min_step_size=1e-5):\n",
    "    h = h_0.clone().detach()\n",
    "    \n",
    "    def opt_learning_rate():\n",
    "        gh = g @ h\n",
    "        gg = g_norm ** 2\n",
    "        gamma_gg = gamma * gg\n",
    "        gamma_hh = gamma * hh\n",
    "        a3 =      gamma_gg * gg\n",
    "        a2 = -3 * gamma_gg * gh\n",
    "        a1 =  gamma_hh * gg + 2 * gamma * gh**2 + A @ g @ g\n",
    "        a0 = -gamma_hh * gh - Ah @ g - c @ g\n",
    "        root = [r.real for r in solve_cubic(a3.item(), a2.item(), a1.item(), a0.item()) if r.imag == 0][0]\n",
    "        return root\n",
    "    \n",
    "    while True:\n",
    "        h_norm = torch.norm(h)\n",
    "        Ah = A @ h\n",
    "        hh = h_norm ** 2\n",
    "        g = Ah + c + gamma * hh * h\n",
    "        g_norm = torch.norm(g)\n",
    "        learning_rate = opt_learning_rate()\n",
    "        if g_norm * learning_rate < min_step_size:\n",
    "            break\n",
    "        with torch.no_grad():\n",
    "            h -= learning_rate * g\n",
    "    return h\n",
    "\n",
    "\n",
    "def solve_auxilary_problem_exact_newton(A, c, gamma, h_0, min_step_size=1e-5):\n",
    "    h = h_0.clone().detach()\n",
    "    \n",
    "    def opt_learning_rate():\n",
    "        sh = s @ h\n",
    "        ss = s_norm ** 2\n",
    "        gamma_ss = gamma * ss\n",
    "        gamma_hh = gamma * hh\n",
    "        a3 =      gamma_ss * ss\n",
    "        a2 = -3 * gamma_ss * sh\n",
    "        a1 =  gamma_hh * ss + 2 * gamma * sh**2 + A @ s @ s\n",
    "        a0 = -gamma_hh * sh - Ah @ s - c @ s\n",
    "        root = [r.real for r in solve_cubic(a3.item(), a2.item(), a1.item(), a0.item()) if r.imag == 0][0]\n",
    "        return root\n",
    "    \n",
    "    def outer(a, b):\n",
    "        return torch.unsqueeze(a, 1) @ torch.unsqueeze(b, 0)\n",
    "    \n",
    "    I = torch.eye(len(c))\n",
    "    while True:\n",
    "        h_norm = torch.norm(h)\n",
    "        Ah = A @ h\n",
    "        hh = h_norm ** 2\n",
    "        g = Ah + c + gamma * hh * h\n",
    "        H = A + gamma * (2 * outer(h, h) + hh**2 * I)\n",
    "        s = torch.inverse(H) @ g\n",
    "        s_norm = torch.norm(s)\n",
    "        learning_rate = opt_learning_rate()\n",
    "        if s_norm * learning_rate < min_step_size:\n",
    "            break\n",
    "        with torch.no_grad():\n",
    "            h -= learning_rate * s\n",
    "    return h"
   ]
  },
  {
   "cell_type": "code",
   "execution_count": 104,
   "metadata": {},
   "outputs": [],
   "source": [
    "def test(solve, N):\n",
    "    times = []\n",
    "    for _ in range(N):\n",
    "        A = torch.diag(torch.abs(torch.randn(4)))\n",
    "        k = 1\n",
    "        e_k = torch.zeros(4)\n",
    "        e_k[k] = 1\n",
    "        c = (10 + 10 * torch.abs(torch.randn(1))) * e_k\n",
    "        gamma = 100 * torch.abs(torch.randn(1))\n",
    "        h_0 = torch.ones_like(c)\n",
    "        \n",
    "        start = clock_gettime(CLOCK_MONOTONIC)\n",
    "        h = solve(A, c, gamma, h_0)\n",
    "        end = clock_gettime(CLOCK_MONOTONIC)\n",
    "        times.append(end - start)\n",
    "    \n",
    "    print('A =', A, '\\n')\n",
    "    print('c =', c, '\\n')\n",
    "    print('gamma =', gamma, '\\n')\n",
    "    \n",
    "    print('Time:', np.mean(times), '\\n')\n",
    "    print('h =', h)\n",
    "\n",
    "    def f(h):\n",
    "        return c @ h + .5 * h.T @ A @ h + gamma * torch.norm(h)**4 / 4\n",
    "\n",
    "    xx = np.linspace(-2, 2, 1000)\n",
    "    yy = [f(x * e_k) for x in xx]\n",
    "    plt.plot(xx, yy)\n",
    "    y1, y2 = min(yy) - 10, min(yy) + 100\n",
    "    plt.ylim(y1, y2)\n",
    "    plt.plot([h[k], h[k]], [y1, y2])"
   ]
  },
  {
   "cell_type": "code",
   "execution_count": 105,
   "metadata": {},
   "outputs": [
    {
     "name": "stdout",
     "output_type": "stream",
     "text": [
      "A = tensor([[0.1096, 0.0000, 0.0000, 0.0000],\n",
      "        [0.0000, 0.8955, 0.0000, 0.0000],\n",
      "        [0.0000, 0.0000, 2.9592, 0.0000],\n",
      "        [0.0000, 0.0000, 0.0000, 0.4912]]) \n",
      "\n",
      "c = tensor([ 0.0000, 12.4556,  0.0000,  0.0000]) \n",
      "\n",
      "gamma = tensor([32.9035]) \n",
      "\n",
      "Time: 0.27345527603756636 \n",
      "\n",
      "h = tensor([ 4.8263e-08, -7.1085e-01,  2.6497e-09,  3.2737e-08],\n",
      "       requires_grad=True)\n"
     ]
    },
    {
     "data": {
      "image/png": "[encoded data removed]",
      "text/plain": [
       "<Figure size 432x288 with 1 Axes>"
      ]
     },
     "metadata": {
      "needs_background": "light"
     },
     "output_type": "display_data"
    }
   ],
   "source": [
    "test(lambda A, c, gamma, h_0: solve_auxilary_problem_autograd_vanilla_gd(A, c, gamma, h_0), 1)"
   ]
  },
  {
   "cell_type": "code",
   "execution_count": 106,
   "metadata": {},
   "outputs": [
    {
     "name": "stdout",
     "output_type": "stream",
     "text": [
      "A = tensor([[0.8910, 0.0000, 0.0000, 0.0000],\n",
      "        [0.0000, 0.0413, 0.0000, 0.0000],\n",
      "        [0.0000, 0.0000, 0.3414, 0.0000],\n",
      "        [0.0000, 0.0000, 0.0000, 1.2319]]) \n",
      "\n",
      "c = tensor([ 0.0000, 19.1449,  0.0000,  0.0000]) \n",
      "\n",
      "gamma = tensor([127.0375]) \n",
      "\n",
      "Time: 0.036763291119132194 \n",
      "\n",
      "h = tensor([ 3.7768e-17, -5.3195e-01,  6.6838e-17,  2.6504e-17])\n"
     ]
    },
    {
     "data": {
      "image/png": "[encoded data removed]",
      "text/plain": [
       "<Figure size 432x288 with 1 Axes>"
      ]
     },
     "metadata": {
      "needs_background": "light"
     },
     "output_type": "display_data"
    }
   ],
   "source": [
    "test(lambda A, c, gamma, h_0: solve_auxilary_problem_analytic_vanilla_gd(A, c, gamma, h_0), 100)"
   ]
  },
  {
   "cell_type": "code",
   "execution_count": 107,
   "metadata": {},
   "outputs": [
    {
     "name": "stdout",
     "output_type": "stream",
     "text": [
      "A = tensor([[0.7162, 0.0000, 0.0000, 0.0000],\n",
      "        [0.0000, 0.5570, 0.0000, 0.0000],\n",
      "        [0.0000, 0.0000, 1.4342, 0.0000],\n",
      "        [0.0000, 0.0000, 0.0000, 0.9943]]) \n",
      "\n",
      "c = tensor([ 0.0000, 14.8513,  0.0000,  0.0000]) \n",
      "\n",
      "gamma = tensor([81.2471]) \n",
      "\n",
      "Time: 0.02362149994063657 \n",
      "\n",
      "h = tensor([ 2.3829e-05, -5.6350e-01,  1.7879e-05,  2.1320e-05])\n"
     ]
    },
    {
     "data": {
      "image/png": "[encoded data removed]",
      "text/plain": [
       "<Figure size 432x288 with 1 Axes>"
      ]
     },
     "metadata": {
      "needs_background": "light"
     },
     "output_type": "display_data"
    }
   ],
   "source": [
    "test(lambda A, c, gamma, h_0: solve_auxilary_problem_analytic_gd_grad_norm(A, c, gamma, h_0), 100)"
   ]
  },
  {
   "cell_type": "code",
   "execution_count": 108,
   "metadata": {},
   "outputs": [
    {
     "name": "stdout",
     "output_type": "stream",
     "text": [
      "A = tensor([[0.0899, 0.0000, 0.0000, 0.0000],\n",
      "        [0.0000, 0.8611, 0.0000, 0.0000],\n",
      "        [0.0000, 0.0000, 1.6728, 0.0000],\n",
      "        [0.0000, 0.0000, 0.0000, 1.2048]]) \n",
      "\n",
      "c = tensor([ 0.0000, 10.1719,  0.0000,  0.0000]) \n",
      "\n",
      "gamma = tensor([86.8391]) \n",
      "\n",
      "Time: 0.004277552405372262 \n",
      "\n",
      "h = tensor([-1.0453e-05, -4.8253e-01, -2.9255e-06, -4.3344e-06])\n"
     ]
    },
    {
     "data": {
      "image/png": "[encoded data removed]",
      "text/plain": [
       "<Figure size 432x288 with 1 Axes>"
      ]
     },
     "metadata": {
      "needs_background": "light"
     },
     "output_type": "display_data"
    }
   ],
   "source": [
    "test(lambda A, c, gamma, h_0: solve_auxilary_problem_exact_gd_np(A, c, gamma, h_0), 1000)"
   ]
  },
  {
   "cell_type": "code",
   "execution_count": 109,
   "metadata": {},
   "outputs": [
    {
     "name": "stdout",
     "output_type": "stream",
     "text": [
      "A = tensor([[1.0099, 0.0000, 0.0000, 0.0000],\n",
      "        [0.0000, 0.1021, 0.0000, 0.0000],\n",
      "        [0.0000, 0.0000, 1.0854, 0.0000],\n",
      "        [0.0000, 0.0000, 0.0000, 2.7751]]) \n",
      "\n",
      "c = tensor([ 0.0000, 17.1731,  0.0000,  0.0000]) \n",
      "\n",
      "gamma = tensor([118.5648]) \n",
      "\n",
      "Time: 0.0026054312296328137 \n",
      "\n",
      "h = tensor([-6.8357e-06, -5.2462e-01, -6.5855e-06, -2.7539e-06])\n"
     ]
    },
    {
     "data": {
      "image/png": "[encoded data removed]",
      "text/plain": [
       "<Figure size 432x288 with 1 Axes>"
      ]
     },
     "metadata": {
      "needs_background": "light"
     },
     "output_type": "display_data"
    }
   ],
   "source": [
    "test(lambda A, c, gamma, h_0: solve_auxilary_problem_exact_gd(A, c, gamma, h_0), 1000)"
   ]
  },
  {
   "cell_type": "code",
   "execution_count": 110,
   "metadata": {},
   "outputs": [
    {
     "name": "stdout",
     "output_type": "stream",
     "text": [
      "A = tensor([[0.5111, 0.0000, 0.0000, 0.0000],\n",
      "        [0.0000, 0.3089, 0.0000, 0.0000],\n",
      "        [0.0000, 0.0000, 0.2689, 0.0000],\n",
      "        [0.0000, 0.0000, 0.0000, 0.2600]]) \n",
      "\n",
      "c = tensor([ 0.0000, 35.5282,  0.0000,  0.0000]) \n",
      "\n",
      "gamma = tensor([22.3025]) \n",
      "\n",
      "Time: 0.002009293533512391 \n",
      "\n",
      "h = tensor([-2.4945e-06, -1.1640e+00, -2.6464e-06, -2.6521e-06])\n"
     ]
    },
    {
     "data": {
      "image/png": "[encoded data removed]",
      "text/plain": [
       "<Figure size 432x288 with 1 Axes>"
      ]
     },
     "metadata": {
      "needs_background": "light"
     },
     "output_type": "display_data"
    }
   ],
   "source": [
    "test(lambda A, c, gamma, h_0: solve_auxilary_problem_exact_newton(A, c, gamma, h_0), 1000)"
   ]
  },
  {
   "cell_type": "code",
   "execution_count": 247,
   "metadata": {},
   "outputs": [],
   "source": [
    "def tridiag(d, e):\n",
    "    '''\n",
    "    Construct symmetric tridiagonal matrix from its main diagonal d and \n",
    "    above/below main diagonals equal to e\n",
    "    '''\n",
    "    return torch.diag(d) + torch.diag(e, -1) + torch.diag(e, 1)\n",
    "\n",
    "\n",
    "def utu_decomposition(A):  # TODO\n",
    "    '''\n",
    "    Decomposition of symmetric matrix A to U @ T @ U.T, where\n",
    "    U - symmetric ortogonal matrix, T - symmetric tridiagonla matrix\n",
    "    '''\n",
    "    a = A.tolist()\n",
    "    N = len(a)\n",
    "    a, tau, d, e = xalglib.smatrixtd(a, N, True)\n",
    "    u = xalglib.smatrixtdunpackq(a, N, True, tau)\n",
    "    U = torch.tensor(u)\n",
    "    T = tridiag(torch.tensor(d), torch.tensor(e))\n",
    "    return T, U\n",
    "\n",
    "\n",
    "def auxilary_problem_objective(h, A, c, gamma):\n",
    "    value = .5 * A @ h @ h + c @ h +gamma * torch.norm(h)**4 / 4\n",
    "    return value\n",
    "\n",
    "\n",
    "def solve_auxilary_problem_autograd_vanilla_gd(A, c, gamma, h_0, learning_rate=0.001, n_iter=1000):\n",
    "    h = h_0.clone().detach().requires_grad_()\n",
    "    for i in range(n_iter):\n",
    "        value = auxilary_problem_objective(h, A, c, gamma)\n",
    "        grad = gradient(value, h)\n",
    "        with torch.no_grad():\n",
    "            h -= learning_rate * grad\n",
    "    return h\n",
    "\n",
    "\n",
    "def solve_auxilary_problem_analytic_vanilla_gd(A, c, gamma, h_0, learning_rate=0.001, n_iter=1000):\n",
    "    h = h_0.clone().detach()\n",
    "    for i in range(n_iter): \n",
    "        grad = A @ h + c + gamma * torch.norm(h)**2 * h\n",
    "        with torch.no_grad():\n",
    "            h -= learning_rate * grad\n",
    "    return h\n",
    "\n",
    "\n",
    "def solve_auxilary_problem_analytic_gd_grad_norm(A, c, gamma, h_0, learning_rate=0.001, grad_norm=1e-5):\n",
    "    h = h_0.clone().detach()\n",
    "    \n",
    "    for i in range(n_iter): \n",
    "        grad = A @ h + c + gamma * torch.norm(h)**2 * h\n",
    "        with torch.no_grad():\n",
    "            h -= learning_rate * grad\n",
    "    return h\n",
    "\n",
    "\n",
    "def solve_auxilary_problem_analytic_vanilla_gd(A, c, gamma, h_0, learning_rate=0.001, n_iter=1000):\n",
    "    h = h_0.clone().detach()\n",
    "    for i in range(n_iter): \n",
    "        grad = A @ h + c + gamma * torch.norm(h)**2 * h\n",
    "        with torch.no_grad():\n",
    "            h -= learning_rate * grad\n",
    "    return h\n",
    "\n",
    "\n",
    "# def auxilary_subproblem_objective(tau, T, c_tilda, gamma):\n",
    "#     I = torch.eye(len(c_tilda))\n",
    "#     value = tau**2 + .5 * c_tilda.T @ torch.inverse(2 * math.sqrt(gamma) * tau * I + T) @ c_tilda\n",
    "#     return value\n",
    "\n",
    "\n",
    "# def solve_auxilary_subproblem(T, c_tilda, gamma, learning_rate=0.1, n_iter=100):\n",
    "#     tau = torch.tensor(1, dtype=torch.float32, requires_grad=True)\n",
    "#     for i in range(n_iter):  # TODO\n",
    "#         value = auxilary_subproblem_objective(tau, T, c_tilda, gamma)\n",
    "#         grad = gradient(value, tau)\n",
    "#         with torch.no_grad():\n",
    "#             tau -= learning_rate * grad\n",
    "#     return tau\n",
    "\n",
    "\n",
    "# def solve_auxilary_problem(A, c, gamma, learning_rate=0.1, n_iter=100):\n",
    "#     T, U = utu_decomposition(A)\n",
    "#     c_tilda = U.T @ c\n",
    "    \n",
    "#     tau = solve_auxilary_subproblem(T, c_tilda, gamma, learning_rate, n_iter)\n",
    "#     assert tau > 0\n",
    "#     I = torch.eye(len(c_tilda))\n",
    "#     h = -U @ torch.inverse(2 * math.sqrt(gamma) * tau * I + T) @ c_tilda\n",
    "    \n",
    "#     return h\n",
    "\n",
    "\n",
    "def solve_auxilary_problem_exact_gd(A, c, gamma, h_0, ):\n",
    "    h = h_0.clone().detach()\n",
    "    for i in range(n_iter): \n",
    "        grad = A @ h + c + gamma * torch.norm(h)**2 * h\n",
    "        with torch.no_grad():\n",
    "            h -= learning_rate * grad\n",
    "    return h"
   ]
  },
  {
   "cell_type": "code",
   "execution_count": 249,
   "metadata": {},
   "outputs": [
    {
     "name": "stdout",
     "output_type": "stream",
     "text": [
      "A = tensor([[0.8327, 0.0000, 0.0000, 0.0000],\n",
      "        [0.0000, 0.0684, 0.0000, 0.0000],\n",
      "        [0.0000, 0.0000, 0.8428, 0.0000],\n",
      "        [0.0000, 0.0000, 0.0000, 0.0840]]) \n",
      "\n",
      "c = tensor([ 0.0000, 25.9040,  0.0000,  0.0000]) \n",
      "\n",
      "gamma = tensor([13.1424]) \n",
      "\n",
      "h = tensor([ 6.4381e-10, -1.2524e+00,  6.3726e-10,  1.3828e-09])\n"
     ]
    },
    {
     "data": {
      "image/png": "[encoded data removed]",
      "text/plain": [
       "<Figure size 432x288 with 1 Axes>"
      ]
     },
     "metadata": {
      "needs_background": "light"
     },
     "output_type": "display_data"
    }
   ],
   "source": [
    "def test(solve):\n",
    "    A = torch.diag(torch.abs(torch.randn(4)))\n",
    "    k = 1\n",
    "    e_k = torch.zeros(4)\n",
    "    e_k[k] = 1\n",
    "    c = (10 + 10 * torch.abs(torch.randn(1))) * e_k\n",
    "    gamma = 100 * torch.abs(torch.randn(1))\n",
    "    h_0 = torch.ones_like(c)\n",
    "\n",
    "    print('A =', A, '\\n')\n",
    "    print('c =', c, '\\n')\n",
    "    print('gamma =', gamma, '\\n')\n",
    "\n",
    "    \n",
    "    h = solve_auxilary_problem_analytic_vanilla_gd(A, c, gamma, h_0)\n",
    "    print('h =', h)\n",
    "\n",
    "    def f(h):\n",
    "        return c @ h + .5 * h.T @ A @ h + gamma * torch.norm(h)**4 / 4\n",
    "\n",
    "    xx = np.linspace(-2, 2, 1000)\n",
    "    yy = [f(x * e_k) for x in xx]\n",
    "    plt.plot(xx, yy)\n",
    "    y1, y2 = min(yy) - 10, min(yy) + 100\n",
    "    plt.ylim(y1, y2)\n",
    "    plt.plot([h[k], h[k]], [y1, y2])\n",
    "\n",
    "test()"
   ]
  },
  {
   "cell_type": "code",
   "execution_count": 238,
   "metadata": {},
   "outputs": [
    {
     "name": "stdout",
     "output_type": "stream",
     "text": [
      "A = tensor([[-1., -2.,  1.,  2.],\n",
      "        [-2.,  3.,  0., -2.],\n",
      "        [ 1.,  0.,  2.,  1.],\n",
      "        [ 2., -2.,  1.,  4.]]) \n",
      "\n",
      "T = tensor([[ 1.9867,  0.9067,  0.0000,  0.0000],\n",
      "        [ 0.9067, -1.3200, -1.6667,  0.0000],\n",
      "        [ 0.0000, -1.6667,  3.3333, -3.0000],\n",
      "        [ 0.0000,  0.0000, -3.0000,  4.0000]]) \n",
      "\n",
      "U = tensor([[ 0.1333, -0.7333, -0.6667,  0.0000],\n",
      "        [-0.3333, -0.6667,  0.6667,  0.0000],\n",
      "        [-0.9333,  0.1333, -0.3333,  0.0000],\n",
      "        [ 0.0000,  0.0000,  0.0000,  1.0000]]) \n",
      "\n",
      "U @ T @ U.T = tensor([[-1.0000e+00, -2.0000e+00,  1.0000e+00,  2.0000e+00],\n",
      "        [-2.0000e+00,  3.0000e+00,  8.1956e-08, -2.0000e+00],\n",
      "        [ 1.0000e+00,  0.0000e+00,  2.0000e+00,  1.0000e+00],\n",
      "        [ 2.0000e+00, -2.0000e+00,  1.0000e+00,  4.0000e+00]]) \n",
      "\n"
     ]
    }
   ],
   "source": [
    "def test():\n",
    "    A = torch.tensor([\n",
    "        [-1, -2, 1, 2],\n",
    "        [-2, 3, 0, -2],\n",
    "        [1, 0, 2, 1],\n",
    "        [2, -2, 1, 4]\n",
    "    ], dtype=torch.float32)\n",
    "    c = torch.ones(4)\n",
    "    gamma = 1\n",
    "\n",
    "    T, U = utu_decomposition(A)\n",
    "    print('A =', A, '\\n')\n",
    "    print('T =', T, '\\n')\n",
    "    print('U =', U, '\\n')\n",
    "    print('U @ T @ U.T =', U @ T @ U.T, '\\n')\n",
    "\n",
    "test()"
   ]
  },
  {
   "cell_type": "code",
   "execution_count": 239,
   "metadata": {},
   "outputs": [
    {
     "name": "stdout",
     "output_type": "stream",
     "text": [
      "A = tensor([[ 0.2438,  0.0425,  0.0764,  0.1000],\n",
      "        [ 0.0425,  0.3516, -0.0119, -0.0956],\n",
      "        [ 0.0764, -0.0119,  0.1758,  0.0230],\n",
      "        [ 0.1000, -0.0956,  0.0230,  0.2441]]) \n",
      "\n",
      "T = tensor([[ 0.3091,  0.0882,  0.0000,  0.0000],\n",
      "        [ 0.0882,  0.1908,  0.0648,  0.0000],\n",
      "        [ 0.0000,  0.0648,  0.2713, -0.1402],\n",
      "        [ 0.0000,  0.0000, -0.1402,  0.2441]]) \n",
      "\n",
      "U = tensor([[ 0.4269,  0.5564, -0.7128,  0.0000],\n",
      "        [ 0.6076,  0.4074,  0.6818,  0.0000],\n",
      "        [ 0.6698, -0.7242, -0.1642,  0.0000],\n",
      "        [ 0.0000,  0.0000,  0.0000,  1.0000]]) \n",
      "\n",
      "U @ T @ U.T = tensor([[ 0.2438,  0.0425,  0.0764,  0.1000],\n",
      "        [ 0.0425,  0.3516, -0.0119, -0.0956],\n",
      "        [ 0.0764, -0.0119,  0.1758,  0.0230],\n",
      "        [ 0.1000, -0.0956,  0.0230,  0.2441]]) \n",
      "\n",
      "tau = tensor(0.8679, requires_grad=True) \n",
      "\n"
     ]
    },
    {
     "data": {
      "image/png": "[encoded data removed]",
      "text/plain": [
       "<Figure size 432x288 with 1 Axes>"
      ]
     },
     "metadata": {
      "needs_background": "light"
     },
     "output_type": "display_data"
    }
   ],
   "source": [
    "def test():\n",
    "    c = torch.randn(4)\n",
    "    x = torch.randn(4, requires_grad=True)\n",
    "    f = -sum(torch.log(torch.sigmoid(x @ torch.randn(4))) for _ in range(10))\n",
    "    A = hessian(f, x)\n",
    "    gamma = 1\n",
    "\n",
    "    T, U = utu_decomposition(A)\n",
    "    print('A =', A, '\\n')\n",
    "    print('T =', T, '\\n')\n",
    "    print('U =', U, '\\n')\n",
    "    print('U @ T @ U.T =', U @ T @ U.T, '\\n')\n",
    "\n",
    "    tau = solve_auxilary_subproblem(T, c, gamma, 0.1)\n",
    "    print('tau =', tau, '\\n')\n",
    "\n",
    "    xx = np.linspace(-2, 5, 1000)\n",
    "    y = [auxilary_subproblem_objective(x, T, c, gamma) for x in xx]\n",
    "    plt.plot(xx, y)\n",
    "    plt.ylim(-5, 5)\n",
    "    plt.plot([tau, tau], [-5, 5])\n",
    "\n",
    "test()"
   ]
  },
  {
   "cell_type": "code",
   "execution_count": 240,
   "metadata": {},
   "outputs": [
    {
     "name": "stdout",
     "output_type": "stream",
     "text": [
      "A = tensor([[0.8517, 0.0000, 0.0000, 0.0000],\n",
      "        [0.0000, 0.4831, 0.0000, 0.0000],\n",
      "        [0.0000, 0.0000, 0.9770, 0.0000],\n",
      "        [0.0000, 0.0000, 0.0000, 0.6764]]) \n",
      "\n",
      "c = tensor([ 0.0000, 18.0366,  0.0000,  0.0000]) \n",
      "\n",
      "gamma = tensor([3.9940]) \n",
      "\n",
      "h = tensor([ 0.0000, -1.6285,  0.0000,  0.0000], grad_fn=<MvBackward>)\n"
     ]
    },
    {
     "data": {
      "image/png": "[encoded data removed]",
      "text/plain": [
       "<Figure size 432x288 with 1 Axes>"
      ]
     },
     "metadata": {
      "needs_background": "light"
     },
     "output_type": "display_data"
    }
   ],
   "source": [
    "def test():\n",
    "    A = torch.diag(torch.abs(torch.randn(4)))\n",
    "    k = 1\n",
    "    e_k = torch.zeros(4)\n",
    "    e_k[k] = 1\n",
    "    c = (10 + 10 * torch.abs(torch.randn(1))) * e_k\n",
    "    gamma = 100 * torch.abs(torch.randn(1))\n",
    "\n",
    "    print('A =', A, '\\n')\n",
    "    print('c =', c, '\\n')\n",
    "    print('gamma =', gamma, '\\n')\n",
    "\n",
    "    h = solve_auxilary_problem(A, c, gamma)\n",
    "    print('h =', h)\n",
    "\n",
    "    def f(h):\n",
    "        return c @ h + .5 * c.T @ A @ c + gamma * torch.norm(h)**4 / 4\n",
    "\n",
    "    xx = np.linspace(-2, 2, 1000)\n",
    "    yy = [f(x * e_k) for x in xx]\n",
    "    plt.plot(xx, yy)\n",
    "    y1, y2 = min(yy) - 10, min(yy) + 100\n",
    "    plt.ylim(y1, y2)\n",
    "    plt.plot([h[k], h[k]], [y1, y2])\n",
    "\n",
    "test()"
   ]
  },
  {
   "cell_type": "code",
   "execution_count": 242,
   "metadata": {},
   "outputs": [
    {
     "name": "stdout",
     "output_type": "stream",
     "text": [
      "A = tensor([[1.4197, 0.0000, 0.0000, 0.0000],\n",
      "        [0.0000, 0.1215, 0.0000, 0.0000],\n",
      "        [0.0000, 0.0000, 0.0601, 0.0000],\n",
      "        [0.0000, 0.0000, 0.0000, 1.0137]]) \n",
      "\n",
      "c = tensor([ 0.0000, 14.6713,  0.0000,  0.0000]) \n",
      "\n",
      "gamma = tensor([73.0526]) \n",
      "\n",
      "h = tensor([ 2.0976e-12, -5.8467e-01,  8.4703e-12,  3.1826e-12],\n",
      "       requires_grad=True)\n"
     ]
    },
    {
     "data": {
      "image/png": "[encoded data removed]",
      "text/plain": [
       "<Figure size 432x288 with 1 Axes>"
      ]
     },
     "metadata": {
      "needs_background": "light"
     },
     "output_type": "display_data"
    }
   ],
   "source": [
    "def test():\n",
    "    A = torch.diag(torch.abs(torch.randn(4)))\n",
    "    k = 1\n",
    "    e_k = torch.zeros(4)\n",
    "    e_k[k] = 1\n",
    "    c = (10 + 10 * torch.abs(torch.randn(1))) * e_k\n",
    "    gamma = 100 * torch.abs(torch.randn(1))\n",
    "    h_0 = torch.ones_like(c)\n",
    "\n",
    "    print('A =', A, '\\n')\n",
    "    print('c =', c, '\\n')\n",
    "    print('gamma =', gamma, '\\n')\n",
    "\n",
    "    h = solve_auxilary_problem_dummy_gd(A, c, gamma, h_0)\n",
    "    print('h =', h)\n",
    "\n",
    "    def f(h):\n",
    "        return c @ h + .5 * h.T @ A @ h + gamma * torch.norm(h)**4 / 4\n",
    "\n",
    "    xx = np.linspace(-2, 2, 1000)\n",
    "    yy = [f(x * e_k) for x in xx]\n",
    "    plt.plot(xx, yy)\n",
    "    y1, y2 = min(yy) - 10, min(yy) + 100\n",
    "    plt.ylim(y1, y2)\n",
    "    plt.plot([h[k], h[k]], [y1, y2])\n",
    "\n",
    "test()"
   ]
  },
  {
   "cell_type": "markdown",
   "metadata": {},
   "source": [
    "# Bregman-distance gradient method"
   ]
  },
  {
   "cell_type": "code",
   "execution_count": 111,
   "metadata": {},
   "outputs": [],
   "source": [
    "def BDGM(f, x_tilda_k, eps, L3):\n",
    "    \n",
    "    f_x_tilda_k = f(x_tilda_k)\n",
    "    g_x_tilda_k = gradient(f_x_tilda_k, x_tilda_k, retain_graph=True)\n",
    "    H_x_tilda_k = hessian(f_x_tilda_k, x_tilda_k)\n",
    "    \n",
    "    delta = 0.001 * eps**1.5 / (torch.norm(g_x_tilda_k)**0.5 + torch.norm(H_x_tilda_k)**1.5 / L3**0.5)\n",
    "    \n",
    "    d3 = D3(f_x_tilda_k, x_tilda_k)\n",
    "    def phi_k():  # z = z_i, h_i = z - x_tilda_k\n",
    "        return g_x_tilda_k @ h_i + H_x_tilda_k @ h_i @ h_i + d3 @ h_i @ h_i @ h_i + L3 * torch.norm(h_i)**4 / 4\n",
    "    \n",
    "    z_0 = x_tilda_k\n",
    "    tau = 3 * delta / (8 * (2 + math.sqrt(2)) * torch.norm(g_x_tilda_k))\n",
    "    print('tau', tau)\n",
    "    \n",
    "    \n",
    "    def rho_k(z):\n",
    "        '''\n",
    "        Scaling function\n",
    "        '''\n",
    "        v = z - x_tilda_k\n",
    "        return .5 * H_x_tilda_k @ v @ v + L3 * d_p(v, 4)\n",
    "    \n",
    "    def beta_rho_k(z_i, z):\n",
    "        '''\n",
    "        Bregman distance\n",
    "        '''\n",
    "        grad_rho_k = gradient(rho_k(z_i), z_i)\n",
    "        return rho_k(z) - rho_k(z_i) - grad_rho_k @ (z - z_i)\n",
    "    \n",
    "    def g_x_tilda_k_tau():  # z = z_i, h_i = z - x_tilda_k\n",
    "        x_p = x_tilda_k + tau * h_i\n",
    "        grad_g_p = gradient(f(x_p), x_p)\n",
    "        x_n = x_tilda_k - tau * h_i\n",
    "        grad_g_n = gradient(f(x_n), x_n)\n",
    "        r = 1 / tau**2 * (grad_g_p + grad_g_n - 2 * g_x_tilda_k)\n",
    "        return r\n",
    "    \n",
    "    def g_phi_k_tau():  # z = z_i, h_i = z - x_tilda_k\n",
    "        return g_x_tilda_k + H_x_tilda_k @ h_i + g_x_tilda_k_tau() + L3 * (h_i**2).sum() * h_i\n",
    "    \n",
    "    def auxilary_subproblem_dummy_objective(z, g_phi_k_tau_z_i, z_i): \n",
    "        value = g_phi_k_tau_z_i @ (z - z_i) + 2 * (1 + 2**(-.5)) * beta_rho_k(z_i, z)\n",
    "        return value\n",
    "    \n",
    "    i = 0\n",
    "    z_i = z_0\n",
    "    while True:\n",
    "        h_i = z_i - x_tilda_k\n",
    "        g_phi_k_tau_z_i = g_phi_k_tau()\n",
    "        grad_f_z_i = gradient(f(z_i), z_i)\n",
    "        if torch.norm(g_phi_k_tau_z_i) <= 1 / 6 * torch.norm(grad_f_z_i) - delta:\n",
    "            break\n",
    "        else:\n",
    "            A = (2 + math.sqrt(2)) * H_x_tilda_k\n",
    "            c = g_phi_k_tau_z_i - (2 + math.sqrt(2)) * (H_x_tilda_k @ h_i + L3 * (h_i**2).sum() * h_i)\n",
    "            gamma = L3 * (2 + math.sqrt(2))    \n",
    "#             h = solve_auxilary_problem_dummy_gd(A, c, gamma, h_i, 0.01, n_iter=10)\n",
    "            h = solve_auxilary_problem_exact_newton(A, c, gamma, h_i)\n",
    "#             h = solve_auxilary_problem(A, c, gamma, 0.1, n_iter=100)\n",
    "            z_i = h + x_tilda_k\n",
    "        i += 1\n",
    "    return z_i"
   ]
  },
  {
   "cell_type": "code",
   "execution_count": 112,
   "metadata": {},
   "outputs": [],
   "source": [
    "x_tilda_k = torch.randn(31, requires_grad=True)"
   ]
  },
  {
   "cell_type": "code",
   "execution_count": 113,
   "metadata": {},
   "outputs": [
    {
     "name": "stdout",
     "output_type": "stream",
     "text": [
      "tau tensor(1.0565e-12)\n",
      "z_opt = tensor([-0.0928,  0.9449,  0.5484,  1.4973, -0.8897, -0.8999, -0.7231,  0.2762,\n",
      "        -0.0503, -0.7530,  0.8606,  0.8191, -0.7624,  1.7919,  0.7930, -0.8607,\n",
      "        -0.7377, -0.1169, -0.5392,  1.7049,  0.0291, -1.4393, -0.5162,  0.2789,\n",
      "         0.5215,  0.2765, -0.0187, -0.8880, -0.8141, -0.6053, -2.2244],\n",
      "       grad_fn=<AddBackward0>)\n",
      "z_opt is feasible: tensor(True)\n",
      "phi_k(z_opt) = tensor(-0.7945, grad_fn=<AddBackward0>)\n",
      "z_opt is optimal: True\n",
      "z_opt is optimal: True\n",
      "z_opt is optimal: True\n",
      "z_opt is optimal: True\n",
      "z_opt is optimal: False\n",
      "z_opt is optimal: False\n",
      "z_opt is optimal: False\n",
      "CPU times: user 361 ms, sys: 20.1 ms, total: 381 ms\n",
      "Wall time: 382 ms\n"
     ]
    }
   ],
   "source": [
    "%%time\n",
    "def test():\n",
    "    def f(x):\n",
    "        return torch.nn.functional.binary_cross_entropy_with_logits(X @ x, y)\n",
    "\n",
    "    f_x_tilda_k = f(x_tilda_k)\n",
    "    g = gradient(f_x_tilda_k, x_tilda_k, retain_graph=True)\n",
    "    h = hessian(f_x_tilda_k, x_tilda_k)\n",
    "    d3 = D3(f_x_tilda_k, x_tilda_k)\n",
    "    \n",
    "    L3 = 5\n",
    "    eps = 1e-5\n",
    "    \n",
    "    def phi_k(z):\n",
    "        y = z - x_tilda_k\n",
    "        return g @ y + h @ y @ y + d3 @ y @ y @ y + L3 * torch.norm(y)**4 / 4\n",
    "\n",
    "    def is_feasible(z):\n",
    "        return torch.norm(z - x_tilda_k) <= 2 * ((2 + math.sqrt(2)) * torch.norm(g) / L3) ** (1/3)\n",
    "\n",
    "    z_opt = BDGM(f, x_tilda_k, eps, L3)\n",
    "    print('z_opt =', z_opt)\n",
    "    print('z_opt is feasible:', is_feasible(z_opt))\n",
    "    \n",
    "    print('phi_k(z_opt) =', phi_k(z_opt))\n",
    "    print('z_opt is optimal:', check_optimality(phi_k, z_opt, eps=1e-1))\n",
    "    print('z_opt is optimal:', check_optimality(phi_k, z_opt, eps=1e-2))\n",
    "    print('z_opt is optimal:', check_optimality(phi_k, z_opt, eps=1e-3))\n",
    "    print('z_opt is optimal:', check_optimality(phi_k, z_opt, eps=1e-4))\n",
    "    print('z_opt is optimal:', check_optimality(phi_k, z_opt, eps=1e-5))\n",
    "    print('z_opt is optimal:', check_optimality(phi_k, z_opt, eps=1e-6))\n",
    "    print('z_opt is optimal:', check_optimality(phi_k, z_opt, eps=1e-7))\n",
    "\n",
    "test()"
   ]
  },
  {
   "cell_type": "markdown",
   "metadata": {},
   "source": [
    "# Hyperfast Second-Order Method"
   ]
  },
  {
   "cell_type": "code",
   "execution_count": 114,
   "metadata": {},
   "outputs": [],
   "source": [
    "def square_norm(x):\n",
    "    return torch.sum(torch.tensor(x)**2)\n",
    "\n",
    "def hyperfast_second_order_method(f, y_0, K, L3, eps):\n",
    "    '''\n",
    "    Algorithm 2: Hyperfast Second-Order Method\n",
    "    '''\n",
    "    A_0 = 0\n",
    "    x_0 = y_0 \n",
    "    x_tilda_k = x_0\n",
    "    A_k = A_0\n",
    "    x_k = x_0\n",
    "    y_k = y_0\n",
    "    for k in range(K):\n",
    "        y_k_plus_1 = BDGM(f, x_tilda_k, eps, L3)\n",
    "        y_k_plus_1.requires_grad_()\n",
    "        lambda_min = 2 / (3 * L3 * square_norm(y_k_plus_1 - x_tilda_k))\n",
    "        lambda_max = 1 / (L3 * square_norm(y_k_plus_1 - x_tilda_k))\n",
    "        lambda_k_plus_1 = (lambda_min + lambda_max) / 2\n",
    "        a_k_plus_1 = 1 / 2 * (lambda_k_plus_1 +\n",
    "                              (lambda_k_plus_1 ** 2 +\n",
    "                               4 * lambda_k_plus_1 * A_k) ** 0.5)\n",
    "        A_k_plus_1 = a_k_plus_1 + A_k\n",
    "        x_tilda_k = A_k * y_k / A_k_plus_1 + a_k_plus_1 * x_k / A_k_plus_1\n",
    "        x_k = x_k - a_k_plus_1 * torch.autograd.grad([f(y_k_plus_1)],\n",
    "                                                     [y_k_plus_1],\n",
    "                                                     create_graph=True)[0]\n",
    "        A_k = A_k_plus_1\n",
    "        y_k = y_k_plus_1\n",
    "        print(f(y_k))\n",
    "    return y_k"
   ]
  },
  {
   "cell_type": "code",
   "execution_count": 115,
   "metadata": {},
   "outputs": [],
   "source": [
    "y_0 = torch.randn(31, requires_grad=True)"
   ]
  },
  {
   "cell_type": "code",
   "execution_count": 116,
   "metadata": {},
   "outputs": [
    {
     "data": {
      "text/plain": [
       "tensor([-0.1212,  0.2601,  1.2544,  1.2722,  0.4307,  0.7626,  0.1265,  1.7399,\n",
       "         1.2731,  0.8507,  0.3354,  0.9370,  0.5492,  0.6232,  2.3543,  1.1617,\n",
       "         0.3652, -0.1429, -0.8056, -1.0400, -0.2781, -0.9828, -1.1914,  0.1749,\n",
       "        -0.7071,  1.4448,  0.7490,  0.1741,  0.0506, -0.6432,  1.0566],\n",
       "       requires_grad=True)"
      ]
     },
     "execution_count": 116,
     "metadata": {},
     "output_type": "execute_result"
    }
   ],
   "source": [
    "y_0"
   ]
  },
  {
   "cell_type": "code",
   "execution_count": 117,
   "metadata": {},
   "outputs": [
    {
     "name": "stdout",
     "output_type": "stream",
     "text": [
      "tau tensor(7.5764e-13)\n",
      "tensor(3.9797, grad_fn=<BinaryCrossEntropyWithLogitsBackward>)\n",
      "tau tensor(7.5764e-13)\n",
      "tensor(3.9797, grad_fn=<BinaryCrossEntropyWithLogitsBackward>)\n"
     ]
    },
    {
     "name": "stderr",
     "output_type": "stream",
     "text": [
      "/home/ivb/miniconda3/envs/nlp/lib/python3.7/site-packages/ipykernel_launcher.py:2: UserWarning: To copy construct from a tensor, it is recommended to use sourceTensor.clone().detach() or sourceTensor.clone().detach().requires_grad_(True), rather than torch.tensor(sourceTensor).\n",
      "  \n"
     ]
    },
    {
     "name": "stdout",
     "output_type": "stream",
     "text": [
      "tau tensor(8.1202e-13)\n",
      "tensor(2.6153, grad_fn=<BinaryCrossEntropyWithLogitsBackward>)\n",
      "tau tensor(9.3396e-13)\n",
      "tensor(1.8233, grad_fn=<BinaryCrossEntropyWithLogitsBackward>)\n",
      "tau tensor(1.6719e-12)\n",
      "tensor(1.0577, grad_fn=<BinaryCrossEntropyWithLogitsBackward>)\n",
      "tau tensor(5.8519e-12)\n",
      "tensor(0.6493, grad_fn=<BinaryCrossEntropyWithLogitsBackward>)\n",
      "tau tensor(1.9092e-11)\n",
      "tensor(0.4411, grad_fn=<BinaryCrossEntropyWithLogitsBackward>)\n",
      "tau tensor(3.8375e-11)\n",
      "tensor(0.3673, grad_fn=<BinaryCrossEntropyWithLogitsBackward>)\n",
      "tau tensor(4.5965e-11)\n",
      "tensor(0.3215, grad_fn=<BinaryCrossEntropyWithLogitsBackward>)\n",
      "tau tensor(5.5478e-11)\n",
      "tensor(0.2847, grad_fn=<BinaryCrossEntropyWithLogitsBackward>)\n",
      "tau tensor(7.1782e-11)\n",
      "tensor(0.2446, grad_fn=<BinaryCrossEntropyWithLogitsBackward>)\n",
      "tau tensor(9.2039e-11)\n",
      "tensor(0.2106, grad_fn=<BinaryCrossEntropyWithLogitsBackward>)\n",
      "tau tensor(1.4671e-10)\n",
      "tensor(0.1859, grad_fn=<BinaryCrossEntropyWithLogitsBackward>)\n",
      "tau tensor(1.1859e-10)\n",
      "tensor(0.1758, grad_fn=<BinaryCrossEntropyWithLogitsBackward>)\n",
      "tau tensor(9.6268e-11)\n",
      "tensor(0.1691, grad_fn=<BinaryCrossEntropyWithLogitsBackward>)\n",
      "tau tensor(1.1628e-10)\n",
      "tensor(0.1649, grad_fn=<BinaryCrossEntropyWithLogitsBackward>)\n",
      "tau tensor(1.9906e-10)\n",
      "tensor(0.1618, grad_fn=<BinaryCrossEntropyWithLogitsBackward>)\n",
      "tau tensor(2.5551e-10)\n",
      "tensor(0.1616, grad_fn=<BinaryCrossEntropyWithLogitsBackward>)\n",
      "tau tensor(2.1991e-10)\n",
      "tensor(0.1601, grad_fn=<BinaryCrossEntropyWithLogitsBackward>)\n",
      "tau tensor(2.2885e-10)\n",
      "tensor(0.1583, grad_fn=<BinaryCrossEntropyWithLogitsBackward>)\n",
      "tau tensor(2.9770e-10)\n",
      "tensor(0.1546, grad_fn=<BinaryCrossEntropyWithLogitsBackward>)\n",
      "tau tensor(4.6545e-10)\n",
      "tensor(0.1514, grad_fn=<BinaryCrossEntropyWithLogitsBackward>)\n",
      "tau tensor(4.4775e-10)\n",
      "tensor(0.1480, grad_fn=<BinaryCrossEntropyWithLogitsBackward>)\n",
      "tau tensor(3.0952e-10)\n",
      "tensor(0.1456, grad_fn=<BinaryCrossEntropyWithLogitsBackward>)\n",
      "tau tensor(3.2787e-10)\n",
      "tensor(0.1433, grad_fn=<BinaryCrossEntropyWithLogitsBackward>)\n",
      "tau tensor(5.3509e-10)\n",
      "tensor(0.1419, grad_fn=<BinaryCrossEntropyWithLogitsBackward>)\n",
      "tau tensor(3.2376e-10)\n",
      "tensor(0.1415, grad_fn=<BinaryCrossEntropyWithLogitsBackward>)\n",
      "tau tensor(2.1456e-10)\n",
      "tensor(0.1413, grad_fn=<BinaryCrossEntropyWithLogitsBackward>)\n",
      "tau tensor(2.7748e-10)\n",
      "tensor(0.1411, grad_fn=<BinaryCrossEntropyWithLogitsBackward>)\n",
      "tau tensor(3.5644e-10)\n",
      "tensor(0.1406, grad_fn=<BinaryCrossEntropyWithLogitsBackward>)\n",
      "tau tensor(2.3677e-10)\n",
      "tensor(0.1406, grad_fn=<BinaryCrossEntropyWithLogitsBackward>)\n",
      "tau tensor(3.3244e-10)\n",
      "tensor(0.1405, grad_fn=<BinaryCrossEntropyWithLogitsBackward>)\n",
      "tau tensor(6.1875e-10)\n",
      "tensor(0.1407, grad_fn=<BinaryCrossEntropyWithLogitsBackward>)\n",
      "tau tensor(3.7140e-10)\n",
      "tensor(0.1406, grad_fn=<BinaryCrossEntropyWithLogitsBackward>)\n",
      "tau tensor(3.9440e-10)\n",
      "tensor(0.1403, grad_fn=<BinaryCrossEntropyWithLogitsBackward>)\n",
      "tau tensor(9.0247e-10)\n",
      "tensor(0.1399, grad_fn=<BinaryCrossEntropyWithLogitsBackward>)\n",
      "tau tensor(8.4789e-10)\n",
      "tensor(0.1397, grad_fn=<BinaryCrossEntropyWithLogitsBackward>)\n",
      "tau tensor(4.2734e-10)\n",
      "tensor(0.1397, grad_fn=<BinaryCrossEntropyWithLogitsBackward>)\n",
      "tau tensor(7.2077e-10)\n",
      "tensor(0.1396, grad_fn=<BinaryCrossEntropyWithLogitsBackward>)\n",
      "tau tensor(1.5213e-09)\n",
      "tensor(0.1396, grad_fn=<BinaryCrossEntropyWithLogitsBackward>)\n",
      "tau tensor(5.0653e-10)\n",
      "tensor(0.1396, grad_fn=<BinaryCrossEntropyWithLogitsBackward>)\n",
      "tau tensor(6.7638e-10)\n",
      "tensor(0.1396, grad_fn=<BinaryCrossEntropyWithLogitsBackward>)\n",
      "tau tensor(2.2785e-09)\n",
      "tensor(0.1396, grad_fn=<BinaryCrossEntropyWithLogitsBackward>)\n",
      "tau tensor(1.0011e-09)\n",
      "tensor(0.1395, grad_fn=<BinaryCrossEntropyWithLogitsBackward>)\n",
      "tau tensor(7.4584e-10)\n",
      "tensor(0.1395, grad_fn=<BinaryCrossEntropyWithLogitsBackward>)\n",
      "tau tensor(2.1108e-09)\n",
      "tensor(0.1394, grad_fn=<BinaryCrossEntropyWithLogitsBackward>)\n",
      "tau tensor(1.0054e-09)\n",
      "tensor(0.1394, grad_fn=<BinaryCrossEntropyWithLogitsBackward>)\n",
      "tau tensor(5.9649e-10)\n",
      "tensor(0.1394, grad_fn=<BinaryCrossEntropyWithLogitsBackward>)\n",
      "tau tensor(1.5432e-09)\n",
      "tensor(0.1394, grad_fn=<BinaryCrossEntropyWithLogitsBackward>)\n",
      "tau tensor(1.6179e-09)\n",
      "tensor(0.1394, grad_fn=<BinaryCrossEntropyWithLogitsBackward>)\n",
      "y_opt tensor([-0.3840, -0.5068, -0.5844, -0.3915, -0.4608,  0.0393, -0.5191, -0.6221,\n",
      "        -0.0052, -0.0581, -0.5447,  0.2133, -0.1369, -0.3314,  0.1096,  0.0878,\n",
      "         0.2370, -0.3398, -0.0674,  0.4836, -0.5347, -0.9114, -0.9772, -0.5783,\n",
      "        -0.4184, -0.2407, -0.2602, -0.2867, -0.4262,  0.1023,  0.9318],\n",
      "       grad_fn=<AddBackward0>)\n",
      "f(y_opt) = tensor(0.1394, grad_fn=<BinaryCrossEntropyWithLogitsBackward>)\n",
      "y_opt is optimal: True\n",
      "y_opt is optimal: True\n",
      "y_opt is optimal: True\n",
      "y_opt is optimal: True\n",
      "y_opt is optimal: True\n",
      "y_opt is optimal: True\n",
      "y_opt is optimal: False\n"
     ]
    }
   ],
   "source": [
    "def test():\n",
    "    L3 = 5\n",
    "    eps = 1e-5\n",
    "    delta = 1e-9\n",
    "    K = 50\n",
    "    \n",
    "    def f(x):\n",
    "        return torch.nn.functional.binary_cross_entropy_with_logits(X @ x, y)\n",
    "    \n",
    "    y_opt = hyperfast_second_order_method(f, y_0, K, L3, eps)\n",
    "    \n",
    "    print('y_opt', y_opt)\n",
    "    print('f(y_opt) =', f(y_opt))\n",
    "    print('y_opt is optimal:', check_optimality(f, y_opt, eps=1e-1))\n",
    "    print('y_opt is optimal:', check_optimality(f, y_opt, eps=1e-2))\n",
    "    print('y_opt is optimal:', check_optimality(f, y_opt, eps=1e-3))\n",
    "    print('y_opt is optimal:', check_optimality(f, y_opt, eps=1e-4))\n",
    "    print('y_opt is optimal:', check_optimality(f, y_opt, eps=1e-5))\n",
    "    print('y_opt is optimal:', check_optimality(f, y_opt, eps=1e-6))\n",
    "    print('y_opt is optimal:', check_optimality(f, y_opt, eps=1e-7))\n",
    "\n",
    "test()"
   ]
  },
  {
   "cell_type": "code",
   "execution_count": 228,
   "metadata": {},
   "outputs": [
    {
     "name": "stdout",
     "output_type": "stream",
     "text": [
      "tau tensor(1.0910e-12)\n"
     ]
    },
    {
     "name": "stderr",
     "output_type": "stream",
     "text": [
      "/home/ivb/miniconda3/envs/nlp/lib/python3.7/site-packages/ipykernel_launcher.py:2: UserWarning: To copy construct from a tensor, it is recommended to use sourceTensor.clone().detach() or sourceTensor.clone().detach().requires_grad_(True), rather than torch.tensor(sourceTensor).\n",
      "  \n"
     ]
    },
    {
     "name": "stdout",
     "output_type": "stream",
     "text": [
      "tensor(2.1441, grad_fn=<BinaryCrossEntropyWithLogitsBackward>)\n",
      "tau tensor(1.0910e-12)\n",
      "tensor(2.1441, grad_fn=<BinaryCrossEntropyWithLogitsBackward>)\n",
      "tau tensor(1.4023e-12)\n",
      "tensor(1.5073, grad_fn=<BinaryCrossEntropyWithLogitsBackward>)\n",
      "tau tensor(2.3394e-12)\n",
      "tensor(1.1376, grad_fn=<BinaryCrossEntropyWithLogitsBackward>)\n",
      "tau tensor(4.6476e-12)\n",
      "tensor(0.7688, grad_fn=<BinaryCrossEntropyWithLogitsBackward>)\n",
      "tau tensor(1.0784e-11)\n",
      "tensor(0.5483, grad_fn=<BinaryCrossEntropyWithLogitsBackward>)\n",
      "tau tensor(2.2082e-11)\n",
      "tensor(0.3941, grad_fn=<BinaryCrossEntropyWithLogitsBackward>)\n",
      "tau tensor(4.2181e-11)\n",
      "tensor(0.3037, grad_fn=<BinaryCrossEntropyWithLogitsBackward>)\n",
      "tau tensor(6.9214e-11)\n",
      "tensor(0.2440, grad_fn=<BinaryCrossEntropyWithLogitsBackward>)\n",
      "tau tensor(9.6978e-11)\n",
      "tensor(0.2102, grad_fn=<BinaryCrossEntropyWithLogitsBackward>)\n",
      "tau tensor(1.1083e-10)\n",
      "tensor(0.1874, grad_fn=<BinaryCrossEntropyWithLogitsBackward>)\n",
      "tau tensor(1.2036e-10)\n",
      "tensor(0.1714, grad_fn=<BinaryCrossEntropyWithLogitsBackward>)\n",
      "tau tensor(1.2993e-10)\n",
      "tensor(0.1587, grad_fn=<BinaryCrossEntropyWithLogitsBackward>)\n",
      "tau tensor(1.7004e-10)\n",
      "tensor(0.1488, grad_fn=<BinaryCrossEntropyWithLogitsBackward>)\n",
      "tau tensor(2.4146e-10)\n",
      "tensor(0.1410, grad_fn=<BinaryCrossEntropyWithLogitsBackward>)\n",
      "tau tensor(2.8513e-10)\n",
      "tensor(0.1350, grad_fn=<BinaryCrossEntropyWithLogitsBackward>)\n",
      "tau tensor(2.4331e-10)\n",
      "tensor(0.1306, grad_fn=<BinaryCrossEntropyWithLogitsBackward>)\n",
      "tau tensor(2.4282e-10)\n",
      "tensor(0.1271, grad_fn=<BinaryCrossEntropyWithLogitsBackward>)\n",
      "tau tensor(3.1076e-10)\n",
      "tensor(0.1246, grad_fn=<BinaryCrossEntropyWithLogitsBackward>)\n",
      "tau tensor(3.6208e-10)\n",
      "tensor(0.1228, grad_fn=<BinaryCrossEntropyWithLogitsBackward>)\n",
      "tau tensor(3.0591e-10)\n",
      "tensor(0.1220, grad_fn=<BinaryCrossEntropyWithLogitsBackward>)\n",
      "tau tensor(3.0776e-10)\n",
      "tensor(0.1217, grad_fn=<BinaryCrossEntropyWithLogitsBackward>)\n",
      "tau tensor(3.9186e-10)\n",
      "tensor(0.1217, grad_fn=<BinaryCrossEntropyWithLogitsBackward>)\n",
      "tau tensor(3.9106e-10)\n",
      "tensor(0.1216, grad_fn=<BinaryCrossEntropyWithLogitsBackward>)\n",
      "tau tensor(3.7224e-10)\n",
      "tensor(0.1211, grad_fn=<BinaryCrossEntropyWithLogitsBackward>)\n",
      "tau tensor(4.8411e-10)\n",
      "tensor(0.1202, grad_fn=<BinaryCrossEntropyWithLogitsBackward>)\n",
      "tau tensor(8.2486e-10)\n",
      "tensor(0.1194, grad_fn=<BinaryCrossEntropyWithLogitsBackward>)\n",
      "tau tensor(7.7965e-10)\n",
      "tensor(0.1189, grad_fn=<BinaryCrossEntropyWithLogitsBackward>)\n",
      "tau tensor(6.7360e-10)\n"
     ]
    },
    {
     "ename": "KeyboardInterrupt",
     "evalue": "",
     "output_type": "error",
     "traceback": [
      "\u001b[0;31m---------------------------------------------------------------------------\u001b[0m",
      "\u001b[0;31mKeyboardInterrupt\u001b[0m                         Traceback (most recent call last)",
      "\u001b[0;32m<ipython-input-228-85b559e615a8>\u001b[0m in \u001b[0;36m<module>\u001b[0;34m\u001b[0m\n\u001b[1;32m     20\u001b[0m     \u001b[0mprint\u001b[0m\u001b[0;34m(\u001b[0m\u001b[0;34m'y_opt is optimal:'\u001b[0m\u001b[0;34m,\u001b[0m \u001b[0mcheck_optimality\u001b[0m\u001b[0;34m(\u001b[0m\u001b[0mf\u001b[0m\u001b[0;34m,\u001b[0m \u001b[0my_opt\u001b[0m\u001b[0;34m,\u001b[0m \u001b[0meps\u001b[0m\u001b[0;34m=\u001b[0m\u001b[0;36m1e-7\u001b[0m\u001b[0;34m)\u001b[0m\u001b[0;34m)\u001b[0m\u001b[0;34m\u001b[0m\u001b[0m\n\u001b[1;32m     21\u001b[0m \u001b[0;34m\u001b[0m\u001b[0m\n\u001b[0;32m---> 22\u001b[0;31m \u001b[0mtest\u001b[0m\u001b[0;34m(\u001b[0m\u001b[0;34m)\u001b[0m\u001b[0;34m\u001b[0m\u001b[0m\n\u001b[0m",
      "\u001b[0;32m<ipython-input-228-85b559e615a8>\u001b[0m in \u001b[0;36mtest\u001b[0;34m()\u001b[0m\n\u001b[1;32m      8\u001b[0m         \u001b[0;32mreturn\u001b[0m \u001b[0mtorch\u001b[0m\u001b[0;34m.\u001b[0m\u001b[0mnn\u001b[0m\u001b[0;34m.\u001b[0m\u001b[0mfunctional\u001b[0m\u001b[0;34m.\u001b[0m\u001b[0mbinary_cross_entropy_with_logits\u001b[0m\u001b[0;34m(\u001b[0m\u001b[0mX\u001b[0m \u001b[0;34m@\u001b[0m \u001b[0mx\u001b[0m\u001b[0;34m,\u001b[0m \u001b[0my\u001b[0m\u001b[0;34m)\u001b[0m\u001b[0;34m\u001b[0m\u001b[0m\n\u001b[1;32m      9\u001b[0m \u001b[0;34m\u001b[0m\u001b[0m\n\u001b[0;32m---> 10\u001b[0;31m     \u001b[0my_opt\u001b[0m \u001b[0;34m=\u001b[0m \u001b[0mhyperfast_second_order_method\u001b[0m\u001b[0;34m(\u001b[0m\u001b[0mf\u001b[0m\u001b[0;34m,\u001b[0m \u001b[0my_0\u001b[0m\u001b[0;34m,\u001b[0m \u001b[0mK\u001b[0m\u001b[0;34m,\u001b[0m \u001b[0mL3\u001b[0m\u001b[0;34m,\u001b[0m \u001b[0meps\u001b[0m\u001b[0;34m)\u001b[0m\u001b[0;34m\u001b[0m\u001b[0m\n\u001b[0m\u001b[1;32m     11\u001b[0m \u001b[0;34m\u001b[0m\u001b[0m\n\u001b[1;32m     12\u001b[0m     \u001b[0mprint\u001b[0m\u001b[0;34m(\u001b[0m\u001b[0;34m'y_opt'\u001b[0m\u001b[0;34m,\u001b[0m \u001b[0my_opt\u001b[0m\u001b[0;34m)\u001b[0m\u001b[0;34m\u001b[0m\u001b[0m\n",
      "\u001b[0;32m<ipython-input-218-f8345ffdc4f1>\u001b[0m in \u001b[0;36mhyperfast_second_order_method\u001b[0;34m(f, y_0, K, L3, eps)\u001b[0m\n\u001b[1;32m     13\u001b[0m     \u001b[0my_k\u001b[0m \u001b[0;34m=\u001b[0m \u001b[0my_0\u001b[0m\u001b[0;34m\u001b[0m\u001b[0m\n\u001b[1;32m     14\u001b[0m     \u001b[0;32mfor\u001b[0m \u001b[0mk\u001b[0m \u001b[0;32min\u001b[0m \u001b[0mrange\u001b[0m\u001b[0;34m(\u001b[0m\u001b[0mK\u001b[0m\u001b[0;34m)\u001b[0m\u001b[0;34m:\u001b[0m\u001b[0;34m\u001b[0m\u001b[0m\n\u001b[0;32m---> 15\u001b[0;31m         \u001b[0my_k_plus_1\u001b[0m \u001b[0;34m=\u001b[0m \u001b[0mBDGM\u001b[0m\u001b[0;34m(\u001b[0m\u001b[0mf\u001b[0m\u001b[0;34m,\u001b[0m \u001b[0mx_tilda_k\u001b[0m\u001b[0;34m,\u001b[0m \u001b[0meps\u001b[0m\u001b[0;34m,\u001b[0m \u001b[0mL3\u001b[0m\u001b[0;34m)\u001b[0m\u001b[0;34m\u001b[0m\u001b[0m\n\u001b[0m\u001b[1;32m     16\u001b[0m         \u001b[0my_k_plus_1\u001b[0m\u001b[0;34m.\u001b[0m\u001b[0mrequires_grad_\u001b[0m\u001b[0;34m(\u001b[0m\u001b[0;34m)\u001b[0m\u001b[0;34m\u001b[0m\u001b[0m\n\u001b[1;32m     17\u001b[0m         \u001b[0mlambda_min\u001b[0m \u001b[0;34m=\u001b[0m \u001b[0;36m2\u001b[0m \u001b[0;34m/\u001b[0m \u001b[0;34m(\u001b[0m\u001b[0;36m3\u001b[0m \u001b[0;34m*\u001b[0m \u001b[0mL3\u001b[0m \u001b[0;34m*\u001b[0m \u001b[0msquare_norm\u001b[0m\u001b[0;34m(\u001b[0m\u001b[0my_k_plus_1\u001b[0m \u001b[0;34m-\u001b[0m \u001b[0mx_tilda_k\u001b[0m\u001b[0;34m)\u001b[0m\u001b[0;34m)\u001b[0m\u001b[0;34m\u001b[0m\u001b[0m\n",
      "\u001b[0;32m<ipython-input-226-57e3e086d1c1>\u001b[0m in \u001b[0;36mBDGM\u001b[0;34m(f, x_tilda_k, eps, L3)\u001b[0m\n\u001b[1;32m     58\u001b[0m             \u001b[0mgamma\u001b[0m \u001b[0;34m=\u001b[0m \u001b[0mL3\u001b[0m \u001b[0;34m*\u001b[0m \u001b[0;34m(\u001b[0m\u001b[0;36m2\u001b[0m \u001b[0;34m+\u001b[0m \u001b[0mmath\u001b[0m\u001b[0;34m.\u001b[0m\u001b[0msqrt\u001b[0m\u001b[0;34m(\u001b[0m\u001b[0;36m2\u001b[0m\u001b[0;34m)\u001b[0m\u001b[0;34m)\u001b[0m\u001b[0;34m\u001b[0m\u001b[0m\n\u001b[1;32m     59\u001b[0m \u001b[0;31m#             h = solve_auxilary_problem_dummy(A, c, gamma, h_i, 0.01, n_iter=10)\u001b[0m\u001b[0;34m\u001b[0m\u001b[0;34m\u001b[0m\u001b[0m\n\u001b[0;32m---> 60\u001b[0;31m             \u001b[0mh\u001b[0m \u001b[0;34m=\u001b[0m \u001b[0msolve_auxilary_problem\u001b[0m\u001b[0;34m(\u001b[0m\u001b[0mA\u001b[0m\u001b[0;34m,\u001b[0m \u001b[0mc\u001b[0m\u001b[0;34m,\u001b[0m \u001b[0mgamma\u001b[0m\u001b[0;34m,\u001b[0m \u001b[0;36m0.1\u001b[0m\u001b[0;34m,\u001b[0m \u001b[0mn_iter\u001b[0m\u001b[0;34m=\u001b[0m\u001b[0;36m100\u001b[0m\u001b[0;34m)\u001b[0m\u001b[0;34m\u001b[0m\u001b[0m\n\u001b[0m\u001b[1;32m     61\u001b[0m             \u001b[0mz_i\u001b[0m \u001b[0;34m=\u001b[0m \u001b[0mh\u001b[0m \u001b[0;34m+\u001b[0m \u001b[0mx_tilda_k\u001b[0m\u001b[0;34m\u001b[0m\u001b[0m\n\u001b[1;32m     62\u001b[0m         \u001b[0mi\u001b[0m \u001b[0;34m+=\u001b[0m \u001b[0;36m1\u001b[0m\u001b[0;34m\u001b[0m\u001b[0m\n",
      "\u001b[0;32m<ipython-input-205-5f92fcc1fdb7>\u001b[0m in \u001b[0;36msolve_auxilary_problem\u001b[0;34m(A, c, gamma, learning_rate, n_iter)\u001b[0m\n\u001b[1;32m     41\u001b[0m     \u001b[0mc_tilda\u001b[0m \u001b[0;34m=\u001b[0m \u001b[0mU\u001b[0m\u001b[0;34m.\u001b[0m\u001b[0mT\u001b[0m \u001b[0;34m@\u001b[0m \u001b[0mc\u001b[0m\u001b[0;34m\u001b[0m\u001b[0m\n\u001b[1;32m     42\u001b[0m \u001b[0;34m\u001b[0m\u001b[0m\n\u001b[0;32m---> 43\u001b[0;31m     \u001b[0mtau\u001b[0m \u001b[0;34m=\u001b[0m \u001b[0msolve_auxilary_subproblem\u001b[0m\u001b[0;34m(\u001b[0m\u001b[0mT\u001b[0m\u001b[0;34m,\u001b[0m \u001b[0mc_tilda\u001b[0m\u001b[0;34m,\u001b[0m \u001b[0mgamma\u001b[0m\u001b[0;34m,\u001b[0m \u001b[0mlearning_rate\u001b[0m\u001b[0;34m,\u001b[0m \u001b[0mn_iter\u001b[0m\u001b[0;34m)\u001b[0m\u001b[0;34m\u001b[0m\u001b[0m\n\u001b[0m\u001b[1;32m     44\u001b[0m     \u001b[0;32massert\u001b[0m \u001b[0mtau\u001b[0m \u001b[0;34m>\u001b[0m \u001b[0;36m0\u001b[0m\u001b[0;34m\u001b[0m\u001b[0m\n\u001b[1;32m     45\u001b[0m     \u001b[0mI\u001b[0m \u001b[0;34m=\u001b[0m \u001b[0mtorch\u001b[0m\u001b[0;34m.\u001b[0m\u001b[0meye\u001b[0m\u001b[0;34m(\u001b[0m\u001b[0mlen\u001b[0m\u001b[0;34m(\u001b[0m\u001b[0mc_tilda\u001b[0m\u001b[0;34m)\u001b[0m\u001b[0;34m)\u001b[0m\u001b[0;34m\u001b[0m\u001b[0m\n",
      "\u001b[0;32m<ipython-input-205-5f92fcc1fdb7>\u001b[0m in \u001b[0;36msolve_auxilary_subproblem\u001b[0;34m(T, c_tilda, gamma, learning_rate, n_iter)\u001b[0m\n\u001b[1;32m     31\u001b[0m     \u001b[0;32mfor\u001b[0m \u001b[0mi\u001b[0m \u001b[0;32min\u001b[0m \u001b[0mrange\u001b[0m\u001b[0;34m(\u001b[0m\u001b[0mn_iter\u001b[0m\u001b[0;34m)\u001b[0m\u001b[0;34m:\u001b[0m  \u001b[0;31m# TODO\u001b[0m\u001b[0;34m\u001b[0m\u001b[0m\n\u001b[1;32m     32\u001b[0m         \u001b[0mvalue\u001b[0m \u001b[0;34m=\u001b[0m \u001b[0mauxilary_subproblem_objective\u001b[0m\u001b[0;34m(\u001b[0m\u001b[0mtau\u001b[0m\u001b[0;34m,\u001b[0m \u001b[0mT\u001b[0m\u001b[0;34m,\u001b[0m \u001b[0mc_tilda\u001b[0m\u001b[0;34m,\u001b[0m \u001b[0mgamma\u001b[0m\u001b[0;34m)\u001b[0m\u001b[0;34m\u001b[0m\u001b[0m\n\u001b[0;32m---> 33\u001b[0;31m         \u001b[0mgrad\u001b[0m \u001b[0;34m=\u001b[0m \u001b[0mgradient\u001b[0m\u001b[0;34m(\u001b[0m\u001b[0mvalue\u001b[0m\u001b[0;34m,\u001b[0m \u001b[0mtau\u001b[0m\u001b[0;34m)\u001b[0m\u001b[0;34m\u001b[0m\u001b[0m\n\u001b[0m\u001b[1;32m     34\u001b[0m         \u001b[0;32mwith\u001b[0m \u001b[0mtorch\u001b[0m\u001b[0;34m.\u001b[0m\u001b[0mno_grad\u001b[0m\u001b[0;34m(\u001b[0m\u001b[0;34m)\u001b[0m\u001b[0;34m:\u001b[0m\u001b[0;34m\u001b[0m\u001b[0m\n\u001b[1;32m     35\u001b[0m             \u001b[0mtau\u001b[0m \u001b[0;34m-=\u001b[0m \u001b[0mlearning_rate\u001b[0m \u001b[0;34m*\u001b[0m \u001b[0mgrad\u001b[0m\u001b[0;34m\u001b[0m\u001b[0m\n",
      "\u001b[0;32m<ipython-input-15-c11b979786ac>\u001b[0m in \u001b[0;36mgradient\u001b[0;34m(f, x, create_graph, retain_graph)\u001b[0m\n\u001b[1;32m     14\u001b[0m         \u001b[0minputs\u001b[0m\u001b[0;34m=\u001b[0m\u001b[0;34m[\u001b[0m\u001b[0mx\u001b[0m\u001b[0;34m]\u001b[0m\u001b[0;34m,\u001b[0m\u001b[0;34m\u001b[0m\u001b[0m\n\u001b[1;32m     15\u001b[0m         \u001b[0mcreate_graph\u001b[0m\u001b[0;34m=\u001b[0m\u001b[0mcreate_graph\u001b[0m\u001b[0;34m,\u001b[0m\u001b[0;34m\u001b[0m\u001b[0m\n\u001b[0;32m---> 16\u001b[0;31m         retain_graph=retain_graph)[0]\n\u001b[0m\u001b[1;32m     17\u001b[0m \u001b[0;34m\u001b[0m\u001b[0m\n\u001b[1;32m     18\u001b[0m \u001b[0;34m\u001b[0m\u001b[0m\n",
      "\u001b[0;32m~/miniconda3/envs/nlp/lib/python3.7/site-packages/torch/autograd/__init__.py\u001b[0m in \u001b[0;36mgrad\u001b[0;34m(outputs, inputs, grad_outputs, retain_graph, create_graph, only_inputs, allow_unused)\u001b[0m\n\u001b[1;32m    155\u001b[0m     return Variable._execution_engine.run_backward(\n\u001b[1;32m    156\u001b[0m         \u001b[0moutputs\u001b[0m\u001b[0;34m,\u001b[0m \u001b[0mgrad_outputs\u001b[0m\u001b[0;34m,\u001b[0m \u001b[0mretain_graph\u001b[0m\u001b[0;34m,\u001b[0m \u001b[0mcreate_graph\u001b[0m\u001b[0;34m,\u001b[0m\u001b[0;34m\u001b[0m\u001b[0m\n\u001b[0;32m--> 157\u001b[0;31m         inputs, allow_unused)\n\u001b[0m\u001b[1;32m    158\u001b[0m \u001b[0;34m\u001b[0m\u001b[0m\n\u001b[1;32m    159\u001b[0m \u001b[0;34m\u001b[0m\u001b[0m\n",
      "\u001b[0;31mKeyboardInterrupt\u001b[0m: "
     ]
    }
   ],
   "source": [
    "def test():\n",
    "    L3 = 5\n",
    "    eps = 1e-5\n",
    "    delta = 1e-9\n",
    "    K = 50\n",
    "    \n",
    "    def f(x):\n",
    "        return torch.nn.functional.binary_cross_entropy_with_logits(X @ x, y)\n",
    "    \n",
    "    y_opt = hyperfast_second_order_method(f, y_0, K, L3, eps)\n",
    "    \n",
    "    print('y_opt', y_opt)\n",
    "    print('f(y_opt) =', f(y_opt))\n",
    "    print('y_opt is optimal:', check_optimality(f, y_opt, eps=1e-1))\n",
    "    print('y_opt is optimal:', check_optimality(f, y_opt, eps=1e-2))\n",
    "    print('y_opt is optimal:', check_optimality(f, y_opt, eps=1e-3))\n",
    "    print('y_opt is optimal:', check_optimality(f, y_opt, eps=1e-4))\n",
    "    print('y_opt is optimal:', check_optimality(f, y_opt, eps=1e-5))\n",
    "    print('y_opt is optimal:', check_optimality(f, y_opt, eps=1e-6))\n",
    "    print('y_opt is optimal:', check_optimality(f, y_opt, eps=1e-7))\n",
    "\n",
    "test()"
   ]
  },
  {
   "cell_type": "code",
   "execution_count": null,
   "metadata": {},
   "outputs": [],
   "source": []
  }
 ],
 "metadata": {
  "kernelspec": {
   "display_name": "Python 3",
   "language": "python",
   "name": "python3"
  },
  "language_info": {
   "codemirror_mode": {
    "name": "ipython",
    "version": 3
   },
   "file_extension": ".py",
   "mimetype": "text/x-python",
   "name": "python",
   "nbconvert_exporter": "python",
   "pygments_lexer": "ipython3",
   "version": "3.7.0"
  }
 },
 "nbformat": 4,
 "nbformat_minor": 4
}
