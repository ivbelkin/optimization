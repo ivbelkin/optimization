{
 "cells": [
  {
   "cell_type": "code",
   "execution_count": 1,
   "metadata": {},
   "outputs": [],
   "source": [
    "import torch\n",
    "import math\n",
    "import numpy as np\n",
    "import xalglib\n",
    "import matplotlib.pyplot as plt\n",
    "\n",
    "from sklearn.datasets import load_breast_cancer\n",
    "from sklearn.linear_model import LogisticRegression\n",
    "from sklearn.metrics import log_loss\n",
    "\n",
    "from time import clock_gettime, CLOCK_MONOTONIC\n",
    "from CubicEquationSolver import solve as solve_cubic"
   ]
  },
  {
   "cell_type": "markdown",
   "metadata": {},
   "source": [
    "# Problem"
   ]
  },
  {
   "cell_type": "markdown",
   "metadata": {},
   "source": [
    "## sklearn: LogisticRegression"
   ]
  },
  {
   "cell_type": "code",
   "execution_count": 2,
   "metadata": {},
   "outputs": [],
   "source": [
    "X, y = load_breast_cancer(True)\n",
    "X = (X - X.mean(axis=0)) / X.std(axis=0) + np.random.randn(*X.shape)\n",
    "X = np.concatenate((X, np.ones((X.shape[0], 1))), axis=1)"
   ]
  },
  {
   "cell_type": "code",
   "execution_count": 3,
   "metadata": {},
   "outputs": [
    {
     "data": {
      "text/plain": [
       "LogisticRegression(C=1.0, class_weight=None, dual=False, fit_intercept=False,\n",
       "                   intercept_scaling=1, l1_ratio=None, max_iter=100,\n",
       "                   multi_class='warn', n_jobs=None, penalty='none',\n",
       "                   random_state=None, solver='newton-cg', tol=1e-07, verbose=0,\n",
       "                   warm_start=False)"
      ]
     },
     "execution_count": 3,
     "metadata": {},
     "output_type": "execute_result"
    }
   ],
   "source": [
    "log_reg = LogisticRegression(penalty='none', fit_intercept=False, solver='newton-cg', tol=1e-7)\n",
    "log_reg.fit(X, y)"
   ]
  },
  {
   "cell_type": "code",
   "execution_count": 4,
   "metadata": {},
   "outputs": [],
   "source": [
    "x_opt = log_reg.coef_[0]"
   ]
  },
  {
   "cell_type": "code",
   "execution_count": 5,
   "metadata": {},
   "outputs": [
    {
     "data": {
      "text/plain": [
       "array([-0.38768368, -0.49994833, -0.59541948, -0.39849101, -0.46836326,\n",
       "        0.05606896, -0.52595313, -0.64947702, -0.0090894 , -0.05547195,\n",
       "       -0.5520733 ,  0.23525235, -0.12438167, -0.32129765,  0.11368458,\n",
       "        0.07847555,  0.2410645 , -0.36537693, -0.08385033,  0.493171  ,\n",
       "       -0.54010285, -0.96178676, -0.97699409, -0.58642306, -0.42297448,\n",
       "       -0.22330365, -0.26123462, -0.28766289, -0.43890332,  0.10174956,\n",
       "        0.95363823])"
      ]
     },
     "execution_count": 5,
     "metadata": {},
     "output_type": "execute_result"
    }
   ],
   "source": [
    "x_opt"
   ]
  },
  {
   "cell_type": "code",
   "execution_count": 6,
   "metadata": {},
   "outputs": [
    {
     "data": {
      "text/plain": [
       "0.9384885764499121"
      ]
     },
     "execution_count": 6,
     "metadata": {},
     "output_type": "execute_result"
    }
   ],
   "source": [
    "log_reg.score(X, y)"
   ]
  },
  {
   "cell_type": "code",
   "execution_count": 7,
   "metadata": {},
   "outputs": [
    {
     "data": {
      "text/plain": [
       "0.13935816325588316"
      ]
     },
     "execution_count": 7,
     "metadata": {},
     "output_type": "execute_result"
    }
   ],
   "source": [
    "log_loss(y, log_reg.predict_proba(X))"
   ]
  },
  {
   "cell_type": "markdown",
   "metadata": {},
   "source": [
    "## PyTorch: optimization problem"
   ]
  },
  {
   "cell_type": "code",
   "execution_count": 8,
   "metadata": {},
   "outputs": [],
   "source": [
    "X = torch.tensor(X, dtype=torch.float32)\n",
    "y = torch.tensor(y, dtype=torch.float32)\n",
    "\n",
    "x_opt = torch.tensor(x_opt, dtype=torch.float32)\n",
    "N = x_opt.shape[0]\n",
    "\n",
    "x_0 = torch.randn(N)"
   ]
  },
  {
   "cell_type": "code",
   "execution_count": 9,
   "metadata": {},
   "outputs": [],
   "source": [
    "def f(x):\n",
    "    return torch.nn.functional.binary_cross_entropy_with_logits(X @ x, y)"
   ]
  },
  {
   "cell_type": "code",
   "execution_count": 10,
   "metadata": {},
   "outputs": [
    {
     "data": {
      "text/plain": [
       "0.13935816287994385"
      ]
     },
     "execution_count": 10,
     "metadata": {},
     "output_type": "execute_result"
    }
   ],
   "source": [
    "f(x_opt).item()"
   ]
  },
  {
   "cell_type": "code",
   "execution_count": 11,
   "metadata": {},
   "outputs": [
    {
     "data": {
      "text/plain": [
       "3.643639326095581"
      ]
     },
     "execution_count": 11,
     "metadata": {},
     "output_type": "execute_result"
    }
   ],
   "source": [
    "f(x_0).item()"
   ]
  },
  {
   "cell_type": "code",
   "execution_count": 12,
   "metadata": {},
   "outputs": [],
   "source": [
    "def check_optimality(f, x, step=1e-4, eps=1e-7):\n",
    "    n = x.shape[0]\n",
    "    fx = f(x)\n",
    "    for i in range(n):\n",
    "        for s in [-1, 1]:\n",
    "            y = x.clone()\n",
    "            y[i] += s * step\n",
    "            fy = f(y)\n",
    "            if fy < fx - eps:\n",
    "                return False\n",
    "    return True"
   ]
  },
  {
   "cell_type": "code",
   "execution_count": 13,
   "metadata": {},
   "outputs": [
    {
     "data": {
      "text/plain": [
       "False"
      ]
     },
     "execution_count": 13,
     "metadata": {},
     "output_type": "execute_result"
    }
   ],
   "source": [
    "check_optimality(f, x_0)"
   ]
  },
  {
   "cell_type": "code",
   "execution_count": 14,
   "metadata": {},
   "outputs": [
    {
     "data": {
      "text/plain": [
       "True"
      ]
     },
     "execution_count": 14,
     "metadata": {},
     "output_type": "execute_result"
    }
   ],
   "source": [
    "check_optimality(f, x_opt)"
   ]
  },
  {
   "cell_type": "markdown",
   "metadata": {},
   "source": [
    "# Helper functions"
   ]
  },
  {
   "cell_type": "code",
   "execution_count": 15,
   "metadata": {},
   "outputs": [],
   "source": [
    "def d_p(x, p):\n",
    "    '''\n",
    "    Prox-function\n",
    "    '''\n",
    "    return 1 / p * torch.norm(x)**p\n",
    "\n",
    "\n",
    "def gradient(f, x, create_graph=False, retain_graph=None):\n",
    "    '''\n",
    "    Gradient of scalar function 'f' w.r.t. 1-d vector 'x'\n",
    "    '''\n",
    "    return torch.autograd.grad(\n",
    "        outputs=[f],\n",
    "        inputs=[x],\n",
    "        create_graph=create_graph, \n",
    "        retain_graph=retain_graph)[0]\n",
    "\n",
    "\n",
    "def hessian(f, x, create_graph=False):\n",
    "    '''\n",
    "    Hessian of scalar function 'f' w.r.t. 1-d vector 'x'\n",
    "    '''\n",
    "    n = x.shape[0]\n",
    "    h = torch.empty(n, n)\n",
    "    g = gradient(f, x, True)\n",
    "    for i in range(n):\n",
    "        h[i] = gradient(g[i], x, create_graph, True)\n",
    "    return h\n",
    "\n",
    "\n",
    "def D3(f, x, create_graph=False):\n",
    "    n = x.shape[0]\n",
    "    d3 = torch.empty(n, n, n)\n",
    "    g = gradient(f, x, True)\n",
    "    for i in range(n):\n",
    "        d3[i] = hessian(g[i], x, create_graph)\n",
    "    return d3\n",
    "\n",
    "\n",
    "def hessian_vector_product(f, x, v, retain_graph=False):\n",
    "    '''\n",
    "    Hessian-vector product: D^2(f) @ v\n",
    "    '''\n",
    "    grad_f = gradient(f, x, True)\n",
    "    return gradient(grad_f @ v, x, retain_graph=retain_graph)"
   ]
  },
  {
   "cell_type": "code",
   "execution_count": 16,
   "metadata": {},
   "outputs": [
    {
     "name": "stdout",
     "output_type": "stream",
     "text": [
      "F = tensor(14.0625, grad_fn=<ProdBackward0>) \n",
      "\n",
      "g = tensor([18.7500, 11.2500]) \n",
      "\n",
      "h = tensor([[12.5000, 15.0000],\n",
      "        [15.0000,  4.5000]]) \n",
      "\n",
      "h @ e = tensor([27.5000, 19.5000]) \n",
      "\n",
      "d3 = tensor([[[ 2.8610e-06,  1.0000e+01],\n",
      "         [ 1.0000e+01,  6.0000e+00]],\n",
      "\n",
      "        [[ 1.0000e+01,  6.0000e+00],\n",
      "         [ 6.0000e+00, -1.4305e-06]]]) \n",
      "\n"
     ]
    }
   ],
   "source": [
    "def test():\n",
    "    x = torch.tensor([1.5, 2.5], requires_grad=True)\n",
    "    e = torch.tensor([1., 1.])\n",
    "    f = x.pow(2).prod()\n",
    "    print('F =', f, '\\n')\n",
    "\n",
    "    g = gradient(f, x, retain_graph=True)\n",
    "    print('g =', g, '\\n')\n",
    "\n",
    "    h = hessian(f, x)\n",
    "    print('h =', h, '\\n')\n",
    "\n",
    "    he = hessian_vector_product(f, x, e, retain_graph=True)\n",
    "    print('h @ e =', he, '\\n')\n",
    "    \n",
    "    d3 = D3(f, x)\n",
    "    print('d3 =', d3, '\\n')\n",
    "\n",
    "test()"
   ]
  },
  {
   "cell_type": "markdown",
   "metadata": {},
   "source": [
    "# Auxilary problem"
   ]
  },
  {
   "cell_type": "markdown",
   "metadata": {},
   "source": [
    "## Original problem"
   ]
  },
  {
   "cell_type": "code",
   "execution_count": 137,
   "metadata": {},
   "outputs": [],
   "source": [
    "def auxilary_problem_objective(h, A, c, gamma):\n",
    "    value = .5 * A @ h @ h + c @ h + gamma * torch.norm(h)**4 / 4\n",
    "    return value\n",
    "\n",
    "\n",
    "def solve_auxilary_problem_autograd_vanilla_gd(A, c, gamma, h_0, learning_rate=0.001, n_iter=1000):\n",
    "    h = h_0.clone().detach().requires_grad_()\n",
    "    for i in range(n_iter):\n",
    "        value = auxilary_problem_objective(h, A, c, gamma)\n",
    "        grad = gradient(value, h)\n",
    "        with torch.no_grad():\n",
    "            h -= learning_rate * grad\n",
    "    return h\n",
    "\n",
    "\n",
    "def solve_auxilary_problem_analytic_vanilla_gd(A, c, gamma, h_0, learning_rate=0.001, n_iter=1000):\n",
    "    h = h_0.clone().detach()\n",
    "    for i in range(n_iter): \n",
    "        grad = A @ h + c + gamma * torch.norm(h)**2 * h\n",
    "        with torch.no_grad():\n",
    "            h -= learning_rate * grad\n",
    "    return h\n",
    "\n",
    "\n",
    "def solve_auxilary_problem_analytic_gd_grad_norm(A, c, gamma, h_0, learning_rate=0.001, min_grad_norm=1e-3):\n",
    "    h = h_0.clone().detach()\n",
    "    while True:\n",
    "        grad = A @ h + c + gamma * torch.norm(h)**2 * h\n",
    "        grad_norm = torch.norm(grad)\n",
    "        if grad_norm < min_grad_norm:\n",
    "            break\n",
    "        with torch.no_grad():\n",
    "            h -= learning_rate * grad\n",
    "    return h\n",
    "\n",
    "\n",
    "def solve_auxilary_problem_exact_gd_np(A, c, gamma, h_0, min_step_size=1e-5):\n",
    "    h = h_0.clone().detach()\n",
    "    \n",
    "    def opt_learning_rate():\n",
    "        gh = g @ h\n",
    "        hh = h_norm ** 2\n",
    "        gg = g_norm ** 2\n",
    "        a3 =      gamma * gg**2\n",
    "        a2 = -3 * gamma * gg * gh\n",
    "        a1 =  gamma * hh * gg + 2 * gamma * gh**2 + A @ g @ g\n",
    "        a0 = -gamma * hh * gh - Ah @ g - c @ g\n",
    "        root = [r.real for r in np.roots([a3, a2, a1, a0]) if r.imag == 0][0]\n",
    "        return root\n",
    "    \n",
    "    while True:\n",
    "        h_norm = torch.norm(h)\n",
    "        Ah = A @ h\n",
    "        g = Ah + c + gamma * h_norm**2 * h\n",
    "        g_norm = torch.norm(g)\n",
    "        learning_rate = opt_learning_rate()\n",
    "        if g_norm * learning_rate < min_step_size:\n",
    "            break\n",
    "        with torch.no_grad():\n",
    "            h -= learning_rate * g\n",
    "    return h\n",
    "\n",
    "\n",
    "def solve_auxilary_problem_exact_gd(A, c, gamma, h_0, min_step_size=1e-5):\n",
    "    h = h_0.clone().detach()\n",
    "    \n",
    "    def opt_learning_rate():\n",
    "        gh = g @ h\n",
    "        gg = g_norm ** 2\n",
    "        gamma_gg = gamma * gg\n",
    "        gamma_hh = gamma * hh\n",
    "        a3 =      gamma_gg * gg\n",
    "        a2 = -3 * gamma_gg * gh\n",
    "        a1 =  gamma_hh * gg + 2 * gamma * gh**2 + A @ g @ g\n",
    "        a0 = -gamma_hh * gh - Ah @ g - c @ g\n",
    "        root = [r.real for r in solve_cubic(a3.item(), a2.item(), a1.item(), a0.item()) if r.imag == 0][0]\n",
    "        return root\n",
    "    \n",
    "    while True:\n",
    "        h_norm = torch.norm(h)\n",
    "        Ah = A @ h\n",
    "        hh = h_norm ** 2\n",
    "        g = Ah + c + gamma * hh * h\n",
    "        g_norm = torch.norm(g)\n",
    "        learning_rate = opt_learning_rate()\n",
    "        if g_norm * learning_rate < min_step_size:\n",
    "            break\n",
    "        with torch.no_grad():\n",
    "            h -= learning_rate * g\n",
    "    return h\n",
    "\n",
    "\n",
    "def solve_auxilary_problem_exact_newton(A, c, gamma, h_0, eps=1e-7):\n",
    "    h = h_0.clone().detach()\n",
    "    \n",
    "    def opt_learning_rate():\n",
    "        sh = s @ h\n",
    "        ss = s_norm ** 2\n",
    "        gamma_ss = gamma * ss\n",
    "        gamma_hh = gamma * hh\n",
    "        a3 =      gamma_ss * ss\n",
    "        a2 = -3 * gamma_ss * sh\n",
    "        a1 =  gamma_hh * ss + 2 * gamma * sh**2 + A @ s @ s\n",
    "        a0 = -gamma_hh * sh - Ah @ s - c @ s\n",
    "        root = [r.real for r in solve_cubic(a3.item(), a2.item(), a1.item(), a0.item()) if r.imag == 0][0]\n",
    "        return root\n",
    "    \n",
    "    def outer(a, b):\n",
    "        return torch.unsqueeze(a, 1) @ torch.unsqueeze(b, 0)\n",
    "    \n",
    "    I = torch.eye(len(c))\n",
    "    while True:\n",
    "        h_norm = torch.norm(h)\n",
    "        Ah = A @ h\n",
    "        hh = h_norm ** 2\n",
    "        g = Ah + c + gamma * hh * h\n",
    "        H = A + gamma * (2 * outer(h, h) + hh**2 * I)\n",
    "        s = torch.inverse(H) @ g\n",
    "        lmb_square = s @ g\n",
    "        s_norm = torch.norm(s)\n",
    "        learning_rate = opt_learning_rate()\n",
    "        if lmb_square < eps:\n",
    "            break\n",
    "        with torch.no_grad():\n",
    "            h -= learning_rate * s\n",
    "    return h"
   ]
  },
  {
   "cell_type": "code",
   "execution_count": 139,
   "metadata": {},
   "outputs": [],
   "source": [
    "def test(solve, N):\n",
    "    times = []\n",
    "    for _ in range(N):\n",
    "        A = torch.diag(torch.abs(torch.randn(4)))\n",
    "        k = 1\n",
    "        e_k = torch.zeros(4)\n",
    "        e_k[k] = 1\n",
    "        c = (10 + 10 * torch.abs(torch.randn(1))) * e_k\n",
    "        gamma = 100 * torch.abs(torch.randn(1))\n",
    "        h_0 = torch.ones_like(c)\n",
    "        \n",
    "        start = clock_gettime(CLOCK_MONOTONIC)\n",
    "        h = solve(A, c, gamma, h_0)\n",
    "        end = clock_gettime(CLOCK_MONOTONIC)\n",
    "        times.append(end - start)\n",
    "    \n",
    "    print('A =', A, '\\n')\n",
    "    print('c =', c, '\\n')\n",
    "    print('gamma =', gamma, '\\n')\n",
    "    \n",
    "    print('Time:', np.mean(times), '\\n')\n",
    "    print('h =', h)\n",
    "\n",
    "    def f(h):\n",
    "        return c @ h + .5 * h.T @ A @ h + gamma * torch.norm(h)**4 / 4\n",
    "\n",
    "    xx = np.linspace(-2, 2, 1000)\n",
    "    yy = [f(x * e_k) for x in xx]\n",
    "    plt.plot(xx, yy)\n",
    "    y1, y2 = min(yy) - 10, min(yy) + 100\n",
    "    plt.ylim(y1, y2)\n",
    "    plt.plot([h[k], h[k]], [y1, y2])"
   ]
  },
  {
   "cell_type": "code",
   "execution_count": 121,
   "metadata": {},
   "outputs": [
    {
     "name": "stdout",
     "output_type": "stream",
     "text": [
      "A = tensor([[0.7188, 0.0000, 0.0000, 0.0000],\n",
      "        [0.0000, 1.4055, 0.0000, 0.0000],\n",
      "        [0.0000, 0.0000, 0.6229, 0.0000],\n",
      "        [0.0000, 0.0000, 0.0000, 1.5618]]) \n",
      "\n",
      "c = tensor([ 0.0000, 11.7061,  0.0000,  0.0000]) \n",
      "\n",
      "gamma = tensor([110.1773]) \n",
      "\n",
      "Time: 0.2673102970002219 \n",
      "\n",
      "h = tensor([ 1.1067e-11, -4.6465e-01,  1.2211e-11,  4.6593e-12],\n",
      "       requires_grad=True)\n"
     ]
    },
    {
     "data": {
      "image/png": "[encoded data removed]",
      "text/plain": [
       "<Figure size 432x288 with 1 Axes>"
      ]
     },
     "metadata": {
      "needs_background": "light"
     },
     "output_type": "display_data"
    }
   ],
   "source": [
    "test(lambda A, c, gamma, h_0: solve_auxilary_problem_autograd_vanilla_gd(A, c, gamma, h_0), 1)"
   ]
  },
  {
   "cell_type": "code",
   "execution_count": 122,
   "metadata": {},
   "outputs": [
    {
     "name": "stdout",
     "output_type": "stream",
     "text": [
      "A = tensor([[1.4838, 0.0000, 0.0000, 0.0000],\n",
      "        [0.0000, 1.4428, 0.0000, 0.0000],\n",
      "        [0.0000, 0.0000, 0.6582, 0.0000],\n",
      "        [0.0000, 0.0000, 0.0000, 1.3506]]) \n",
      "\n",
      "c = tensor([ 0.0000, 25.9074,  0.0000,  0.0000]) \n",
      "\n",
      "gamma = tensor([53.7215]) \n",
      "\n",
      "Time: 0.038593867169111035 \n",
      "\n",
      "h = tensor([ 1.6109e-15, -7.7278e-01,  3.7837e-15,  1.8490e-15])\n"
     ]
    },
    {
     "data": {
      "image/png": "[encoded data removed]",
      "text/plain": [
       "<Figure size 432x288 with 1 Axes>"
      ]
     },
     "metadata": {
      "needs_background": "light"
     },
     "output_type": "display_data"
    }
   ],
   "source": [
    "test(lambda A, c, gamma, h_0: solve_auxilary_problem_analytic_vanilla_gd(A, c, gamma, h_0), 100)"
   ]
  },
  {
   "cell_type": "code",
   "execution_count": 123,
   "metadata": {},
   "outputs": [
    {
     "name": "stdout",
     "output_type": "stream",
     "text": [
      "A = tensor([[0.8756, 0.0000, 0.0000, 0.0000],\n",
      "        [0.0000, 0.1047, 0.0000, 0.0000],\n",
      "        [0.0000, 0.0000, 1.4985, 0.0000],\n",
      "        [0.0000, 0.0000, 0.0000, 0.4581]]) \n",
      "\n",
      "c = tensor([ 0.0000, 19.1587,  0.0000,  0.0000]) \n",
      "\n",
      "gamma = tensor([7.3404]) \n",
      "\n",
      "Time: 0.02354154997796286 \n",
      "\n",
      "h = tensor([ 3.7824e-05, -1.3734e+00,  2.3892e-05,  5.1454e-05])\n"
     ]
    },
    {
     "data": {
      "image/png": "[encoded data removed]",
      "text/plain": [
       "<Figure size 432x288 with 1 Axes>"
      ]
     },
     "metadata": {
      "needs_background": "light"
     },
     "output_type": "display_data"
    }
   ],
   "source": [
    "test(lambda A, c, gamma, h_0: solve_auxilary_problem_analytic_gd_grad_norm(A, c, gamma, h_0), 100)"
   ]
  },
  {
   "cell_type": "code",
   "execution_count": 124,
   "metadata": {},
   "outputs": [
    {
     "name": "stdout",
     "output_type": "stream",
     "text": [
      "A = tensor([[0.1618, 0.0000, 0.0000, 0.0000],\n",
      "        [0.0000, 0.1263, 0.0000, 0.0000],\n",
      "        [0.0000, 0.0000, 1.6202, 0.0000],\n",
      "        [0.0000, 0.0000, 0.0000, 0.0753]]) \n",
      "\n",
      "c = tensor([ 0.0000, 28.7374,  0.0000,  0.0000]) \n",
      "\n",
      "gamma = tensor([56.8591]) \n",
      "\n",
      "Time: 0.004305259448534343 \n",
      "\n",
      "h = tensor([-6.3021e-06, -7.9562e-01, -3.1964e-06, -6.5526e-06])\n"
     ]
    },
    {
     "data": {
      "image/png": "[encoded data removed]",
      "text/plain": [
       "<Figure size 432x288 with 1 Axes>"
      ]
     },
     "metadata": {
      "needs_background": "light"
     },
     "output_type": "display_data"
    }
   ],
   "source": [
    "test(lambda A, c, gamma, h_0: solve_auxilary_problem_exact_gd_np(A, c, gamma, h_0), 1000)"
   ]
  },
  {
   "cell_type": "code",
   "execution_count": 125,
   "metadata": {},
   "outputs": [
    {
     "name": "stdout",
     "output_type": "stream",
     "text": [
      "A = tensor([[1.0187, 0.0000, 0.0000, 0.0000],\n",
      "        [0.0000, 0.4451, 0.0000, 0.0000],\n",
      "        [0.0000, 0.0000, 1.2434, 0.0000],\n",
      "        [0.0000, 0.0000, 0.0000, 0.1589]]) \n",
      "\n",
      "c = tensor([ 0.0000, 15.8616,  0.0000,  0.0000]) \n",
      "\n",
      "gamma = tensor([50.6918]) \n",
      "\n",
      "Time: 0.0026117690695100465 \n",
      "\n",
      "h = tensor([-2.7098e-06, -6.7458e-01, -2.2792e-06, -5.1315e-06])\n"
     ]
    },
    {
     "data": {
      "image/png": "[encoded data removed]",
      "text/plain": [
       "<Figure size 432x288 with 1 Axes>"
      ]
     },
     "metadata": {
      "needs_background": "light"
     },
     "output_type": "display_data"
    }
   ],
   "source": [
    "test(lambda A, c, gamma, h_0: solve_auxilary_problem_exact_gd(A, c, gamma, h_0), 1000)"
   ]
  },
  {
   "cell_type": "code",
   "execution_count": 140,
   "metadata": {},
   "outputs": [
    {
     "name": "stdout",
     "output_type": "stream",
     "text": [
      "A = tensor([[0.1687, 0.0000, 0.0000, 0.0000],\n",
      "        [0.0000, 1.7957, 0.0000, 0.0000],\n",
      "        [0.0000, 0.0000, 0.0367, 0.0000],\n",
      "        [0.0000, 0.0000, 0.0000, 0.8503]]) \n",
      "\n",
      "c = tensor([ 0.0000, 10.2092,  0.0000,  0.0000]) \n",
      "\n",
      "gamma = tensor([120.0387]) \n",
      "\n",
      "Time: 0.0017909875881159678 \n",
      "\n",
      "h = tensor([-3.4920e-06, -4.2845e-01, -5.5505e-06,  4.6373e-08])\n"
     ]
    },
    {
     "data": {
      "image/png": "[encoded data removed]",
      "text/plain": [
       "<Figure size 432x288 with 1 Axes>"
      ]
     },
     "metadata": {
      "needs_background": "light"
     },
     "output_type": "display_data"
    }
   ],
   "source": [
    "test(lambda A, c, gamma, h_0: solve_auxilary_problem_exact_newton(A, c, gamma, h_0), 1000)"
   ]
  },
  {
   "cell_type": "code",
   "execution_count": 247,
   "metadata": {},
   "outputs": [],
   "source": [
    "def tridiag(d, e):\n",
    "    '''\n",
    "    Construct symmetric tridiagonal matrix from its main diagonal d and \n",
    "    above/below main diagonals equal to e\n",
    "    '''\n",
    "    return torch.diag(d) + torch.diag(e, -1) + torch.diag(e, 1)\n",
    "\n",
    "\n",
    "def utu_decomposition(A):  # TODO\n",
    "    '''\n",
    "    Decomposition of symmetric matrix A to U @ T @ U.T, where\n",
    "    U - symmetric ortogonal matrix, T - symmetric tridiagonla matrix\n",
    "    '''\n",
    "    a = A.tolist()\n",
    "    N = len(a)\n",
    "    a, tau, d, e = xalglib.smatrixtd(a, N, True)\n",
    "    u = xalglib.smatrixtdunpackq(a, N, True, tau)\n",
    "    U = torch.tensor(u)\n",
    "    T = tridiag(torch.tensor(d), torch.tensor(e))\n",
    "    return T, U\n",
    "\n",
    "\n",
    "def auxilary_problem_objective(h, A, c, gamma):\n",
    "    value = .5 * A @ h @ h + c @ h +gamma * torch.norm(h)**4 / 4\n",
    "    return value\n",
    "\n",
    "\n",
    "def solve_auxilary_problem_autograd_vanilla_gd(A, c, gamma, h_0, learning_rate=0.001, n_iter=1000):\n",
    "    h = h_0.clone().detach().requires_grad_()\n",
    "    for i in range(n_iter):\n",
    "        value = auxilary_problem_objective(h, A, c, gamma)\n",
    "        grad = gradient(value, h)\n",
    "        with torch.no_grad():\n",
    "            h -= learning_rate * grad\n",
    "    return h\n",
    "\n",
    "\n",
    "def solve_auxilary_problem_analytic_vanilla_gd(A, c, gamma, h_0, learning_rate=0.001, n_iter=1000):\n",
    "    h = h_0.clone().detach()\n",
    "    for i in range(n_iter): \n",
    "        grad = A @ h + c + gamma * torch.norm(h)**2 * h\n",
    "        with torch.no_grad():\n",
    "            h -= learning_rate * grad\n",
    "    return h\n",
    "\n",
    "\n",
    "def solve_auxilary_problem_analytic_gd_grad_norm(A, c, gamma, h_0, learning_rate=0.001, grad_norm=1e-5):\n",
    "    h = h_0.clone().detach()\n",
    "    \n",
    "    for i in range(n_iter): \n",
    "        grad = A @ h + c + gamma * torch.norm(h)**2 * h\n",
    "        with torch.no_grad():\n",
    "            h -= learning_rate * grad\n",
    "    return h\n",
    "\n",
    "\n",
    "def solve_auxilary_problem_analytic_vanilla_gd(A, c, gamma, h_0, learning_rate=0.001, n_iter=1000):\n",
    "    h = h_0.clone().detach()\n",
    "    for i in range(n_iter): \n",
    "        grad = A @ h + c + gamma * torch.norm(h)**2 * h\n",
    "        with torch.no_grad():\n",
    "            h -= learning_rate * grad\n",
    "    return h\n",
    "\n",
    "\n",
    "# def auxilary_subproblem_objective(tau, T, c_tilda, gamma):\n",
    "#     I = torch.eye(len(c_tilda))\n",
    "#     value = tau**2 + .5 * c_tilda.T @ torch.inverse(2 * math.sqrt(gamma) * tau * I + T) @ c_tilda\n",
    "#     return value\n",
    "\n",
    "\n",
    "# def solve_auxilary_subproblem(T, c_tilda, gamma, learning_rate=0.1, n_iter=100):\n",
    "#     tau = torch.tensor(1, dtype=torch.float32, requires_grad=True)\n",
    "#     for i in range(n_iter):  # TODO\n",
    "#         value = auxilary_subproblem_objective(tau, T, c_tilda, gamma)\n",
    "#         grad = gradient(value, tau)\n",
    "#         with torch.no_grad():\n",
    "#             tau -= learning_rate * grad\n",
    "#     return tau\n",
    "\n",
    "\n",
    "# def solve_auxilary_problem(A, c, gamma, learning_rate=0.1, n_iter=100):\n",
    "#     T, U = utu_decomposition(A)\n",
    "#     c_tilda = U.T @ c\n",
    "    \n",
    "#     tau = solve_auxilary_subproblem(T, c_tilda, gamma, learning_rate, n_iter)\n",
    "#     assert tau > 0\n",
    "#     I = torch.eye(len(c_tilda))\n",
    "#     h = -U @ torch.inverse(2 * math.sqrt(gamma) * tau * I + T) @ c_tilda\n",
    "    \n",
    "#     return h\n",
    "\n",
    "\n",
    "def solve_auxilary_problem_exact_gd(A, c, gamma, h_0, ):\n",
    "    h = h_0.clone().detach()\n",
    "    for i in range(n_iter): \n",
    "        grad = A @ h + c + gamma * torch.norm(h)**2 * h\n",
    "        with torch.no_grad():\n",
    "            h -= learning_rate * grad\n",
    "    return h"
   ]
  },
  {
   "cell_type": "code",
   "execution_count": 249,
   "metadata": {},
   "outputs": [
    {
     "name": "stdout",
     "output_type": "stream",
     "text": [
      "A = tensor([[0.8327, 0.0000, 0.0000, 0.0000],\n",
      "        [0.0000, 0.0684, 0.0000, 0.0000],\n",
      "        [0.0000, 0.0000, 0.8428, 0.0000],\n",
      "        [0.0000, 0.0000, 0.0000, 0.0840]]) \n",
      "\n",
      "c = tensor([ 0.0000, 25.9040,  0.0000,  0.0000]) \n",
      "\n",
      "gamma = tensor([13.1424]) \n",
      "\n",
      "h = tensor([ 6.4381e-10, -1.2524e+00,  6.3726e-10,  1.3828e-09])\n"
     ]
    },
    {
     "data": {
      "image/png": "[encoded data removed]",
      "text/plain": [
       "<Figure size 432x288 with 1 Axes>"
      ]
     },
     "metadata": {
      "needs_background": "light"
     },
     "output_type": "display_data"
    }
   ],
   "source": [
    "def test(solve):\n",
    "    A = torch.diag(torch.abs(torch.randn(4)))\n",
    "    k = 1\n",
    "    e_k = torch.zeros(4)\n",
    "    e_k[k] = 1\n",
    "    c = (10 + 10 * torch.abs(torch.randn(1))) * e_k\n",
    "    gamma = 100 * torch.abs(torch.randn(1))\n",
    "    h_0 = torch.ones_like(c)\n",
    "\n",
    "    print('A =', A, '\\n')\n",
    "    print('c =', c, '\\n')\n",
    "    print('gamma =', gamma, '\\n')\n",
    "\n",
    "    \n",
    "    h = solve_auxilary_problem_analytic_vanilla_gd(A, c, gamma, h_0)\n",
    "    print('h =', h)\n",
    "\n",
    "    def f(h):\n",
    "        return c @ h + .5 * h.T @ A @ h + gamma * torch.norm(h)**4 / 4\n",
    "\n",
    "    xx = np.linspace(-2, 2, 1000)\n",
    "    yy = [f(x * e_k) for x in xx]\n",
    "    plt.plot(xx, yy)\n",
    "    y1, y2 = min(yy) - 10, min(yy) + 100\n",
    "    plt.ylim(y1, y2)\n",
    "    plt.plot([h[k], h[k]], [y1, y2])\n",
    "\n",
    "test()"
   ]
  },
  {
   "cell_type": "code",
   "execution_count": 238,
   "metadata": {},
   "outputs": [
    {
     "name": "stdout",
     "output_type": "stream",
     "text": [
      "A = tensor([[-1., -2.,  1.,  2.],\n",
      "        [-2.,  3.,  0., -2.],\n",
      "        [ 1.,  0.,  2.,  1.],\n",
      "        [ 2., -2.,  1.,  4.]]) \n",
      "\n",
      "T = tensor([[ 1.9867,  0.9067,  0.0000,  0.0000],\n",
      "        [ 0.9067, -1.3200, -1.6667,  0.0000],\n",
      "        [ 0.0000, -1.6667,  3.3333, -3.0000],\n",
      "        [ 0.0000,  0.0000, -3.0000,  4.0000]]) \n",
      "\n",
      "U = tensor([[ 0.1333, -0.7333, -0.6667,  0.0000],\n",
      "        [-0.3333, -0.6667,  0.6667,  0.0000],\n",
      "        [-0.9333,  0.1333, -0.3333,  0.0000],\n",
      "        [ 0.0000,  0.0000,  0.0000,  1.0000]]) \n",
      "\n",
      "U @ T @ U.T = tensor([[-1.0000e+00, -2.0000e+00,  1.0000e+00,  2.0000e+00],\n",
      "        [-2.0000e+00,  3.0000e+00,  8.1956e-08, -2.0000e+00],\n",
      "        [ 1.0000e+00,  0.0000e+00,  2.0000e+00,  1.0000e+00],\n",
      "        [ 2.0000e+00, -2.0000e+00,  1.0000e+00,  4.0000e+00]]) \n",
      "\n"
     ]
    }
   ],
   "source": [
    "def test():\n",
    "    A = torch.tensor([\n",
    "        [-1, -2, 1, 2],\n",
    "        [-2, 3, 0, -2],\n",
    "        [1, 0, 2, 1],\n",
    "        [2, -2, 1, 4]\n",
    "    ], dtype=torch.float32)\n",
    "    c = torch.ones(4)\n",
    "    gamma = 1\n",
    "\n",
    "    T, U = utu_decomposition(A)\n",
    "    print('A =', A, '\\n')\n",
    "    print('T =', T, '\\n')\n",
    "    print('U =', U, '\\n')\n",
    "    print('U @ T @ U.T =', U @ T @ U.T, '\\n')\n",
    "\n",
    "test()"
   ]
  },
  {
   "cell_type": "code",
   "execution_count": 239,
   "metadata": {},
   "outputs": [
    {
     "name": "stdout",
     "output_type": "stream",
     "text": [
      "A = tensor([[ 0.2438,  0.0425,  0.0764,  0.1000],\n",
      "        [ 0.0425,  0.3516, -0.0119, -0.0956],\n",
      "        [ 0.0764, -0.0119,  0.1758,  0.0230],\n",
      "        [ 0.1000, -0.0956,  0.0230,  0.2441]]) \n",
      "\n",
      "T = tensor([[ 0.3091,  0.0882,  0.0000,  0.0000],\n",
      "        [ 0.0882,  0.1908,  0.0648,  0.0000],\n",
      "        [ 0.0000,  0.0648,  0.2713, -0.1402],\n",
      "        [ 0.0000,  0.0000, -0.1402,  0.2441]]) \n",
      "\n",
      "U = tensor([[ 0.4269,  0.5564, -0.7128,  0.0000],\n",
      "        [ 0.6076,  0.4074,  0.6818,  0.0000],\n",
      "        [ 0.6698, -0.7242, -0.1642,  0.0000],\n",
      "        [ 0.0000,  0.0000,  0.0000,  1.0000]]) \n",
      "\n",
      "U @ T @ U.T = tensor([[ 0.2438,  0.0425,  0.0764,  0.1000],\n",
      "        [ 0.0425,  0.3516, -0.0119, -0.0956],\n",
      "        [ 0.0764, -0.0119,  0.1758,  0.0230],\n",
      "        [ 0.1000, -0.0956,  0.0230,  0.2441]]) \n",
      "\n",
      "tau = tensor(0.8679, requires_grad=True) \n",
      "\n"
     ]
    },
    {
     "data": {
      "image/png": "[encoded data removed]",
      "text/plain": [
       "<Figure size 432x288 with 1 Axes>"
      ]
     },
     "metadata": {
      "needs_background": "light"
     },
     "output_type": "display_data"
    }
   ],
   "source": [
    "def test():\n",
    "    c = torch.randn(4)\n",
    "    x = torch.randn(4, requires_grad=True)\n",
    "    f = -sum(torch.log(torch.sigmoid(x @ torch.randn(4))) for _ in range(10))\n",
    "    A = hessian(f, x)\n",
    "    gamma = 1\n",
    "\n",
    "    T, U = utu_decomposition(A)\n",
    "    print('A =', A, '\\n')\n",
    "    print('T =', T, '\\n')\n",
    "    print('U =', U, '\\n')\n",
    "    print('U @ T @ U.T =', U @ T @ U.T, '\\n')\n",
    "\n",
    "    tau = solve_auxilary_subproblem(T, c, gamma, 0.1)\n",
    "    print('tau =', tau, '\\n')\n",
    "\n",
    "    xx = np.linspace(-2, 5, 1000)\n",
    "    y = [auxilary_subproblem_objective(x, T, c, gamma) for x in xx]\n",
    "    plt.plot(xx, y)\n",
    "    plt.ylim(-5, 5)\n",
    "    plt.plot([tau, tau], [-5, 5])\n",
    "\n",
    "test()"
   ]
  },
  {
   "cell_type": "code",
   "execution_count": 240,
   "metadata": {},
   "outputs": [
    {
     "name": "stdout",
     "output_type": "stream",
     "text": [
      "A = tensor([[0.8517, 0.0000, 0.0000, 0.0000],\n",
      "        [0.0000, 0.4831, 0.0000, 0.0000],\n",
      "        [0.0000, 0.0000, 0.9770, 0.0000],\n",
      "        [0.0000, 0.0000, 0.0000, 0.6764]]) \n",
      "\n",
      "c = tensor([ 0.0000, 18.0366,  0.0000,  0.0000]) \n",
      "\n",
      "gamma = tensor([3.9940]) \n",
      "\n",
      "h = tensor([ 0.0000, -1.6285,  0.0000,  0.0000], grad_fn=<MvBackward>)\n"
     ]
    },
    {
     "data": {
      "image/png": "[encoded data removed]",
      "text/plain": [
       "<Figure size 432x288 with 1 Axes>"
      ]
     },
     "metadata": {
      "needs_background": "light"
     },
     "output_type": "display_data"
    }
   ],
   "source": [
    "def test():\n",
    "    A = torch.diag(torch.abs(torch.randn(4)))\n",
    "    k = 1\n",
    "    e_k = torch.zeros(4)\n",
    "    e_k[k] = 1\n",
    "    c = (10 + 10 * torch.abs(torch.randn(1))) * e_k\n",
    "    gamma = 100 * torch.abs(torch.randn(1))\n",
    "\n",
    "    print('A =', A, '\\n')\n",
    "    print('c =', c, '\\n')\n",
    "    print('gamma =', gamma, '\\n')\n",
    "\n",
    "    h = solve_auxilary_problem(A, c, gamma)\n",
    "    print('h =', h)\n",
    "\n",
    "    def f(h):\n",
    "        return c @ h + .5 * c.T @ A @ c + gamma * torch.norm(h)**4 / 4\n",
    "\n",
    "    xx = np.linspace(-2, 2, 1000)\n",
    "    yy = [f(x * e_k) for x in xx]\n",
    "    plt.plot(xx, yy)\n",
    "    y1, y2 = min(yy) - 10, min(yy) + 100\n",
    "    plt.ylim(y1, y2)\n",
    "    plt.plot([h[k], h[k]], [y1, y2])\n",
    "\n",
    "test()"
   ]
  },
  {
   "cell_type": "code",
   "execution_count": 242,
   "metadata": {},
   "outputs": [
    {
     "name": "stdout",
     "output_type": "stream",
     "text": [
      "A = tensor([[1.4197, 0.0000, 0.0000, 0.0000],\n",
      "        [0.0000, 0.1215, 0.0000, 0.0000],\n",
      "        [0.0000, 0.0000, 0.0601, 0.0000],\n",
      "        [0.0000, 0.0000, 0.0000, 1.0137]]) \n",
      "\n",
      "c = tensor([ 0.0000, 14.6713,  0.0000,  0.0000]) \n",
      "\n",
      "gamma = tensor([73.0526]) \n",
      "\n",
      "h = tensor([ 2.0976e-12, -5.8467e-01,  8.4703e-12,  3.1826e-12],\n",
      "       requires_grad=True)\n"
     ]
    },
    {
     "data": {
      "image/png": "[encoded data removed]",
      "text/plain": [
       "<Figure size 432x288 with 1 Axes>"
      ]
     },
     "metadata": {
      "needs_background": "light"
     },
     "output_type": "display_data"
    }
   ],
   "source": [
    "def test():\n",
    "    A = torch.diag(torch.abs(torch.randn(4)))\n",
    "    k = 1\n",
    "    e_k = torch.zeros(4)\n",
    "    e_k[k] = 1\n",
    "    c = (10 + 10 * torch.abs(torch.randn(1))) * e_k\n",
    "    gamma = 100 * torch.abs(torch.randn(1))\n",
    "    h_0 = torch.ones_like(c)\n",
    "\n",
    "    print('A =', A, '\\n')\n",
    "    print('c =', c, '\\n')\n",
    "    print('gamma =', gamma, '\\n')\n",
    "\n",
    "    h = solve_auxilary_problem_dummy_gd(A, c, gamma, h_0)\n",
    "    print('h =', h)\n",
    "\n",
    "    def f(h):\n",
    "        return c @ h + .5 * h.T @ A @ h + gamma * torch.norm(h)**4 / 4\n",
    "\n",
    "    xx = np.linspace(-2, 2, 1000)\n",
    "    yy = [f(x * e_k) for x in xx]\n",
    "    plt.plot(xx, yy)\n",
    "    y1, y2 = min(yy) - 10, min(yy) + 100\n",
    "    plt.ylim(y1, y2)\n",
    "    plt.plot([h[k], h[k]], [y1, y2])\n",
    "\n",
    "test()"
   ]
  },
  {
   "cell_type": "markdown",
   "metadata": {},
   "source": [
    "# Bregman-distance gradient method"
   ]
  },
  {
   "cell_type": "code",
   "execution_count": 153,
   "metadata": {},
   "outputs": [],
   "source": [
    "def BDGM(f, x_tilda_k, eps, L3):\n",
    "    \n",
    "    f_x_tilda_k = f(x_tilda_k)\n",
    "    g_x_tilda_k = gradient(f_x_tilda_k, x_tilda_k, retain_graph=True)\n",
    "    H_x_tilda_k = hessian(f_x_tilda_k, x_tilda_k)\n",
    "    \n",
    "    delta = 0.001 * eps**1.5 / (torch.norm(g_x_tilda_k)**0.5 + torch.norm(H_x_tilda_k)**1.5 / L3**0.5)\n",
    "    \n",
    "    d3 = D3(f_x_tilda_k, x_tilda_k)\n",
    "    def phi_k():  # z = z_i, h_i = z - x_tilda_k\n",
    "        return g_x_tilda_k @ h_i + H_x_tilda_k @ h_i @ h_i + d3 @ h_i @ h_i @ h_i + L3 * torch.norm(h_i)**4 / 4\n",
    "    \n",
    "    z_0 = x_tilda_k\n",
    "    tau = 3 * delta / (8 * (2 + math.sqrt(2)) * torch.norm(g_x_tilda_k))\n",
    "    print('tau', tau)\n",
    "    \n",
    "    \n",
    "    def rho_k(z):\n",
    "        '''\n",
    "        Scaling function\n",
    "        '''\n",
    "        v = z - x_tilda_k\n",
    "        return .5 * H_x_tilda_k @ v @ v + L3 * d_p(v, 4)\n",
    "    \n",
    "    def beta_rho_k(z_i, z):\n",
    "        '''\n",
    "        Bregman distance\n",
    "        '''\n",
    "        grad_rho_k = gradient(rho_k(z_i), z_i)\n",
    "        return rho_k(z) - rho_k(z_i) - grad_rho_k @ (z - z_i)\n",
    "    \n",
    "    def g_x_tilda_k_tau():  # z = z_i, h_i = z - x_tilda_k\n",
    "        x_p = x_tilda_k + tau * h_i\n",
    "        grad_g_p = gradient(f(x_p), x_p)\n",
    "        x_n = x_tilda_k - tau * h_i\n",
    "        grad_g_n = gradient(f(x_n), x_n)\n",
    "        r = 1 / tau**2 * (grad_g_p + grad_g_n - 2 * g_x_tilda_k)\n",
    "        return r\n",
    "    \n",
    "    def g_phi_k_tau():  # z = z_i, h_i = z - x_tilda_k\n",
    "        return g_x_tilda_k + H_x_tilda_k @ h_i + g_x_tilda_k_tau() + L3 * (h_i**2).sum() * h_i\n",
    "    \n",
    "    def auxilary_subproblem_dummy_objective(z, g_phi_k_tau_z_i, z_i): \n",
    "        value = g_phi_k_tau_z_i @ (z - z_i) + 2 * (1 + 2**(-.5)) * beta_rho_k(z_i, z)\n",
    "        return value\n",
    "    \n",
    "    i = 0\n",
    "    z_i = z_0\n",
    "    while True:\n",
    "#         print(i)\n",
    "        h_i = z_i - x_tilda_k\n",
    "        g_phi_k_tau_z_i = g_phi_k_tau()\n",
    "        grad_f_z_i = gradient(f(z_i), z_i)\n",
    "        if torch.norm(g_phi_k_tau_z_i) <= 1 / 6 * torch.norm(grad_f_z_i) - delta:\n",
    "            break\n",
    "        else:\n",
    "            A = (2 + math.sqrt(2)) * H_x_tilda_k\n",
    "            c = g_phi_k_tau_z_i - (2 + math.sqrt(2)) * (H_x_tilda_k @ h_i + L3 * (h_i**2).sum() * h_i)\n",
    "            gamma = L3 * (2 + math.sqrt(2))    \n",
    "#             h = solve_auxilary_problem_dummy_gd(A, c, gamma, h_i, 0.01, n_iter=10)\n",
    "            h = solve_auxilary_problem_exact_newton(A, c, gamma, h_i)\n",
    "#             h = solve_auxilary_problem(A, c, gamma, 0.1, n_iter=100)\n",
    "            z_i = h + x_tilda_k\n",
    "        i += 1\n",
    "    print(i)\n",
    "    return z_i"
   ]
  },
  {
   "cell_type": "code",
   "execution_count": 154,
   "metadata": {},
   "outputs": [],
   "source": [
    "x_tilda_k = torch.randn(31, requires_grad=True)"
   ]
  },
  {
   "cell_type": "code",
   "execution_count": 157,
   "metadata": {},
   "outputs": [
    {
     "name": "stdout",
     "output_type": "stream",
     "text": [
      "tau tensor(7.3583e-13)\n",
      "6\n",
      "tau tensor(7.3583e-13)\n",
      "6\n",
      "tau tensor(7.3583e-13)\n",
      "6\n",
      "tau tensor(7.3583e-13)\n",
      "6\n",
      "tau tensor(7.3583e-13)\n",
      "6\n",
      "tau tensor(7.3583e-13)\n",
      "6\n",
      "tau tensor(7.3583e-13)\n",
      "6\n",
      "tau tensor(7.3583e-13)\n",
      "6\n",
      "tau tensor(7.3583e-13)\n",
      "6\n",
      "tau tensor(7.3583e-13)\n",
      "6\n",
      "Time: 0.1416508082067594\n",
      "z_opt = tensor([ 0.2582, -0.2652,  0.6036,  1.4782,  1.0481, -0.0665, -0.5907, -0.2897,\n",
      "        -0.1219, -0.4652,  0.8993, -0.6972, -0.0143,  0.3260, -0.1527,  1.1433,\n",
      "        -0.9706, -0.9015, -0.3404,  0.5458,  0.5312, -1.1154,  0.8629,  0.7883,\n",
      "        -0.3960,  1.5450,  1.7639, -0.8842,  0.3189,  0.8665,  1.1953],\n",
      "       grad_fn=<AddBackward0>)\n",
      "z_opt is feasible: tensor(True)\n",
      "phi_k(z_opt) = tensor(-1.5024, grad_fn=<AddBackward0>)\n",
      "z_opt is optimal: True\n",
      "z_opt is optimal: True\n",
      "z_opt is optimal: True\n",
      "z_opt is optimal: True\n",
      "z_opt is optimal: True\n",
      "z_opt is optimal: False\n",
      "z_opt is optimal: False\n"
     ]
    }
   ],
   "source": [
    "def test(N):\n",
    "    def f(x):\n",
    "        return torch.nn.functional.binary_cross_entropy_with_logits(X @ x, y)\n",
    "\n",
    "    f_x_tilda_k = f(x_tilda_k)\n",
    "    g = gradient(f_x_tilda_k, x_tilda_k, retain_graph=True)\n",
    "    h = hessian(f_x_tilda_k, x_tilda_k)\n",
    "    d3 = D3(f_x_tilda_k, x_tilda_k)\n",
    "    \n",
    "    L3 = 5\n",
    "    eps = 1e-5\n",
    "    \n",
    "    def phi_k(z):\n",
    "        y = z - x_tilda_k\n",
    "        return g @ y + h @ y @ y + d3 @ y @ y @ y + L3 * torch.norm(y)**4 / 4\n",
    "\n",
    "    def is_feasible(z):\n",
    "        return torch.norm(z - x_tilda_k) <= 2 * ((2 + math.sqrt(2)) * torch.norm(g) / L3) ** (1/3)\n",
    "\n",
    "    times = []\n",
    "    for _ in range(N):\n",
    "        start = clock_gettime(CLOCK_MONOTONIC)\n",
    "        z_opt = BDGM(f, x_tilda_k, eps, L3)\n",
    "        end = clock_gettime(CLOCK_MONOTONIC)\n",
    "        times.append(end - start)\n",
    "    \n",
    "    print('Time:', np.mean(times))\n",
    "    \n",
    "    print('z_opt =', z_opt)\n",
    "    print('z_opt is feasible:', is_feasible(z_opt))\n",
    "    \n",
    "    print('phi_k(z_opt) =', phi_k(z_opt))\n",
    "    print('z_opt is optimal:', check_optimality(phi_k, z_opt, eps=1e-1))\n",
    "    print('z_opt is optimal:', check_optimality(phi_k, z_opt, eps=1e-2))\n",
    "    print('z_opt is optimal:', check_optimality(phi_k, z_opt, eps=1e-3))\n",
    "    print('z_opt is optimal:', check_optimality(phi_k, z_opt, eps=1e-4))\n",
    "    print('z_opt is optimal:', check_optimality(phi_k, z_opt, eps=1e-5))\n",
    "    print('z_opt is optimal:', check_optimality(phi_k, z_opt, eps=1e-6))\n",
    "    print('z_opt is optimal:', check_optimality(phi_k, z_opt, eps=1e-7))\n",
    "\n",
    "test(10)"
   ]
  },
  {
   "cell_type": "markdown",
   "metadata": {},
   "source": [
    "# Hyperfast Second-Order Method"
   ]
  },
  {
   "cell_type": "code",
   "execution_count": 130,
   "metadata": {},
   "outputs": [],
   "source": [
    "def square_norm(x):\n",
    "    return torch.sum(torch.tensor(x)**2)\n",
    "\n",
    "def hyperfast_second_order_method(f, y_0, K, L3, eps):\n",
    "    '''\n",
    "    Algorithm 2: Hyperfast Second-Order Method\n",
    "    '''\n",
    "    A_0 = 0\n",
    "    x_0 = y_0 \n",
    "    x_tilda_k = x_0\n",
    "    A_k = A_0\n",
    "    x_k = x_0\n",
    "    y_k = y_0\n",
    "    for k in range(K):\n",
    "        y_k_plus_1 = BDGM(f, x_tilda_k, eps, L3)\n",
    "        y_k_plus_1.requires_grad_()\n",
    "        lambda_min = 2 / (3 * L3 * square_norm(y_k_plus_1 - x_tilda_k))\n",
    "        lambda_max = 1 / (L3 * square_norm(y_k_plus_1 - x_tilda_k))\n",
    "        lambda_k_plus_1 = (lambda_min + lambda_max) / 2\n",
    "        a_k_plus_1 = 1 / 2 * (lambda_k_plus_1 +\n",
    "                              (lambda_k_plus_1 ** 2 +\n",
    "                               4 * lambda_k_plus_1 * A_k) ** 0.5)\n",
    "        A_k_plus_1 = a_k_plus_1 + A_k\n",
    "        x_tilda_k = A_k * y_k / A_k_plus_1 + a_k_plus_1 * x_k / A_k_plus_1\n",
    "        x_k = x_k - a_k_plus_1 * torch.autograd.grad([f(y_k_plus_1)],\n",
    "                                                     [y_k_plus_1],\n",
    "                                                     create_graph=True)[0]\n",
    "        A_k = A_k_plus_1\n",
    "        y_k = y_k_plus_1\n",
    "        print(f(y_k))\n",
    "    return y_k"
   ]
  },
  {
   "cell_type": "code",
   "execution_count": 134,
   "metadata": {},
   "outputs": [],
   "source": [
    "y_0 = torch.randn(31, requires_grad=True)"
   ]
  },
  {
   "cell_type": "code",
   "execution_count": 135,
   "metadata": {},
   "outputs": [
    {
     "data": {
      "text/plain": [
       "tensor([ 1.0220,  0.7849, -1.0733,  0.0301, -1.0313,  0.2381, -2.0226, -0.0070,\n",
       "         0.7885, -0.2347, -0.0379,  1.4524, -1.8557, -0.9215,  1.7471, -0.4450,\n",
       "        -1.8847, -1.1115, -0.7888, -0.5549,  0.8807, -1.3708, -0.4310,  0.3241,\n",
       "         0.0370, -0.1122,  0.4678,  1.5024,  1.6491, -0.6438, -1.2041],\n",
       "       requires_grad=True)"
      ]
     },
     "execution_count": 135,
     "metadata": {},
     "output_type": "execute_result"
    }
   ],
   "source": [
    "y_0"
   ]
  },
  {
   "cell_type": "code",
   "execution_count": 148,
   "metadata": {},
   "outputs": [
    {
     "name": "stdout",
     "output_type": "stream",
     "text": [
      "tau tensor(2.6158e-12)\n",
      "0\n",
      "1\n",
      "2\n",
      "3\n",
      "4\n",
      "5\n",
      "6\n",
      "tensor(1.7098, grad_fn=<BinaryCrossEntropyWithLogitsBackward>)\n",
      "tau tensor(2.6158e-12)\n",
      "0\n",
      "1\n",
      "2\n",
      "3\n",
      "4\n",
      "5\n"
     ]
    },
    {
     "name": "stderr",
     "output_type": "stream",
     "text": [
      "/home/ivb/miniconda3/envs/nlp/lib/python3.7/site-packages/ipykernel_launcher.py:2: UserWarning: To copy construct from a tensor, it is recommended to use sourceTensor.clone().detach() or sourceTensor.clone().detach().requires_grad_(True), rather than torch.tensor(sourceTensor).\n",
      "  \n"
     ]
    },
    {
     "name": "stdout",
     "output_type": "stream",
     "text": [
      "6\n",
      "tensor(1.7098, grad_fn=<BinaryCrossEntropyWithLogitsBackward>)\n",
      "tau tensor(3.6625e-12)\n",
      "0\n",
      "1\n",
      "2\n",
      "3\n",
      "4\n",
      "5\n",
      "6\n",
      "tensor(1.3753, grad_fn=<BinaryCrossEntropyWithLogitsBackward>)\n",
      "tau tensor(5.0386e-12)\n",
      "0\n",
      "1\n",
      "2\n",
      "3\n",
      "4\n",
      "5\n",
      "6\n",
      "tensor(1.1686, grad_fn=<BinaryCrossEntropyWithLogitsBackward>)\n",
      "tau tensor(8.2930e-12)\n",
      "0\n",
      "1\n",
      "2\n",
      "3\n",
      "4\n",
      "5\n",
      "6\n",
      "tensor(0.9069, grad_fn=<BinaryCrossEntropyWithLogitsBackward>)\n",
      "tau tensor(1.1719e-11)\n",
      "0\n",
      "1\n",
      "2\n",
      "3\n",
      "4\n",
      "5\n",
      "6\n",
      "tensor(0.7201, grad_fn=<BinaryCrossEntropyWithLogitsBackward>)\n",
      "tau tensor(1.8771e-11)\n",
      "0\n",
      "1\n",
      "2\n",
      "3\n",
      "4\n",
      "5\n",
      "6\n",
      "tensor(0.5458, grad_fn=<BinaryCrossEntropyWithLogitsBackward>)\n",
      "tau tensor(2.9473e-11)\n",
      "0\n",
      "1\n",
      "2\n",
      "3\n",
      "4\n",
      "5\n",
      "6\n",
      "tensor(0.4237, grad_fn=<BinaryCrossEntropyWithLogitsBackward>)\n",
      "tau tensor(4.7534e-11)\n",
      "0\n",
      "1\n",
      "2\n",
      "3\n",
      "4\n",
      "5\n",
      "6\n",
      "tensor(0.3297, grad_fn=<BinaryCrossEntropyWithLogitsBackward>)\n",
      "tau tensor(8.0475e-11)\n",
      "0\n",
      "1\n",
      "2\n",
      "3\n",
      "4\n",
      "5\n",
      "6\n",
      "tensor(0.2716, grad_fn=<BinaryCrossEntropyWithLogitsBackward>)\n",
      "tau tensor(1.0074e-10)\n",
      "0\n",
      "1\n",
      "2\n",
      "3\n",
      "4\n",
      "5\n",
      "6\n",
      "tensor(0.2358, grad_fn=<BinaryCrossEntropyWithLogitsBackward>)\n",
      "tau tensor(1.1236e-10)\n",
      "0\n",
      "1\n",
      "2\n",
      "3\n",
      "4\n",
      "5\n",
      "6\n",
      "tensor(0.2138, grad_fn=<BinaryCrossEntropyWithLogitsBackward>)\n",
      "tau tensor(1.5799e-10)\n",
      "0\n",
      "1\n",
      "2\n",
      "3\n",
      "4\n",
      "5\n",
      "6\n",
      "tensor(0.1951, grad_fn=<BinaryCrossEntropyWithLogitsBackward>)\n",
      "tau tensor(2.3025e-10)\n",
      "0\n",
      "1\n",
      "2\n",
      "3\n",
      "4\n",
      "5\n",
      "6\n",
      "tensor(0.1824, grad_fn=<BinaryCrossEntropyWithLogitsBackward>)\n",
      "tau tensor(3.3972e-10)\n",
      "0\n",
      "1\n",
      "2\n",
      "3\n",
      "4\n",
      "5\n",
      "6\n",
      "tensor(0.1751, grad_fn=<BinaryCrossEntropyWithLogitsBackward>)\n",
      "tau tensor(3.0067e-10)\n",
      "0\n",
      "1\n",
      "2\n",
      "3\n",
      "4\n",
      "5\n",
      "6\n",
      "tensor(0.1734, grad_fn=<BinaryCrossEntropyWithLogitsBackward>)\n",
      "tau tensor(2.4186e-10)\n",
      "0\n",
      "1\n",
      "2\n",
      "3\n",
      "4\n",
      "5\n",
      "6\n",
      "7\n",
      "tensor(0.1724, grad_fn=<BinaryCrossEntropyWithLogitsBackward>)\n",
      "tau tensor(2.2673e-10)\n",
      "0\n",
      "1\n",
      "2\n",
      "3\n",
      "4\n",
      "5\n",
      "6\n",
      "7\n",
      "tensor(0.1708, grad_fn=<BinaryCrossEntropyWithLogitsBackward>)\n",
      "tau tensor(2.4167e-10)\n",
      "0\n",
      "1\n",
      "2\n",
      "3\n",
      "4\n",
      "5\n",
      "6\n",
      "7\n",
      "tensor(0.1671, grad_fn=<BinaryCrossEntropyWithLogitsBackward>)\n",
      "tau tensor(2.9242e-10)\n",
      "0\n",
      "1\n",
      "2\n",
      "3\n",
      "4\n",
      "5\n",
      "6\n",
      "7\n",
      "tensor(0.1625, grad_fn=<BinaryCrossEntropyWithLogitsBackward>)\n",
      "tau tensor(3.9833e-10)\n",
      "0\n",
      "1\n",
      "2\n",
      "3\n",
      "4\n",
      "5\n",
      "6\n",
      "7\n",
      "tensor(0.1576, grad_fn=<BinaryCrossEntropyWithLogitsBackward>)\n"
     ]
    },
    {
     "ename": "KeyboardInterrupt",
     "evalue": "",
     "output_type": "error",
     "traceback": [
      "\u001b[0;31m---------------------------------------------------------------------------\u001b[0m",
      "\u001b[0;31mKeyboardInterrupt\u001b[0m                         Traceback (most recent call last)",
      "\u001b[0;32m<ipython-input-148-a4577262f8f9>\u001b[0m in \u001b[0;36m<module>\u001b[0;34m\u001b[0m\n\u001b[1;32m     27\u001b[0m     \u001b[0mprint\u001b[0m\u001b[0;34m(\u001b[0m\u001b[0;34m'y_opt is optimal:'\u001b[0m\u001b[0;34m,\u001b[0m \u001b[0mcheck_optimality\u001b[0m\u001b[0;34m(\u001b[0m\u001b[0mf\u001b[0m\u001b[0;34m,\u001b[0m \u001b[0my_opt\u001b[0m\u001b[0;34m,\u001b[0m \u001b[0meps\u001b[0m\u001b[0;34m=\u001b[0m\u001b[0;36m1e-7\u001b[0m\u001b[0;34m)\u001b[0m\u001b[0;34m)\u001b[0m\u001b[0;34m\u001b[0m\u001b[0m\n\u001b[1;32m     28\u001b[0m \u001b[0;34m\u001b[0m\u001b[0m\n\u001b[0;32m---> 29\u001b[0;31m \u001b[0mtest\u001b[0m\u001b[0;34m(\u001b[0m\u001b[0;36m1\u001b[0m\u001b[0;34m)\u001b[0m\u001b[0;34m\u001b[0m\u001b[0m\n\u001b[0m",
      "\u001b[0;32m<ipython-input-148-a4577262f8f9>\u001b[0m in \u001b[0;36mtest\u001b[0;34m(N)\u001b[0m\n\u001b[1;32m     11\u001b[0m     \u001b[0;32mfor\u001b[0m \u001b[0m_\u001b[0m \u001b[0;32min\u001b[0m \u001b[0mrange\u001b[0m\u001b[0;34m(\u001b[0m\u001b[0mN\u001b[0m\u001b[0;34m)\u001b[0m\u001b[0;34m:\u001b[0m\u001b[0;34m\u001b[0m\u001b[0m\n\u001b[1;32m     12\u001b[0m         \u001b[0mstart\u001b[0m \u001b[0;34m=\u001b[0m \u001b[0mclock_gettime\u001b[0m\u001b[0;34m(\u001b[0m\u001b[0mCLOCK_MONOTONIC\u001b[0m\u001b[0;34m)\u001b[0m\u001b[0;34m\u001b[0m\u001b[0m\n\u001b[0;32m---> 13\u001b[0;31m         \u001b[0my_opt\u001b[0m \u001b[0;34m=\u001b[0m \u001b[0mhyperfast_second_order_method\u001b[0m\u001b[0;34m(\u001b[0m\u001b[0mf\u001b[0m\u001b[0;34m,\u001b[0m \u001b[0my_0\u001b[0m\u001b[0;34m,\u001b[0m \u001b[0mK\u001b[0m\u001b[0;34m,\u001b[0m \u001b[0mL3\u001b[0m\u001b[0;34m,\u001b[0m \u001b[0meps\u001b[0m\u001b[0;34m)\u001b[0m\u001b[0;34m\u001b[0m\u001b[0m\n\u001b[0m\u001b[1;32m     14\u001b[0m         \u001b[0mend\u001b[0m \u001b[0;34m=\u001b[0m \u001b[0mclock_gettime\u001b[0m\u001b[0;34m(\u001b[0m\u001b[0mCLOCK_MONOTONIC\u001b[0m\u001b[0;34m)\u001b[0m\u001b[0;34m\u001b[0m\u001b[0m\n\u001b[1;32m     15\u001b[0m         \u001b[0mtimes\u001b[0m\u001b[0;34m.\u001b[0m\u001b[0mappend\u001b[0m\u001b[0;34m(\u001b[0m\u001b[0mend\u001b[0m \u001b[0;34m-\u001b[0m \u001b[0mstart\u001b[0m\u001b[0;34m)\u001b[0m\u001b[0;34m\u001b[0m\u001b[0m\n",
      "\u001b[0;32m<ipython-input-130-f8345ffdc4f1>\u001b[0m in \u001b[0;36mhyperfast_second_order_method\u001b[0;34m(f, y_0, K, L3, eps)\u001b[0m\n\u001b[1;32m     13\u001b[0m     \u001b[0my_k\u001b[0m \u001b[0;34m=\u001b[0m \u001b[0my_0\u001b[0m\u001b[0;34m\u001b[0m\u001b[0m\n\u001b[1;32m     14\u001b[0m     \u001b[0;32mfor\u001b[0m \u001b[0mk\u001b[0m \u001b[0;32min\u001b[0m \u001b[0mrange\u001b[0m\u001b[0;34m(\u001b[0m\u001b[0mK\u001b[0m\u001b[0;34m)\u001b[0m\u001b[0;34m:\u001b[0m\u001b[0;34m\u001b[0m\u001b[0m\n\u001b[0;32m---> 15\u001b[0;31m         \u001b[0my_k_plus_1\u001b[0m \u001b[0;34m=\u001b[0m \u001b[0mBDGM\u001b[0m\u001b[0;34m(\u001b[0m\u001b[0mf\u001b[0m\u001b[0;34m,\u001b[0m \u001b[0mx_tilda_k\u001b[0m\u001b[0;34m,\u001b[0m \u001b[0meps\u001b[0m\u001b[0;34m,\u001b[0m \u001b[0mL3\u001b[0m\u001b[0;34m)\u001b[0m\u001b[0;34m\u001b[0m\u001b[0m\n\u001b[0m\u001b[1;32m     16\u001b[0m         \u001b[0my_k_plus_1\u001b[0m\u001b[0;34m.\u001b[0m\u001b[0mrequires_grad_\u001b[0m\u001b[0;34m(\u001b[0m\u001b[0;34m)\u001b[0m\u001b[0;34m\u001b[0m\u001b[0m\n\u001b[1;32m     17\u001b[0m         \u001b[0mlambda_min\u001b[0m \u001b[0;34m=\u001b[0m \u001b[0;36m2\u001b[0m \u001b[0;34m/\u001b[0m \u001b[0;34m(\u001b[0m\u001b[0;36m3\u001b[0m \u001b[0;34m*\u001b[0m \u001b[0mL3\u001b[0m \u001b[0;34m*\u001b[0m \u001b[0msquare_norm\u001b[0m\u001b[0;34m(\u001b[0m\u001b[0my_k_plus_1\u001b[0m \u001b[0;34m-\u001b[0m \u001b[0mx_tilda_k\u001b[0m\u001b[0;34m)\u001b[0m\u001b[0;34m)\u001b[0m\u001b[0;34m\u001b[0m\u001b[0m\n",
      "\u001b[0;32m<ipython-input-145-78d12980a7bb>\u001b[0m in \u001b[0;36mBDGM\u001b[0;34m(f, x_tilda_k, eps, L3)\u001b[0m\n\u001b[1;32m      7\u001b[0m     \u001b[0mdelta\u001b[0m \u001b[0;34m=\u001b[0m \u001b[0;36m0.001\u001b[0m \u001b[0;34m*\u001b[0m \u001b[0meps\u001b[0m\u001b[0;34m**\u001b[0m\u001b[0;36m1.5\u001b[0m \u001b[0;34m/\u001b[0m \u001b[0;34m(\u001b[0m\u001b[0mtorch\u001b[0m\u001b[0;34m.\u001b[0m\u001b[0mnorm\u001b[0m\u001b[0;34m(\u001b[0m\u001b[0mg_x_tilda_k\u001b[0m\u001b[0;34m)\u001b[0m\u001b[0;34m**\u001b[0m\u001b[0;36m0.5\u001b[0m \u001b[0;34m+\u001b[0m \u001b[0mtorch\u001b[0m\u001b[0;34m.\u001b[0m\u001b[0mnorm\u001b[0m\u001b[0;34m(\u001b[0m\u001b[0mH_x_tilda_k\u001b[0m\u001b[0;34m)\u001b[0m\u001b[0;34m**\u001b[0m\u001b[0;36m1.5\u001b[0m \u001b[0;34m/\u001b[0m \u001b[0mL3\u001b[0m\u001b[0;34m**\u001b[0m\u001b[0;36m0.5\u001b[0m\u001b[0;34m)\u001b[0m\u001b[0;34m\u001b[0m\u001b[0m\n\u001b[1;32m      8\u001b[0m \u001b[0;34m\u001b[0m\u001b[0m\n\u001b[0;32m----> 9\u001b[0;31m     \u001b[0md3\u001b[0m \u001b[0;34m=\u001b[0m \u001b[0mD3\u001b[0m\u001b[0;34m(\u001b[0m\u001b[0mf_x_tilda_k\u001b[0m\u001b[0;34m,\u001b[0m \u001b[0mx_tilda_k\u001b[0m\u001b[0;34m)\u001b[0m\u001b[0;34m\u001b[0m\u001b[0m\n\u001b[0m\u001b[1;32m     10\u001b[0m     \u001b[0;32mdef\u001b[0m \u001b[0mphi_k\u001b[0m\u001b[0;34m(\u001b[0m\u001b[0;34m)\u001b[0m\u001b[0;34m:\u001b[0m  \u001b[0;31m# z = z_i, h_i = z - x_tilda_k\u001b[0m\u001b[0;34m\u001b[0m\u001b[0m\n\u001b[1;32m     11\u001b[0m         \u001b[0;32mreturn\u001b[0m \u001b[0mg_x_tilda_k\u001b[0m \u001b[0;34m@\u001b[0m \u001b[0mh_i\u001b[0m \u001b[0;34m+\u001b[0m \u001b[0mH_x_tilda_k\u001b[0m \u001b[0;34m@\u001b[0m \u001b[0mh_i\u001b[0m \u001b[0;34m@\u001b[0m \u001b[0mh_i\u001b[0m \u001b[0;34m+\u001b[0m \u001b[0md3\u001b[0m \u001b[0;34m@\u001b[0m \u001b[0mh_i\u001b[0m \u001b[0;34m@\u001b[0m \u001b[0mh_i\u001b[0m \u001b[0;34m@\u001b[0m \u001b[0mh_i\u001b[0m \u001b[0;34m+\u001b[0m \u001b[0mL3\u001b[0m \u001b[0;34m*\u001b[0m \u001b[0mtorch\u001b[0m\u001b[0;34m.\u001b[0m\u001b[0mnorm\u001b[0m\u001b[0;34m(\u001b[0m\u001b[0mh_i\u001b[0m\u001b[0;34m)\u001b[0m\u001b[0;34m**\u001b[0m\u001b[0;36m4\u001b[0m \u001b[0;34m/\u001b[0m \u001b[0;36m4\u001b[0m\u001b[0;34m\u001b[0m\u001b[0m\n",
      "\u001b[0;32m<ipython-input-15-c11b979786ac>\u001b[0m in \u001b[0;36mD3\u001b[0;34m(f, x, create_graph)\u001b[0m\n\u001b[1;32m     34\u001b[0m     \u001b[0mg\u001b[0m \u001b[0;34m=\u001b[0m \u001b[0mgradient\u001b[0m\u001b[0;34m(\u001b[0m\u001b[0mf\u001b[0m\u001b[0;34m,\u001b[0m \u001b[0mx\u001b[0m\u001b[0;34m,\u001b[0m \u001b[0;32mTrue\u001b[0m\u001b[0;34m)\u001b[0m\u001b[0;34m\u001b[0m\u001b[0m\n\u001b[1;32m     35\u001b[0m     \u001b[0;32mfor\u001b[0m \u001b[0mi\u001b[0m \u001b[0;32min\u001b[0m \u001b[0mrange\u001b[0m\u001b[0;34m(\u001b[0m\u001b[0mn\u001b[0m\u001b[0;34m)\u001b[0m\u001b[0;34m:\u001b[0m\u001b[0;34m\u001b[0m\u001b[0m\n\u001b[0;32m---> 36\u001b[0;31m         \u001b[0md3\u001b[0m\u001b[0;34m[\u001b[0m\u001b[0mi\u001b[0m\u001b[0;34m]\u001b[0m \u001b[0;34m=\u001b[0m \u001b[0mhessian\u001b[0m\u001b[0;34m(\u001b[0m\u001b[0mg\u001b[0m\u001b[0;34m[\u001b[0m\u001b[0mi\u001b[0m\u001b[0;34m]\u001b[0m\u001b[0;34m,\u001b[0m \u001b[0mx\u001b[0m\u001b[0;34m,\u001b[0m \u001b[0mcreate_graph\u001b[0m\u001b[0;34m)\u001b[0m\u001b[0;34m\u001b[0m\u001b[0m\n\u001b[0m\u001b[1;32m     37\u001b[0m     \u001b[0;32mreturn\u001b[0m \u001b[0md3\u001b[0m\u001b[0;34m\u001b[0m\u001b[0m\n\u001b[1;32m     38\u001b[0m \u001b[0;34m\u001b[0m\u001b[0m\n",
      "\u001b[0;32m<ipython-input-15-c11b979786ac>\u001b[0m in \u001b[0;36mhessian\u001b[0;34m(f, x, create_graph)\u001b[0m\n\u001b[1;32m     25\u001b[0m     \u001b[0mg\u001b[0m \u001b[0;34m=\u001b[0m \u001b[0mgradient\u001b[0m\u001b[0;34m(\u001b[0m\u001b[0mf\u001b[0m\u001b[0;34m,\u001b[0m \u001b[0mx\u001b[0m\u001b[0;34m,\u001b[0m \u001b[0;32mTrue\u001b[0m\u001b[0;34m)\u001b[0m\u001b[0;34m\u001b[0m\u001b[0m\n\u001b[1;32m     26\u001b[0m     \u001b[0;32mfor\u001b[0m \u001b[0mi\u001b[0m \u001b[0;32min\u001b[0m \u001b[0mrange\u001b[0m\u001b[0;34m(\u001b[0m\u001b[0mn\u001b[0m\u001b[0;34m)\u001b[0m\u001b[0;34m:\u001b[0m\u001b[0;34m\u001b[0m\u001b[0m\n\u001b[0;32m---> 27\u001b[0;31m         \u001b[0mh\u001b[0m\u001b[0;34m[\u001b[0m\u001b[0mi\u001b[0m\u001b[0;34m]\u001b[0m \u001b[0;34m=\u001b[0m \u001b[0mgradient\u001b[0m\u001b[0;34m(\u001b[0m\u001b[0mg\u001b[0m\u001b[0;34m[\u001b[0m\u001b[0mi\u001b[0m\u001b[0;34m]\u001b[0m\u001b[0;34m,\u001b[0m \u001b[0mx\u001b[0m\u001b[0;34m,\u001b[0m \u001b[0mcreate_graph\u001b[0m\u001b[0;34m,\u001b[0m \u001b[0;32mTrue\u001b[0m\u001b[0;34m)\u001b[0m\u001b[0;34m\u001b[0m\u001b[0m\n\u001b[0m\u001b[1;32m     28\u001b[0m     \u001b[0;32mreturn\u001b[0m \u001b[0mh\u001b[0m\u001b[0;34m\u001b[0m\u001b[0m\n\u001b[1;32m     29\u001b[0m \u001b[0;34m\u001b[0m\u001b[0m\n",
      "\u001b[0;32m<ipython-input-15-c11b979786ac>\u001b[0m in \u001b[0;36mgradient\u001b[0;34m(f, x, create_graph, retain_graph)\u001b[0m\n\u001b[1;32m     14\u001b[0m         \u001b[0minputs\u001b[0m\u001b[0;34m=\u001b[0m\u001b[0;34m[\u001b[0m\u001b[0mx\u001b[0m\u001b[0;34m]\u001b[0m\u001b[0;34m,\u001b[0m\u001b[0;34m\u001b[0m\u001b[0m\n\u001b[1;32m     15\u001b[0m         \u001b[0mcreate_graph\u001b[0m\u001b[0;34m=\u001b[0m\u001b[0mcreate_graph\u001b[0m\u001b[0;34m,\u001b[0m\u001b[0;34m\u001b[0m\u001b[0m\n\u001b[0;32m---> 16\u001b[0;31m         retain_graph=retain_graph)[0]\n\u001b[0m\u001b[1;32m     17\u001b[0m \u001b[0;34m\u001b[0m\u001b[0m\n\u001b[1;32m     18\u001b[0m \u001b[0;34m\u001b[0m\u001b[0m\n",
      "\u001b[0;32m~/miniconda3/envs/nlp/lib/python3.7/site-packages/torch/autograd/__init__.py\u001b[0m in \u001b[0;36mgrad\u001b[0;34m(outputs, inputs, grad_outputs, retain_graph, create_graph, only_inputs, allow_unused)\u001b[0m\n\u001b[1;32m    155\u001b[0m     return Variable._execution_engine.run_backward(\n\u001b[1;32m    156\u001b[0m         \u001b[0moutputs\u001b[0m\u001b[0;34m,\u001b[0m \u001b[0mgrad_outputs\u001b[0m\u001b[0;34m,\u001b[0m \u001b[0mretain_graph\u001b[0m\u001b[0;34m,\u001b[0m \u001b[0mcreate_graph\u001b[0m\u001b[0;34m,\u001b[0m\u001b[0;34m\u001b[0m\u001b[0m\n\u001b[0;32m--> 157\u001b[0;31m         inputs, allow_unused)\n\u001b[0m\u001b[1;32m    158\u001b[0m \u001b[0;34m\u001b[0m\u001b[0m\n\u001b[1;32m    159\u001b[0m \u001b[0;34m\u001b[0m\u001b[0m\n",
      "\u001b[0;31mKeyboardInterrupt\u001b[0m: "
     ]
    }
   ],
   "source": [
    "def test(N):\n",
    "    L3 = 5\n",
    "    eps = 1e-5\n",
    "    delta = 1e-9\n",
    "    K = 50\n",
    "    \n",
    "    def f(x):\n",
    "        return torch.nn.functional.binary_cross_entropy_with_logits(X @ x, y)\n",
    "    \n",
    "    times = []\n",
    "    for _ in range(N):\n",
    "        start = clock_gettime(CLOCK_MONOTONIC)\n",
    "        y_opt = hyperfast_second_order_method(f, y_0, K, L3, eps)\n",
    "        end = clock_gettime(CLOCK_MONOTONIC)\n",
    "        times.append(end - start)\n",
    "    \n",
    "    print('Time:', np.mean(times))\n",
    "    \n",
    "    print('y_opt', y_opt)\n",
    "    print('f(y_opt) =', f(y_opt))\n",
    "    print('y_opt is optimal:', check_optimality(f, y_opt, eps=1e-1))\n",
    "    print('y_opt is optimal:', check_optimality(f, y_opt, eps=1e-2))\n",
    "    print('y_opt is optimal:', check_optimality(f, y_opt, eps=1e-3))\n",
    "    print('y_opt is optimal:', check_optimality(f, y_opt, eps=1e-4))\n",
    "    print('y_opt is optimal:', check_optimality(f, y_opt, eps=1e-5))\n",
    "    print('y_opt is optimal:', check_optimality(f, y_opt, eps=1e-6))\n",
    "    print('y_opt is optimal:', check_optimality(f, y_opt, eps=1e-7))\n",
    "\n",
    "test(1)"
   ]
  },
  {
   "cell_type": "code",
   "execution_count": null,
   "metadata": {},
   "outputs": [],
   "source": []
  }
 ],
 "metadata": {
  "kernelspec": {
   "display_name": "Python 3",
   "language": "python",
   "name": "python3"
  },
  "language_info": {
   "codemirror_mode": {
    "name": "ipython",
    "version": 3
   },
   "file_extension": ".py",
   "mimetype": "text/x-python",
   "name": "python",
   "nbconvert_exporter": "python",
   "pygments_lexer": "ipython3",
   "version": "3.7.0"
  }
 },
 "nbformat": 4,
 "nbformat_minor": 4
}
