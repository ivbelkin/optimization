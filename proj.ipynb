{
 "cells": [
  {
   "cell_type": "code",
   "execution_count": 65,
   "metadata": {},
   "outputs": [],
   "source": [
    "import torch\n",
    "import math\n",
    "import numpy as np\n",
    "import xalglib\n",
    "import matplotlib.pyplot as plt"
   ]
  },
  {
   "cell_type": "markdown",
   "metadata": {},
   "source": [
    "# Problem"
   ]
  },
  {
   "cell_type": "code",
   "execution_count": 43,
   "metadata": {},
   "outputs": [],
   "source": [
    "def f(x):\n",
    "    raise NotImplementedError"
   ]
  },
  {
   "cell_type": "code",
   "execution_count": 44,
   "metadata": {},
   "outputs": [],
   "source": [
    "x_0 = torch.tensor([0, 0, 0, 0])  # initial point\n",
    "N = x_0.shape[0]  # problem dimensionality"
   ]
  },
  {
   "cell_type": "markdown",
   "metadata": {},
   "source": [
    "# Constants"
   ]
  },
  {
   "cell_type": "code",
   "execution_count": 45,
   "metadata": {},
   "outputs": [],
   "source": [
    "I = torch.eye(N)"
   ]
  },
  {
   "cell_type": "markdown",
   "metadata": {},
   "source": [
    "# Helper functions"
   ]
  },
  {
   "cell_type": "code",
   "execution_count": 24,
   "metadata": {},
   "outputs": [],
   "source": [
    "def d_p(x, p):\n",
    "    '''\n",
    "    Prox-function\n",
    "    '''\n",
    "    return 1 / (p + 1) * x**(p + 1)\n",
    "\n",
    "\n",
    "def gradient(f, x, create_graph=False, retain_graph=None):\n",
    "    '''\n",
    "    Gradient of scalar function 'f' w.r.t. 1-d vector 'x'\n",
    "    '''\n",
    "    return torch.autograd.grad(\n",
    "        outputs=[f],\n",
    "        inputs=[x],\n",
    "        create_graph=create_graph, \n",
    "        retain_graph=retain_graph)[0]\n",
    "\n",
    "\n",
    "def hessian(f, x, create_graph=False):\n",
    "    '''\n",
    "    Hessian of scalar function 'f' w.r.t. 1-d vector 'x'\n",
    "    '''\n",
    "    n = x.shape[0]\n",
    "    h = torch.empty(n, n)\n",
    "    g = gradient(f, x, True)\n",
    "    for i in range(n):\n",
    "        h[i] = gradient(g[i], x, create_graph, True)\n",
    "    return h\n",
    "\n",
    "\n",
    "def hessian_vector_product(f, x, v, retain_graph=False):\n",
    "    '''\n",
    "    Hessian-vector product: D^2(f) @ v\n",
    "    '''\n",
    "    grad_f = gradient(f, x, True)\n",
    "    return gradient(grad_f @ v, x, retain_graph=retain_graph)"
   ]
  },
  {
   "cell_type": "code",
   "execution_count": 36,
   "metadata": {},
   "outputs": [
    {
     "name": "stdout",
     "output_type": "stream",
     "text": [
      "F = tensor(14.0625, grad_fn=<ProdBackward0>) \n",
      "\n",
      "g = tensor([18.7500, 11.2500]) \n",
      "\n",
      "h = tensor([[12.5000, 15.0000],\n",
      "        [15.0000,  4.5000]]) \n",
      "\n",
      "h @ e = tensor([27.5000, 19.5000]) \n",
      "\n"
     ]
    }
   ],
   "source": [
    "x = torch.tensor([1.5, 2.5], requires_grad=True)\n",
    "e = torch.tensor([1., 1.])\n",
    "f = x.pow(2).prod()\n",
    "print('F =', f, '\\n')\n",
    "\n",
    "g = gradient(f, x, retain_graph=True)\n",
    "print('g =', g, '\\n')\n",
    "\n",
    "h = hessian(f, x)\n",
    "print('h =', h, '\\n')\n",
    "\n",
    "he = hessian_vector_product(f, x, e, retain_graph=True)\n",
    "print('h @ e =', he, '\\n')"
   ]
  },
  {
   "cell_type": "markdown",
   "metadata": {},
   "source": [
    "# Auxilary problem"
   ]
  },
  {
   "cell_type": "code",
   "execution_count": 130,
   "metadata": {},
   "outputs": [],
   "source": [
    "def tridiag(d, e):\n",
    "    '''\n",
    "    Construct symmetric tridiagonal matrix from its main diagonal d and \n",
    "    above/below main diagonals equal to e\n",
    "    '''\n",
    "    return torch.diag(d) + torch.diag(e, -1) + torch.diag(e, 1)\n",
    "\n",
    "\n",
    "def utu_decomposition(A):  # TODO\n",
    "    '''\n",
    "    Decomposition of symmetric matrix A to U @ T @ U.T, where\n",
    "    U - symmetric ortogonal matrix, T - symmetric tridiagonla matrix\n",
    "    '''\n",
    "    a = A.tolist()\n",
    "    a, tau, d, e = xalglib.smatrixtd(a, N, True)\n",
    "    u = xalglib.smatrixtdunpackq(a, N, True, tau)\n",
    "    U = torch.tensor(u)\n",
    "    T = tridiag(torch.tensor(d), torch.tensor(e))\n",
    "    return T, U\n",
    "\n",
    "\n",
    "def auxilary_subproblem_objective(tau, T, c_tilda, gamma):\n",
    "    value = .5 * tau**2 + .5 * c_tilda.T @ torch.inverse(gamma * tau * I + T) @ c_tilda\n",
    "    return -value\n",
    "\n",
    "\n",
    "def solve_auxilary_subproblem(T, c_tilda, gamma, learning_rate):\n",
    "    tau = torch.tensor(1, dtype=torch.float32, requires_grad=True)\n",
    "    for i in range(1000):  # TODO\n",
    "        value = auxilary_subproblem_objective(tau, T, c_tilda, gamma)\n",
    "        value.backward()\n",
    "        with torch.no_grad():\n",
    "            tau -= learning_rate * tau.grad\n",
    "        tau.grad.detach_()\n",
    "        tau.grad.zero_()\n",
    "    return tau\n",
    "\n",
    "\n",
    "def solve_auxilary_problem(A, c, gamma):\n",
    "    T, U = utu_decomposition(A)\n",
    "    c_tilda = U.T @ c\n",
    "\n",
    "    tau = solve_auxilary_subproblem(T, c_tilda, gamma, 0.1)\n",
    "    h = -U @ torch.inverse(gamma * tau * I + T) @ c_tilda\n",
    "    \n",
    "    return h"
   ]
  },
  {
   "cell_type": "code",
   "execution_count": 154,
   "metadata": {},
   "outputs": [
    {
     "name": "stdout",
     "output_type": "stream",
     "text": [
      "A = tensor([[ 11.,  -7., -18., -25.],\n",
      "        [ -7.,  29.,   0.,   8.],\n",
      "        [-18.,   0.,  52.,  50.],\n",
      "        [-25.,   8.,  50.,  69.]]) \n",
      "\n",
      "T = tensor([[ 24.3628, -11.5707,   0.0000,   0.0000],\n",
      "        [-11.5707,   9.1451,  -4.7824,   0.0000],\n",
      "        [  0.0000,  -4.7824,  58.4920, -56.4712],\n",
      "        [  0.0000,   0.0000, -56.4712,  69.0000]]) \n",
      "\n",
      "U = tensor([[ 0.2656,  0.8564,  0.4427,  0.0000],\n",
      "        [ 0.9639, -0.2256, -0.1417,  0.0000],\n",
      "        [-0.0214,  0.4643, -0.8854,  0.0000],\n",
      "        [ 0.0000,  0.0000,  0.0000,  1.0000]]) \n",
      "\n",
      "U @ T @ U.T = tensor([[ 1.1000e+01, -7.0000e+00, -1.8000e+01, -2.5000e+01],\n",
      "        [-7.0000e+00,  2.9000e+01,  0.0000e+00,  8.0000e+00],\n",
      "        [-1.8000e+01,  2.3842e-07,  5.2000e+01,  5.0000e+01],\n",
      "        [-2.5000e+01,  8.0000e+00,  5.0000e+01,  6.9000e+01]]) \n",
      "\n",
      "tau = tensor(nan, requires_grad=True) \n",
      "\n"
     ]
    },
    {
     "data": {
      "text/plain": [
       "[<matplotlib.lines.Line2D at 0x7f5524559ef0>]"
      ]
     },
     "execution_count": 154,
     "metadata": {},
     "output_type": "execute_result"
    },
    {
     "data": {
      "image/png": "[encoded data removed]",
      "text/plain": [
       "<Figure size 432x288 with 1 Axes>"
      ]
     },
     "metadata": {
      "needs_background": "light"
     },
     "output_type": "display_data"
    }
   ],
   "source": [
    "c = torch.randn(4)\n",
    "x = torch.randn(4, requires_grad=True)\n",
    "f = -torch.log(torch.sigmoid(x @ c))\n",
    "A = hessian(f, x)\n",
    "# A = torch.tensor([\n",
    "#     [-1, -2, 1, 2],\n",
    "#     [-2, 3, 0, -2],\n",
    "#     [1, 0, 2, 1],\n",
    "#     [2, -2, 1, 4]\n",
    "# ], dtype=torch.float32)\n",
    "A = torch.tensor([\n",
    "    [1, -1, 0, -3],\n",
    "    [-2, 5, 0, 0],\n",
    "    [0, 0, 4, 6],\n",
    "    [-4, 0, 2, 7]\n",
    "], dtype=torch.float32)\n",
    "A = A @ A.T\n",
    "gamma = 1\n",
    "\n",
    "T, U = utu_decomposition(A)\n",
    "print('A =', A, '\\n')\n",
    "print('T =', T, '\\n')\n",
    "print('U =', U, '\\n')\n",
    "print('U @ T @ U.T =', U @ T @ U.T, '\\n')\n",
    "\n",
    "tau = solve_auxilary_subproblem(T, c, gamma, 0.1)\n",
    "print('tau =', tau, '\\n')\n",
    "\n",
    "xx = np.linspace(-2, 5, 1000)\n",
    "y = [auxilary_subproblem_objective(x, T, c, gamma) for x in xx]\n",
    "plt.plot(xx, y)\n",
    "plt.ylim(-5, 5)\n",
    "plt.plot([tau, tau], [-5, 5])\n",
    "\n",
    "# h = solve_auxilary_problem(A, c, gamma)\n",
    "# print('h =', h, '\\n')"
   ]
  },
  {
   "cell_type": "code",
   "execution_count": 151,
   "metadata": {},
   "outputs": [
    {
     "data": {
      "text/plain": [
       "torch.return_types.eig(\n",
       "eigenvalues=tensor([[120.5555,   0.0000],\n",
       "        [ 30.6963,   0.0000],\n",
       "        [  1.1599,   0.0000],\n",
       "        [  8.5883,   0.0000]]),\n",
       "eigenvectors=tensor([]))"
      ]
     },
     "execution_count": 151,
     "metadata": {},
     "output_type": "execute_result"
    }
   ],
   "source": [
    "torch.eig(A @ A.T)"
   ]
  },
  {
   "cell_type": "code",
   "execution_count": 144,
   "metadata": {},
   "outputs": [
    {
     "data": {
      "text/plain": [
       "tensor([[ 0.0113, -0.0205, -0.0113,  0.0388],\n",
       "        [-0.0205,  0.0370,  0.0205, -0.0702],\n",
       "        [-0.0113,  0.0205,  0.0113, -0.0388],\n",
       "        [ 0.0388, -0.0702, -0.0388,  0.1329]])"
      ]
     },
     "execution_count": 144,
     "metadata": {},
     "output_type": "execute_result"
    }
   ],
   "source": [
    "A"
   ]
  },
  {
   "cell_type": "code",
   "execution_count": 145,
   "metadata": {},
   "outputs": [
    {
     "data": {
      "text/plain": [
       "tensor(0.1746, grad_fn=<SigmoidBackward>)"
      ]
     },
     "execution_count": 145,
     "metadata": {},
     "output_type": "execute_result"
    }
   ],
   "source": [
    "torch.sigmoid(x @ c)"
   ]
  },
  {
   "cell_type": "code",
   "execution_count": 153,
   "metadata": {},
   "outputs": [
    {
     "data": {
      "text/plain": [
       "tensor([[ 24.3628, -11.5707,   0.0000,   0.0000],\n",
       "        [-11.5707,   9.1451,  -4.7824,   0.0000],\n",
       "        [  0.0000,  -4.7824,  58.4920, -56.4712],\n",
       "        [  0.0000,   0.0000, -56.4712,  69.0000]])"
      ]
     },
     "execution_count": 153,
     "metadata": {},
     "output_type": "execute_result"
    }
   ],
   "source": [
    "T"
   ]
  },
  {
   "cell_type": "code",
   "execution_count": null,
   "metadata": {},
   "outputs": [],
   "source": []
  }
 ],
 "metadata": {
  "kernelspec": {
   "display_name": "Python 3",
   "language": "python",
   "name": "python3"
  },
  "language_info": {
   "codemirror_mode": {
    "name": "ipython",
    "version": 3
   },
   "file_extension": ".py",
   "mimetype": "text/x-python",
   "name": "python",
   "nbconvert_exporter": "python",
   "pygments_lexer": "ipython3",
   "version": "3.7.0"
  }
 },
 "nbformat": 4,
 "nbformat_minor": 4
}
