{
 "cells": [
  {
   "cell_type": "code",
   "execution_count": 115,
   "metadata": {},
   "outputs": [],
   "source": [
    "import torch\n",
    "import math\n",
    "import numpy as np\n",
    "import xalglib\n",
    "import matplotlib.pyplot as plt\n",
    "\n",
    "from sklearn.datasets import load_breast_cancer\n",
    "from sklearn.linear_model import LogisticRegression\n",
    "from sklearn.metrics import log_loss"
   ]
  },
  {
   "cell_type": "markdown",
   "metadata": {},
   "source": [
    "# Problem"
   ]
  },
  {
   "cell_type": "markdown",
   "metadata": {},
   "source": [
    "## sklearn: LogisticRegression"
   ]
  },
  {
   "cell_type": "code",
   "execution_count": 141,
   "metadata": {},
   "outputs": [],
   "source": [
    "X, y = load_breast_cancer(True)\n",
    "X = (X - X.mean(axis=0)) / X.std(axis=0) + np.random.randn(*X.shape)\n",
    "X = np.concatenate((X, np.ones((X.shape[0], 1))), axis=1)"
   ]
  },
  {
   "cell_type": "code",
   "execution_count": 142,
   "metadata": {},
   "outputs": [
    {
     "data": {
      "text/plain": [
       "LogisticRegression(C=1.0, class_weight=None, dual=False, fit_intercept=False,\n",
       "                   intercept_scaling=1, l1_ratio=None, max_iter=100,\n",
       "                   multi_class='warn', n_jobs=None, penalty='none',\n",
       "                   random_state=None, solver='newton-cg', tol=0.0001, verbose=0,\n",
       "                   warm_start=False)"
      ]
     },
     "execution_count": 142,
     "metadata": {},
     "output_type": "execute_result"
    }
   ],
   "source": [
    "log_reg = LogisticRegression(penalty='none', fit_intercept=False, solver='newton-cg')\n",
    "log_reg.fit(X, y)"
   ]
  },
  {
   "cell_type": "code",
   "execution_count": 143,
   "metadata": {},
   "outputs": [],
   "source": [
    "x_opt = log_reg.coef_[0]"
   ]
  },
  {
   "cell_type": "code",
   "execution_count": 144,
   "metadata": {},
   "outputs": [
    {
     "data": {
      "text/plain": [
       "array([-1.02113426, -1.01759864, -1.22190094, -0.09142531, -0.7783932 ,\n",
       "        0.02769471, -0.61864643,  0.06388162, -0.30859186, -0.16114696,\n",
       "       -0.56493357, -0.11705911, -0.93835045, -0.30282753,  0.02375118,\n",
       "        0.34512935, -0.01654348, -0.44202193,  0.52003334,  0.72389108,\n",
       "       -0.47485271, -0.63893112, -0.97078704, -0.20641206, -0.19279566,\n",
       "       -0.68856758, -0.66203852, -0.77524301, -0.58530262, -0.04631652,\n",
       "        1.05121295])"
      ]
     },
     "execution_count": 144,
     "metadata": {},
     "output_type": "execute_result"
    }
   ],
   "source": [
    "x_opt"
   ]
  },
  {
   "cell_type": "code",
   "execution_count": 145,
   "metadata": {},
   "outputs": [
    {
     "data": {
      "text/plain": [
       "0.9472759226713533"
      ]
     },
     "execution_count": 145,
     "metadata": {},
     "output_type": "execute_result"
    }
   ],
   "source": [
    "log_reg.score(X, y)"
   ]
  },
  {
   "cell_type": "code",
   "execution_count": 146,
   "metadata": {},
   "outputs": [
    {
     "data": {
      "text/plain": [
       "0.12202827234378548"
      ]
     },
     "execution_count": 146,
     "metadata": {},
     "output_type": "execute_result"
    }
   ],
   "source": [
    "log_loss(y, log_reg.predict_proba(X))"
   ]
  },
  {
   "cell_type": "markdown",
   "metadata": {},
   "source": [
    "## PyTorch: optimization problem"
   ]
  },
  {
   "cell_type": "code",
   "execution_count": 147,
   "metadata": {},
   "outputs": [],
   "source": [
    "X = torch.tensor(X, dtype=torch.float32)\n",
    "y = torch.tensor(y, dtype=torch.float32)\n",
    "\n",
    "x_opt = torch.tensor(x_opt, dtype=torch.float32)\n",
    "N = x_opt.shape[0]\n",
    "\n",
    "x_0 = torch.randn(N)"
   ]
  },
  {
   "cell_type": "code",
   "execution_count": 148,
   "metadata": {},
   "outputs": [],
   "source": [
    "def f(x):\n",
    "    return torch.nn.functional.binary_cross_entropy_with_logits(X @ x, y)"
   ]
  },
  {
   "cell_type": "code",
   "execution_count": 149,
   "metadata": {},
   "outputs": [
    {
     "data": {
      "text/plain": [
       "0.12202827632427216"
      ]
     },
     "execution_count": 149,
     "metadata": {},
     "output_type": "execute_result"
    }
   ],
   "source": [
    "f(x_opt).item()"
   ]
  },
  {
   "cell_type": "code",
   "execution_count": 150,
   "metadata": {},
   "outputs": [
    {
     "data": {
      "text/plain": [
       "1.046837568283081"
      ]
     },
     "execution_count": 150,
     "metadata": {},
     "output_type": "execute_result"
    }
   ],
   "source": [
    "f(x_0).item()"
   ]
  },
  {
   "cell_type": "markdown",
   "metadata": {},
   "source": [
    "# Constants"
   ]
  },
  {
   "cell_type": "code",
   "execution_count": 4,
   "metadata": {},
   "outputs": [],
   "source": [
    "I = torch.eye(N)"
   ]
  },
  {
   "cell_type": "markdown",
   "metadata": {},
   "source": [
    "# Helper functions"
   ]
  },
  {
   "cell_type": "code",
   "execution_count": 5,
   "metadata": {},
   "outputs": [],
   "source": [
    "def d_p(x, p):\n",
    "    '''\n",
    "    Prox-function\n",
    "    '''\n",
    "    return 1 / p * x**p\n",
    "\n",
    "\n",
    "def gradient(f, x, create_graph=False, retain_graph=None):\n",
    "    '''\n",
    "    Gradient of scalar function 'f' w.r.t. 1-d vector 'x'\n",
    "    '''\n",
    "    return torch.autograd.grad(\n",
    "        outputs=[f],\n",
    "        inputs=[x],\n",
    "        create_graph=create_graph, \n",
    "        retain_graph=retain_graph)[0]\n",
    "\n",
    "\n",
    "def hessian(f, x, create_graph=False):\n",
    "    '''\n",
    "    Hessian of scalar function 'f' w.r.t. 1-d vector 'x'\n",
    "    '''\n",
    "    n = x.shape[0]\n",
    "    h = torch.empty(n, n)\n",
    "    g = gradient(f, x, True)\n",
    "    for i in range(n):\n",
    "        h[i] = gradient(g[i], x, create_graph, True)\n",
    "    return h\n",
    "\n",
    "\n",
    "def hessian_vector_product(f, x, v, retain_graph=False):\n",
    "    '''\n",
    "    Hessian-vector product: D^2(f) @ v\n",
    "    '''\n",
    "    grad_f = gradient(f, x, True)\n",
    "    return gradient(grad_f @ v, x, retain_graph=retain_graph)"
   ]
  },
  {
   "cell_type": "code",
   "execution_count": 6,
   "metadata": {},
   "outputs": [
    {
     "name": "stdout",
     "output_type": "stream",
     "text": [
      "F = tensor(14.0625, grad_fn=<ProdBackward0>) \n",
      "\n",
      "g = tensor([18.7500, 11.2500]) \n",
      "\n",
      "h = tensor([[12.5000, 15.0000],\n",
      "        [15.0000,  4.5000]]) \n",
      "\n",
      "h @ e = tensor([27.5000, 19.5000]) \n",
      "\n"
     ]
    }
   ],
   "source": [
    "x = torch.tensor([1.5, 2.5], requires_grad=True)\n",
    "e = torch.tensor([1., 1.])\n",
    "f = x.pow(2).prod()\n",
    "print('F =', f, '\\n')\n",
    "\n",
    "g = gradient(f, x, retain_graph=True)\n",
    "print('g =', g, '\\n')\n",
    "\n",
    "h = hessian(f, x)\n",
    "print('h =', h, '\\n')\n",
    "\n",
    "he = hessian_vector_product(f, x, e, retain_graph=True)\n",
    "print('h @ e =', he, '\\n')"
   ]
  },
  {
   "cell_type": "markdown",
   "metadata": {},
   "source": [
    "# Auxilary problem"
   ]
  },
  {
   "cell_type": "code",
   "execution_count": 31,
   "metadata": {},
   "outputs": [],
   "source": [
    "def tridiag(d, e):\n",
    "    '''\n",
    "    Construct symmetric tridiagonal matrix from its main diagonal d and \n",
    "    above/below main diagonals equal to e\n",
    "    '''\n",
    "    return torch.diag(d) + torch.diag(e, -1) + torch.diag(e, 1)\n",
    "\n",
    "\n",
    "def utu_decomposition(A):  # TODO\n",
    "    '''\n",
    "    Decomposition of symmetric matrix A to U @ T @ U.T, where\n",
    "    U - symmetric ortogonal matrix, T - symmetric tridiagonla matrix\n",
    "    '''\n",
    "    a = A.tolist()\n",
    "    a, tau, d, e = xalglib.smatrixtd(a, N, True)\n",
    "    u = xalglib.smatrixtdunpackq(a, N, True, tau)\n",
    "    U = torch.tensor(u)\n",
    "    T = tridiag(torch.tensor(d), torch.tensor(e))\n",
    "    return T, U\n",
    "\n",
    "\n",
    "def auxilary_subproblem_objective(tau, T, c_tilda, gamma):\n",
    "    value = tau**2 + .5 * c_tilda.T @ torch.inverse(2 * math.sqrt(gamma) * tau * I + T) @ c_tilda\n",
    "    return value\n",
    "\n",
    "\n",
    "def solve_auxilary_subproblem(T, c_tilda, gamma, learning_rate):\n",
    "    tau = torch.tensor(1, dtype=torch.float32, requires_grad=True)\n",
    "    for i in range(1000):  # TODO\n",
    "        value = auxilary_subproblem_objective(tau, T, c_tilda, gamma)\n",
    "        value.backward()\n",
    "        with torch.no_grad():\n",
    "            tau -= learning_rate * tau.grad\n",
    "        tau.grad.detach_()\n",
    "        tau.grad.zero_()\n",
    "    return tau\n",
    "\n",
    "\n",
    "def solve_auxilary_problem(A, c, gamma):\n",
    "    T, U = utu_decomposition(A)\n",
    "    c_tilda = U.T @ c\n",
    "\n",
    "    tau = solve_auxilary_subproblem(T, c_tilda, gamma, 0.1)\n",
    "    assert tau > 0\n",
    "    h = -U @ torch.inverse(2 * math.sqrt(gamma) * tau * I + T) @ c_tilda\n",
    "    \n",
    "    return h\n",
    "\n",
    "def auxilary_subproblem_dummy_objective(h, A, c, gamma):\n",
    "    value = c @ h + .5 * h.T @ A @ h +  gamma * torch.norm(h)**4 / 4\n",
    "    return value\n",
    "\n",
    "def solve_auxilary_problem_dummy(A, c, gamma, learning_rate=0.001):\n",
    "    h = torch.tensor([1, 1, 1, 1], dtype=torch.float32, requires_grad=True)\n",
    "    for i in range(1000): \n",
    "        value = auxilary_subproblem_dummy_objective(h, A, c, gamma)\n",
    "        value.backward()\n",
    "        with torch.no_grad():\n",
    "            h -= learning_rate * h.grad\n",
    "        h.grad.detach_()\n",
    "        h.grad.zero_()\n",
    "    return h\n"
   ]
  },
  {
   "cell_type": "code",
   "execution_count": 32,
   "metadata": {},
   "outputs": [
    {
     "name": "stdout",
     "output_type": "stream",
     "text": [
      "A = tensor([[-1., -2.,  1.,  2.],\n",
      "        [-2.,  3.,  0., -2.],\n",
      "        [ 1.,  0.,  2.,  1.],\n",
      "        [ 2., -2.,  1.,  4.]]) \n",
      "\n",
      "T = tensor([[ 1.9867,  0.9067,  0.0000,  0.0000],\n",
      "        [ 0.9067, -1.3200, -1.6667,  0.0000],\n",
      "        [ 0.0000, -1.6667,  3.3333, -3.0000],\n",
      "        [ 0.0000,  0.0000, -3.0000,  4.0000]]) \n",
      "\n",
      "U = tensor([[ 0.1333, -0.7333, -0.6667,  0.0000],\n",
      "        [-0.3333, -0.6667,  0.6667,  0.0000],\n",
      "        [-0.9333,  0.1333, -0.3333,  0.0000],\n",
      "        [ 0.0000,  0.0000,  0.0000,  1.0000]]) \n",
      "\n",
      "U @ T @ U.T = tensor([[-1.0000e+00, -2.0000e+00,  1.0000e+00,  2.0000e+00],\n",
      "        [-2.0000e+00,  3.0000e+00,  8.1956e-08, -2.0000e+00],\n",
      "        [ 1.0000e+00,  0.0000e+00,  2.0000e+00,  1.0000e+00],\n",
      "        [ 2.0000e+00, -2.0000e+00,  1.0000e+00,  4.0000e+00]]) \n",
      "\n"
     ]
    }
   ],
   "source": [
    "A = torch.tensor([\n",
    "    [-1, -2, 1, 2],\n",
    "    [-2, 3, 0, -2],\n",
    "    [1, 0, 2, 1],\n",
    "    [2, -2, 1, 4]\n",
    "], dtype=torch.float32)\n",
    "c = torch.ones(4)\n",
    "gamma = 1\n",
    "\n",
    "T, U = utu_decomposition(A)\n",
    "print('A =', A, '\\n')\n",
    "print('T =', T, '\\n')\n",
    "print('U =', U, '\\n')\n",
    "print('U @ T @ U.T =', U @ T @ U.T, '\\n')"
   ]
  },
  {
   "cell_type": "code",
   "execution_count": 33,
   "metadata": {},
   "outputs": [
    {
     "name": "stdout",
     "output_type": "stream",
     "text": [
      "A = tensor([[ 0.6765, -0.0982,  0.1304, -0.1185],\n",
      "        [-0.0982,  2.0807,  1.2106, -0.5858],\n",
      "        [ 0.1304,  1.2106,  2.0195, -0.8538],\n",
      "        [-0.1185, -0.5858, -0.8538,  1.1101]]) \n",
      "\n",
      "T = tensor([[0.5778, 0.0224, 0.0000, 0.0000],\n",
      "        [0.0224, 1.0507, 0.5001, 0.0000],\n",
      "        [0.0000, 0.5001, 3.1482, 1.0422],\n",
      "        [0.0000, 0.0000, 1.0422, 1.1101]]) \n",
      "\n",
      "U = tensor([[ 0.8813,  0.4587, -0.1137,  0.0000],\n",
      "        [ 0.3236, -0.7611, -0.5621,  0.0000],\n",
      "        [-0.3443,  0.4586, -0.8192,  0.0000],\n",
      "        [ 0.0000,  0.0000,  0.0000,  1.0000]]) \n",
      "\n",
      "U @ T @ U.T = tensor([[ 0.6765, -0.0982,  0.1304, -0.1185],\n",
      "        [-0.0982,  2.0807,  1.2106, -0.5858],\n",
      "        [ 0.1304,  1.2106,  2.0195, -0.8538],\n",
      "        [-0.1185, -0.5858, -0.8538,  1.1101]]) \n",
      "\n",
      "tau = tensor(0.2922, requires_grad=True) \n",
      "\n"
     ]
    },
    {
     "data": {
      "text/plain": [
       "[<matplotlib.lines.Line2D at 0x7f43922de390>]"
      ]
     },
     "execution_count": 33,
     "metadata": {},
     "output_type": "execute_result"
    },
    {
     "data": {
      "image/png": "[encoded data removed]",
      "text/plain": [
       "<Figure size 432x288 with 1 Axes>"
      ]
     },
     "metadata": {
      "needs_background": "light"
     },
     "output_type": "display_data"
    }
   ],
   "source": [
    "c = torch.randn(N)\n",
    "x = torch.randn(N, requires_grad=True)\n",
    "f = -sum(torch.log(torch.sigmoid(x @ torch.randn(4))) for _ in range(10))\n",
    "A = hessian(f, x)\n",
    "gamma = 1\n",
    "\n",
    "T, U = utu_decomposition(A)\n",
    "print('A =', A, '\\n')\n",
    "print('T =', T, '\\n')\n",
    "print('U =', U, '\\n')\n",
    "print('U @ T @ U.T =', U @ T @ U.T, '\\n')\n",
    "\n",
    "tau = solve_auxilary_subproblem(T, c, gamma, 0.1)\n",
    "print('tau =', tau, '\\n')\n",
    "\n",
    "xx = np.linspace(-2, 5, 1000)\n",
    "y = [auxilary_subproblem_objective(x, T, c, gamma) for x in xx]\n",
    "plt.plot(xx, y)\n",
    "plt.ylim(-5, 5)\n",
    "plt.plot([tau, tau], [-5, 5])"
   ]
  },
  {
   "cell_type": "code",
   "execution_count": 36,
   "metadata": {},
   "outputs": [
    {
     "name": "stdout",
     "output_type": "stream",
     "text": [
      "A = tensor([[1.5908, 0.0000, 0.0000, 0.0000],\n",
      "        [0.0000, 0.4513, 0.0000, 0.0000],\n",
      "        [0.0000, 0.0000, 0.1299, 0.0000],\n",
      "        [0.0000, 0.0000, 0.0000, 0.5751]]) \n",
      "\n",
      "c = tensor([ 0.0000, 17.9558,  0.0000,  0.0000]) \n",
      "\n",
      "gamma = tensor([46.2580]) \n",
      "\n",
      "h = tensor([ 0.0000, -0.7250,  0.0000,  0.0000], grad_fn=<MvBackward>)\n"
     ]
    },
    {
     "data": {
      "text/plain": [
       "[<matplotlib.lines.Line2D at 0x7f4392309908>]"
      ]
     },
     "execution_count": 36,
     "metadata": {},
     "output_type": "execute_result"
    },
    {
     "data": {
      "image/png": "[encoded data removed]",
      "text/plain": [
       "<Figure size 432x288 with 1 Axes>"
      ]
     },
     "metadata": {
      "needs_background": "light"
     },
     "output_type": "display_data"
    }
   ],
   "source": [
    "A = torch.diag(torch.abs(torch.randn(N)))\n",
    "k = 1\n",
    "e_k = torch.zeros(N)\n",
    "e_k[k] = 1\n",
    "c = (10 + 10 * torch.abs(torch.randn(1))) * e_k\n",
    "gamma = 100 * torch.abs(torch.randn(1))\n",
    "\n",
    "print('A =', A, '\\n')\n",
    "print('c =', c, '\\n')\n",
    "print('gamma =', gamma, '\\n')\n",
    "\n",
    "h = solve_auxilary_problem(A, c, gamma)\n",
    "print('h =', h)\n",
    "\n",
    "def f(h):\n",
    "    return c @ h + .5 * c.T @ A @ c + gamma * torch.norm(h)**4 / 4\n",
    "\n",
    "xx = np.linspace(-2, 2, 1000)\n",
    "yy = [f(x * e_k) for x in xx]\n",
    "plt.plot(xx, yy)\n",
    "y1, y2 = min(yy) - 10, min(yy) + 100\n",
    "plt.ylim(y1, y2)\n",
    "plt.plot([h[k], h[k]], [y1, y2])"
   ]
  },
  {
   "cell_type": "code",
   "execution_count": 28,
   "metadata": {},
   "outputs": [
    {
     "name": "stdout",
     "output_type": "stream",
     "text": [
      "A = tensor([[0.9093, 0.0000, 0.0000, 0.0000],\n",
      "        [0.0000, 0.0283, 0.0000, 0.0000],\n",
      "        [0.0000, 0.0000, 1.3992, 0.0000],\n",
      "        [0.0000, 0.0000, 0.0000, 0.4463]]) \n",
      "\n",
      "c = tensor([ 0.0000, 18.6024,  0.0000,  0.0000]) \n",
      "\n",
      "gamma = tensor([100.3688]) \n",
      "\n",
      "h = tensor([ 1.2977e-15, -5.6999e-01,  7.8147e-16,  2.0953e-15],\n",
      "       requires_grad=True)\n"
     ]
    },
    {
     "data": {
      "text/plain": [
       "[<matplotlib.lines.Line2D at 0x1362efc10>]"
      ]
     },
     "execution_count": 28,
     "metadata": {},
     "output_type": "execute_result"
    },
    {
     "data": {
      "image/png": "[encoded data removed]",
      "text/plain": [
       "<Figure size 432x288 with 1 Axes>"
      ]
     },
     "metadata": {
      "needs_background": "light"
     },
     "output_type": "display_data"
    }
   ],
   "source": [
    "A = torch.diag(torch.abs(torch.randn(N)))\n",
    "k = 1\n",
    "e_k = torch.zeros(N)\n",
    "e_k[k] = 1\n",
    "c = (10 + 10 * torch.abs(torch.randn(1))) * e_k\n",
    "gamma = 100 * torch.abs(torch.randn(1))\n",
    "\n",
    "print('A =', A, '\\n')\n",
    "print('c =', c, '\\n')\n",
    "print('gamma =', gamma, '\\n')\n",
    "\n",
    "h = solve_auxilary_problem_dummy(A, c, gamma)\n",
    "print('h =', h)\n",
    "\n",
    "def f(h):\n",
    "    return c @ h + .5 * h.T @ A @ h + gamma * torch.norm(h)**4 / 4\n",
    "\n",
    "xx = np.linspace(-2, 2, 1000)\n",
    "yy = [f(x * e_k) for x in xx]\n",
    "plt.plot(xx, yy)\n",
    "y1, y2 = min(yy) - 10, min(yy) + 100\n",
    "plt.ylim(y1, y2)\n",
    "plt.plot([h[k], h[k]], [y1, y2])"
   ]
  },
  {
   "cell_type": "markdown",
   "metadata": {},
   "source": [
    "# Bregman-distance gradient method"
   ]
  },
  {
   "cell_type": "code",
   "execution_count": 31,
   "metadata": {},
   "outputs": [],
   "source": [
    "def BDGM(f, x_tilda_k, delta, L3):\n",
    "    \n",
    "    grad_f_x_tilda_k = torch.autograd.grad([f(x_tilda_k)], [x_tilda_k], create_graph=True)[0]\n",
    "    \n",
    "    z_0 = x_tilda_k\n",
    "    tau = 3 * delta / (8 * (2 + math.sqrt(2)) * torch.norm(grad_f))\n",
    "    \n",
    "    def D2v(z):\n",
    "        return hessian_vector_product(f, x_tilda_k, z - x_tilda_k)\n",
    "    \n",
    "    def rho_k(z):\n",
    "        '''\n",
    "        Scaling function\n",
    "        '''\n",
    "        return .5 * D2v(f, x_tilda_k, z - x_tilda_k) @ (z - x_tilda_k) \\\n",
    "               + L3 * d_p(z - x_tilda_k, 4)\n",
    "    \n",
    "    def beta_rho_k(z_i, z):\n",
    "        '''\n",
    "        Bregman distance\n",
    "        '''\n",
    "        grad_rho_k = torch.autograd.grad([rho_k(z)])\n",
    "        return rho_k(z) - rho_k(z_i) - grad_rho_k @ (z - z_i)\n",
    "    \n",
    "    def g_x_tilda_k_tau(z):\n",
    "        grad_g_p = torch.autograd.grad([f(x_tilda_k + tau * (z - x_tilda_k))], [x], create_graph=True)[0]\n",
    "        grad_g_n = torch.autograd.grad([f(x_tilda_k - tau * (z - x_tilda_k))], [x], create_graph=True)[0]\n",
    "        return 1 / tau**2 * (grad_g_p + grad_g_n - 2 * grad_f_x_tilda_k)\n",
    "    \n",
    "    def g_phi_k_tau(z):\n",
    "        return grad_f_x_tilda_k + D2v(z) + g_x_tilda_k_tau(z) + L3 * ((z - x_tilda_k)**2).sum() * (z - x_tilda_k)\n",
    "    \n",
    "    def auxilary_subproblem_dummy_objective(z, g_phi_k_tau_z_i, z_i): \n",
    "        value = g_phi_k_tau_z_i @ (z - z_i) + 2 * (1 + 2**(-.5))*beta_rho_k(z_i, z)\n",
    "        return value\n",
    "    \n",
    "    def solve_auxilary_problem_dummy(g_phi_k_tau_z_i, z_i, learning_rate=0.001):\n",
    "        z = torch.ones(len(z_i), dtype=torch.float32, requires_grad=True)\n",
    "        for i in range(1000): \n",
    "            value = auxilary_subproblem_dummy_objective(z, g_phi_k_tau_z_i, z_i)\n",
    "            value.backward()\n",
    "            with torch.no_grad():\n",
    "                z -= learning_rate * h.grad\n",
    "            z.grad.detach_()\n",
    "            z.grad.zero_()\n",
    "        return z\n",
    "    \n",
    "    i = 0\n",
    "    z_i = z_0\n",
    "    while True:\n",
    "        g_phi_k_tau_z_i = g_phi_k_tau(z_i)\n",
    "        grad_f_z_i = torch.autograd.grad([f(z_i)], [z_i], create_graph=True)[0]\n",
    "        if torch.norm(g_phi_k_tau_z_i) < 1 / 6 * torch.norm(grad_f_z_i) - delta:\n",
    "            break\n",
    "        else:\n",
    "            z_i_next = solve_auxilary_problem_dummy(g_phi_k_tau_z_i, z_i)\n",
    "        i += 1"
   ]
  },
  {
   "cell_type": "code",
   "execution_count": null,
   "metadata": {},
   "outputs": [],
   "source": [
    "def check_optimality(f, x, step=1e-3, eps=1e-5):\n",
    "    n = x.shape[0]\n",
    "    fx = f(x)\n",
    "    for i in range(n):\n",
    "        y = x\n",
    "        y[i] += step\n",
    "        fy = f(y)\n",
    "        if fy < fx - eps:\n",
    "            return False\n",
    "    return True"
   ]
  },
  {
   "cell_type": "markdown",
   "metadata": {},
   "source": [
    "# Hyperfast Second-Order Method"
   ]
  },
  {
   "cell_type": "code",
   "execution_count": 399,
   "metadata": {},
   "outputs": [],
   "source": [
    "import numpy as np\n",
    "\n",
    "def square_norm(x):\n",
    "    return torch.sum(torch.tensor(x)**2)\n",
    "\n",
    "def hyperfast_second_order_method(f, y_0, K, L3, delta):\n",
    "    '''\n",
    "    Algorithm 2: Hyperfast Second-Order Method\n",
    "    '''\n",
    "    A_0 = 0\n",
    "    x_0 = y_0 \n",
    "    x_tilda_k = x_0\n",
    "    A_k = A_0\n",
    "    x_k = x_0\n",
    "    y_k = y_0\n",
    "    for k in range(K):\n",
    "        y_k_plus_1 = BDGM(f, x_tilda_k, delta, L3)\n",
    "        y_k_plus_1.requires_grad_()\n",
    "        lambda_min = 2 / (3 * L3 * square_norm(y_k_plus_1 - x_tilda_k))\n",
    "        lambda_max = 1 / (L3 * square_norm(y_k_plus_1 - x_tilda_k))\n",
    "        lambda_k_plus_1 = np.random.uniform(lambda_min, lambda_max)\n",
    "        a_k_plus_1 = 1 / 2 * (lambda_k_plus_1 +\n",
    "                              (lambda_k_plus_1 ** 2 +\n",
    "                               4 * lambda_k_plus_1 * A_k) ** 0.5)\n",
    "        A_k_plus_1 = a_k_plus_1 + A_k\n",
    "        x_tilda_k = A_k * y_k / A_k_plus_1 + a_k_plus_1 * x_k / A_k_plus_1\n",
    "        x_k = x_k - a_k_plus_1 * torch.autograd.grad([f(y_k_plus_1)],\n",
    "                                                     [y_k_plus_1],\n",
    "                                                     create_graph=True)[0]\n",
    "        A_k = A_k_plus_1\n",
    "        y_k = y_k_plus_1      \n",
    "    return y_k"
   ]
  }
 ],
 "metadata": {
  "kernelspec": {
   "display_name": "Python 3",
   "language": "python",
   "name": "python3"
  },
  "language_info": {
   "codemirror_mode": {
    "name": "ipython",
    "version": 3
   },
   "file_extension": ".py",
   "mimetype": "text/x-python",
   "name": "python",
   "nbconvert_exporter": "python",
   "pygments_lexer": "ipython3",
   "version": "3.7.0"
  }
 },
 "nbformat": 4,
 "nbformat_minor": 4
}
