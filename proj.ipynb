{
 "cells": [
  {
   "cell_type": "code",
   "execution_count": 1,
   "metadata": {},
   "outputs": [],
   "source": [
    "import torch\n",
    "import math\n",
    "import numpy as np\n",
    "import xalglib\n",
    "import matplotlib.pyplot as plt\n",
    "\n",
    "from sklearn.datasets import load_breast_cancer\n",
    "from sklearn.linear_model import LogisticRegression\n",
    "from sklearn.metrics import log_loss\n",
    "\n",
    "from time import clock_gettime, CLOCK_MONOTONIC\n",
    "from CubicEquationSolver import solve as solve_cubic"
   ]
  },
  {
   "cell_type": "markdown",
   "metadata": {},
   "source": [
    "# Problem"
   ]
  },
  {
   "cell_type": "markdown",
   "metadata": {},
   "source": [
    "## sklearn: LogisticRegression"
   ]
  },
  {
   "cell_type": "code",
   "execution_count": 2,
   "metadata": {},
   "outputs": [],
   "source": [
    "X, y = load_breast_cancer(True)\n",
    "X = (X - X.mean(axis=0)) / X.std(axis=0) + np.random.randn(*X.shape)\n",
    "X = np.concatenate((X, np.ones((X.shape[0], 1))), axis=1)"
   ]
  },
  {
   "cell_type": "code",
   "execution_count": 3,
   "metadata": {},
   "outputs": [
    {
     "data": {
      "text/plain": [
       "LogisticRegression(C=1.0, class_weight=None, dual=False, fit_intercept=False,\n",
       "                   intercept_scaling=1, l1_ratio=None, max_iter=100,\n",
       "                   multi_class='warn', n_jobs=None, penalty='none',\n",
       "                   random_state=None, solver='newton-cg', tol=1e-07, verbose=0,\n",
       "                   warm_start=False)"
      ]
     },
     "execution_count": 3,
     "metadata": {},
     "output_type": "execute_result"
    }
   ],
   "source": [
    "log_reg = LogisticRegression(penalty='none', fit_intercept=False, solver='newton-cg', tol=1e-7)\n",
    "log_reg.fit(X, y)"
   ]
  },
  {
   "cell_type": "code",
   "execution_count": 4,
   "metadata": {},
   "outputs": [],
   "source": [
    "x_opt = log_reg.coef_[0]"
   ]
  },
  {
   "cell_type": "code",
   "execution_count": 5,
   "metadata": {},
   "outputs": [
    {
     "data": {
      "text/plain": [
       "array([-0.47491485, -0.67589047, -0.42380624, -0.42162855, -0.46431844,\n",
       "       -0.44689983, -0.44442   , -0.44512456, -0.0872136 ,  0.48511295,\n",
       "       -0.48194139,  0.09711006, -0.09881679, -0.02742667, -0.14806337,\n",
       "        0.08949782,  0.20093349, -0.01777249,  0.3476606 ,  0.05614124,\n",
       "       -0.18288483, -0.63597032, -0.7093087 , -0.11174879,  0.0624489 ,\n",
       "       -0.05757022, -0.73590512, -0.88896192, -0.62490268,  0.10882618,\n",
       "        1.30695373])"
      ]
     },
     "execution_count": 5,
     "metadata": {},
     "output_type": "execute_result"
    }
   ],
   "source": [
    "x_opt"
   ]
  },
  {
   "cell_type": "code",
   "execution_count": 6,
   "metadata": {},
   "outputs": [
    {
     "data": {
      "text/plain": [
       "0.9349736379613357"
      ]
     },
     "execution_count": 6,
     "metadata": {},
     "output_type": "execute_result"
    }
   ],
   "source": [
    "log_reg.score(X, y)"
   ]
  },
  {
   "cell_type": "code",
   "execution_count": 7,
   "metadata": {},
   "outputs": [
    {
     "data": {
      "text/plain": [
       "0.14533202420062924"
      ]
     },
     "execution_count": 7,
     "metadata": {},
     "output_type": "execute_result"
    }
   ],
   "source": [
    "log_loss(y, log_reg.predict_proba(X))"
   ]
  },
  {
   "cell_type": "markdown",
   "metadata": {},
   "source": [
    "## PyTorch: optimization problem"
   ]
  },
  {
   "cell_type": "code",
   "execution_count": 8,
   "metadata": {},
   "outputs": [],
   "source": [
    "X = torch.tensor(X, dtype=torch.float32)\n",
    "y = torch.tensor(y, dtype=torch.float32)\n",
    "\n",
    "x_opt = torch.tensor(x_opt, dtype=torch.float32)\n",
    "N = x_opt.shape[0]\n",
    "\n",
    "x_0 = torch.randn(N)"
   ]
  },
  {
   "cell_type": "code",
   "execution_count": 9,
   "metadata": {},
   "outputs": [],
   "source": [
    "def f(x):\n",
    "    return torch.nn.functional.binary_cross_entropy_with_logits(X @ x, y)"
   ]
  },
  {
   "cell_type": "code",
   "execution_count": 10,
   "metadata": {},
   "outputs": [
    {
     "data": {
      "text/plain": [
       "0.1453319787979126"
      ]
     },
     "execution_count": 10,
     "metadata": {},
     "output_type": "execute_result"
    }
   ],
   "source": [
    "f(x_opt).item()"
   ]
  },
  {
   "cell_type": "code",
   "execution_count": 11,
   "metadata": {},
   "outputs": [
    {
     "data": {
      "text/plain": [
       "3.333508014678955"
      ]
     },
     "execution_count": 11,
     "metadata": {},
     "output_type": "execute_result"
    }
   ],
   "source": [
    "f(x_0).item()"
   ]
  },
  {
   "cell_type": "code",
   "execution_count": 12,
   "metadata": {},
   "outputs": [],
   "source": [
    "def check_optimality(f, x, step=1e-4, eps=1e-7):\n",
    "    n = x.shape[0]\n",
    "    fx = f(x)\n",
    "    for i in range(n):\n",
    "        for s in [-1, 1]:\n",
    "            y = x.clone()\n",
    "            y[i] += s * step\n",
    "            fy = f(y)\n",
    "            if fy < fx - eps:\n",
    "                return False\n",
    "    return True"
   ]
  },
  {
   "cell_type": "code",
   "execution_count": 13,
   "metadata": {},
   "outputs": [
    {
     "data": {
      "text/plain": [
       "False"
      ]
     },
     "execution_count": 13,
     "metadata": {},
     "output_type": "execute_result"
    }
   ],
   "source": [
    "check_optimality(f, x_0)"
   ]
  },
  {
   "cell_type": "code",
   "execution_count": 14,
   "metadata": {},
   "outputs": [
    {
     "data": {
      "text/plain": [
       "True"
      ]
     },
     "execution_count": 14,
     "metadata": {},
     "output_type": "execute_result"
    }
   ],
   "source": [
    "check_optimality(f, x_opt)"
   ]
  },
  {
   "cell_type": "markdown",
   "metadata": {},
   "source": [
    "# Helper functions"
   ]
  },
  {
   "cell_type": "code",
   "execution_count": 15,
   "metadata": {},
   "outputs": [],
   "source": [
    "def d_p(x, p):\n",
    "    return 1 / p * torch.norm(x)**p\n",
    "\n",
    "\n",
    "def gradient(f, x, create_graph=False, retain_graph=None):\n",
    "    return torch.autograd.grad(\n",
    "        outputs=[f],\n",
    "        inputs=[x],\n",
    "        create_graph=create_graph, \n",
    "        retain_graph=retain_graph)[0]\n",
    "\n",
    "\n",
    "def hessian(f, x, create_graph=False):\n",
    "    n = x.shape[0]\n",
    "    h = torch.empty(n, n)\n",
    "    g = gradient(f, x, True)\n",
    "    for i in range(n):\n",
    "        h[i] = gradient(g[i], x, create_graph, True)\n",
    "    return h\n",
    "\n",
    "\n",
    "def D3(f, x, create_graph=False):\n",
    "    n = x.shape[0]\n",
    "    d3 = torch.empty(n, n, n)\n",
    "    g = gradient(f, x, True)\n",
    "    for i in range(n):\n",
    "        d3[i] = hessian(g[i], x, create_graph)\n",
    "    return d3\n",
    "\n",
    "\n",
    "def hessian_vector_product(f, x, v, retain_graph=False):\n",
    "    grad_f = gradient(f, x, True)\n",
    "    return gradient(grad_f @ v, x, retain_graph=retain_graph)"
   ]
  },
  {
   "cell_type": "code",
   "execution_count": 16,
   "metadata": {},
   "outputs": [
    {
     "name": "stdout",
     "output_type": "stream",
     "text": [
      "F = tensor(14.0625, grad_fn=<ProdBackward0>) \n",
      "\n",
      "g = tensor([18.7500, 11.2500]) \n",
      "\n",
      "h = tensor([[12.5000, 15.0000],\n",
      "        [15.0000,  4.5000]]) \n",
      "\n",
      "h @ e = tensor([27.5000, 19.5000]) \n",
      "\n",
      "d3 = tensor([[[ 2.8610e-06,  1.0000e+01],\n",
      "         [ 1.0000e+01,  6.0000e+00]],\n",
      "\n",
      "        [[ 1.0000e+01,  6.0000e+00],\n",
      "         [ 6.0000e+00, -1.4305e-06]]]) \n",
      "\n"
     ]
    }
   ],
   "source": [
    "def test():\n",
    "    x = torch.tensor([1.5, 2.5], requires_grad=True)\n",
    "    e = torch.tensor([1., 1.])\n",
    "    f = x.pow(2).prod()\n",
    "    print('F =', f, '\\n')\n",
    "\n",
    "    g = gradient(f, x, retain_graph=True)\n",
    "    print('g =', g, '\\n')\n",
    "\n",
    "    h = hessian(f, x)\n",
    "    print('h =', h, '\\n')\n",
    "\n",
    "    he = hessian_vector_product(f, x, e, retain_graph=True)\n",
    "    print('h @ e =', he, '\\n')\n",
    "    \n",
    "    d3 = D3(f, x)\n",
    "    print('d3 =', d3, '\\n')\n",
    "\n",
    "test()"
   ]
  },
  {
   "cell_type": "markdown",
   "metadata": {},
   "source": [
    "# Auxilary problem"
   ]
  },
  {
   "cell_type": "code",
   "execution_count": 17,
   "metadata": {},
   "outputs": [],
   "source": [
    "def auxilary_problem_objective(h, A, c, gamma):\n",
    "    value = .5 * A @ h @ h + c @ h + gamma * torch.norm(h)**4 / 4\n",
    "    return value"
   ]
  },
  {
   "cell_type": "markdown",
   "metadata": {},
   "source": [
    "## Original problem"
   ]
  },
  {
   "cell_type": "code",
   "execution_count": 18,
   "metadata": {},
   "outputs": [],
   "source": [
    "def solve_auxilary_problem_autograd_vanilla_gd(A, c, gamma, h_0, learning_rate=0.001, n_iter=1000):\n",
    "    h = h_0.clone().detach().requires_grad_()\n",
    "    for i in range(n_iter):\n",
    "        value = auxilary_problem_objective(h, A, c, gamma)\n",
    "        grad = gradient(value, h)\n",
    "        with torch.no_grad():\n",
    "            h -= learning_rate * grad\n",
    "    return h\n",
    "\n",
    "\n",
    "def solve_auxilary_problem_analytic_vanilla_gd(A, c, gamma, h_0, learning_rate=0.001, n_iter=1000):\n",
    "    h = h_0.clone().detach().requires_grad_()\n",
    "    for i in range(n_iter): \n",
    "        grad = A @ h + c + gamma * torch.norm(h)**2 * h\n",
    "        with torch.no_grad():\n",
    "            h -= learning_rate * grad\n",
    "    return h\n",
    "\n",
    "\n",
    "def solve_auxilary_problem_analytic_gd_grad_norm(A, c, gamma, h_0, learning_rate=0.001, min_grad_norm=1e-3):\n",
    "    h = h_0.clone().detach().requires_grad_()\n",
    "    while True:\n",
    "        grad = A @ h + c + gamma * torch.norm(h)**2 * h\n",
    "        grad_norm = torch.norm(grad)\n",
    "        if grad_norm < min_grad_norm:\n",
    "            break\n",
    "        with torch.no_grad():\n",
    "            h -= learning_rate * grad\n",
    "    return h\n",
    "\n",
    "\n",
    "def solve_auxilary_problem_exact_gd_np(A, c, gamma, h_0, min_step_size=1e-5):\n",
    "    h = h_0.clone().detach().requires_grad_()\n",
    "    \n",
    "    def opt_learning_rate():\n",
    "        gh = g @ h\n",
    "        hh = h_norm ** 2\n",
    "        gg = g_norm ** 2\n",
    "        a3 =      gamma * gg**2\n",
    "        a2 = -3 * gamma * gg * gh\n",
    "        a1 =  gamma * hh * gg + 2 * gamma * gh**2 + A @ g @ g\n",
    "        a0 = -gamma * hh * gh - Ah @ g - c @ g\n",
    "        root = [r.real for r in np.roots([a3, a2, a1, a0]) if r.imag == 0][0]\n",
    "        return root\n",
    "    \n",
    "    while True:\n",
    "        h_norm = torch.norm(h)\n",
    "        Ah = A @ h\n",
    "        g = Ah + c + gamma * h_norm**2 * h\n",
    "        g_norm = torch.norm(g)\n",
    "        learning_rate = opt_learning_rate()\n",
    "        if g_norm * learning_rate < min_step_size:\n",
    "            break\n",
    "        with torch.no_grad():\n",
    "            h -= learning_rate * g\n",
    "    return h\n",
    "\n",
    "\n",
    "def solve_auxilary_problem_exact_gd(A, c, gamma, h_0, min_step_size=1e-5):\n",
    "    h = h_0.clone().detach().requires_grad_()\n",
    "    \n",
    "    def opt_learning_rate():\n",
    "        gh = g @ h\n",
    "        gg = g_norm ** 2\n",
    "        gamma_gg = gamma * gg\n",
    "        gamma_hh = gamma * hh\n",
    "        a3 =      gamma_gg * gg\n",
    "        a2 = -3 * gamma_gg * gh\n",
    "        a1 =  gamma_hh * gg + 2 * gamma * gh**2 + A @ g @ g\n",
    "        a0 = -gamma_hh * gh - Ah @ g - c @ g\n",
    "        root = [r.real for r in solve_cubic(a3.item(), a2.item(), a1.item(), a0.item()) if r.imag == 0][0]\n",
    "        return root\n",
    "    \n",
    "    while True:\n",
    "        h_norm = torch.norm(h)\n",
    "        Ah = A @ h\n",
    "        hh = h_norm ** 2\n",
    "        g = Ah + c + gamma * hh * h\n",
    "        g_norm = torch.norm(g)\n",
    "        learning_rate = opt_learning_rate()\n",
    "        if g_norm * learning_rate < min_step_size:\n",
    "            break\n",
    "        with torch.no_grad():\n",
    "            h -= learning_rate * g\n",
    "    return h\n",
    "\n",
    "\n",
    "def solve_auxilary_problem_exact_newton(A, c, gamma, h_0, eps=1e-7):\n",
    "    h = h_0.clone().detach().requires_grad_()\n",
    "    \n",
    "    def opt_learning_rate():\n",
    "        sh = s @ h\n",
    "        ss = s_norm ** 2\n",
    "        gamma_ss = gamma * ss\n",
    "        gamma_hh = gamma * hh\n",
    "        a3 =      gamma_ss * ss\n",
    "        a2 = -3 * gamma_ss * sh\n",
    "        a1 =  gamma_hh * ss + 2 * gamma * sh**2 + A @ s @ s\n",
    "        a0 = -gamma_hh * sh - Ah @ s - c @ s\n",
    "        root = [r.real for r in solve_cubic(a3.item(), a2.item(), a1.item(), a0.item()) if r.imag == 0][0]\n",
    "        return root\n",
    "    \n",
    "    def outer(a, b):\n",
    "        return torch.unsqueeze(a, 1) @ torch.unsqueeze(b, 0)\n",
    "    \n",
    "    I = torch.eye(len(c))\n",
    "    while True:\n",
    "        h_norm = torch.norm(h)\n",
    "        Ah = A @ h\n",
    "        hh = h_norm ** 2\n",
    "        g = Ah + c + gamma * hh * h\n",
    "        H = A + gamma * (2 * outer(h, h) + hh**2 * I)\n",
    "        s = torch.inverse(H) @ g\n",
    "        lmb_square = s @ g\n",
    "        s_norm = torch.norm(s)\n",
    "        learning_rate = opt_learning_rate()\n",
    "        if lmb_square < eps:\n",
    "            break\n",
    "        with torch.no_grad():\n",
    "            h -= learning_rate * s\n",
    "    return h"
   ]
  },
  {
   "cell_type": "code",
   "execution_count": 19,
   "metadata": {},
   "outputs": [],
   "source": [
    "def test(solve, N):\n",
    "    times = []\n",
    "    for _ in range(N):\n",
    "        A = torch.diag(torch.abs(torch.randn(4)))\n",
    "        k = 1\n",
    "        e_k = torch.zeros(4)\n",
    "        e_k[k] = 1\n",
    "        c = (10 + 10 * torch.abs(torch.randn(1))) * e_k\n",
    "        gamma = 100 * torch.abs(torch.randn(1))\n",
    "        h_0 = torch.ones_like(c)\n",
    "        \n",
    "        start = clock_gettime(CLOCK_MONOTONIC)\n",
    "        h = solve(A, c, gamma, h_0)\n",
    "        end = clock_gettime(CLOCK_MONOTONIC)\n",
    "        times.append(end - start)\n",
    "    \n",
    "    print('A =', A, '\\n')\n",
    "    print('c =', c, '\\n')\n",
    "    print('gamma =', gamma, '\\n')\n",
    "    \n",
    "    print('Time:', np.mean(times), '\\n')\n",
    "    print('h =', h)\n",
    "\n",
    "    def f(h):\n",
    "        return c @ h + .5 * h.T @ A @ h + gamma * torch.norm(h)**4 / 4\n",
    "\n",
    "    xx = np.linspace(-2, 2, 1000)\n",
    "    yy = [f(x * e_k) for x in xx]\n",
    "    plt.plot(xx, yy)\n",
    "    y1, y2 = min(yy) - 10, min(yy) + 100\n",
    "    plt.ylim(y1, y2)\n",
    "    plt.plot([h[k], h[k]], [y1, y2])"
   ]
  },
  {
   "cell_type": "code",
   "execution_count": 20,
   "metadata": {},
   "outputs": [
    {
     "name": "stdout",
     "output_type": "stream",
     "text": [
      "A = tensor([[0.5504, 0.0000, 0.0000, 0.0000],\n",
      "        [0.0000, 0.8717, 0.0000, 0.0000],\n",
      "        [0.0000, 0.0000, 0.6552, 0.0000],\n",
      "        [0.0000, 0.0000, 0.0000, 0.2944]]) \n",
      "\n",
      "c = tensor([ 0.0000, 10.0088,  0.0000,  0.0000]) \n",
      "\n",
      "gamma = tensor([21.1941]) \n",
      "\n",
      "Time: 0.26460410799772943 \n",
      "\n",
      "h = tensor([ 2.6391e-06, -7.6113e-01,  2.3734e-06,  3.4203e-06],\n",
      "       requires_grad=True)\n"
     ]
    },
    {
     "data": {
      "image/png": "[encoded data removed]",
      "text/plain": [
       "<Figure size 432x288 with 1 Axes>"
      ]
     },
     "metadata": {
      "needs_background": "light"
     },
     "output_type": "display_data"
    }
   ],
   "source": [
    "test(lambda A, c, gamma, h_0: solve_auxilary_problem_autograd_vanilla_gd(A, c, gamma, h_0), 10)"
   ]
  },
  {
   "cell_type": "code",
   "execution_count": 21,
   "metadata": {},
   "outputs": [
    {
     "name": "stdout",
     "output_type": "stream",
     "text": [
      "A = tensor([[0.6735, 0.0000, 0.0000, 0.0000],\n",
      "        [0.0000, 0.3831, 0.0000, 0.0000],\n",
      "        [0.0000, 0.0000, 0.5598, 0.0000],\n",
      "        [0.0000, 0.0000, 0.0000, 1.2064]]) \n",
      "\n",
      "c = tensor([ 0.0000, 13.6874,  0.0000,  0.0000]) \n",
      "\n",
      "gamma = tensor([105.0011]) \n",
      "\n",
      "Time: 0.052879347360576506 \n",
      "\n",
      "h = tensor([ 6.2351e-13, -5.0464e-01,  7.0091e-13,  3.6034e-13],\n",
      "       requires_grad=True)\n"
     ]
    },
    {
     "data": {
      "image/png": "[encoded data removed]",
      "text/plain": [
       "<Figure size 432x288 with 1 Axes>"
      ]
     },
     "metadata": {
      "needs_background": "light"
     },
     "output_type": "display_data"
    }
   ],
   "source": [
    "test(lambda A, c, gamma, h_0: solve_auxilary_problem_analytic_vanilla_gd(A, c, gamma, h_0), 100)"
   ]
  },
  {
   "cell_type": "code",
   "execution_count": 22,
   "metadata": {
    "scrolled": false
   },
   "outputs": [
    {
     "name": "stdout",
     "output_type": "stream",
     "text": [
      "A = tensor([[0.2543, 0.0000, 0.0000, 0.0000],\n",
      "        [0.0000, 0.1371, 0.0000, 0.0000],\n",
      "        [0.0000, 0.0000, 2.3172, 0.0000],\n",
      "        [0.0000, 0.0000, 0.0000, 0.8595]]) \n",
      "\n",
      "c = tensor([ 0.0000, 18.4397,  0.0000,  0.0000]) \n",
      "\n",
      "gamma = tensor([81.0532]) \n",
      "\n",
      "Time: 0.044789253898488826 \n",
      "\n",
      "h = tensor([ 2.3560e-05, -6.0954e-01,  1.1367e-05,  1.9028e-05],\n",
      "       requires_grad=True)\n"
     ]
    },
    {
     "data": {
      "image/png": "[encoded data removed]",
      "text/plain": [
       "<Figure size 432x288 with 1 Axes>"
      ]
     },
     "metadata": {
      "needs_background": "light"
     },
     "output_type": "display_data"
    }
   ],
   "source": [
    "test(lambda A, c, gamma, h_0: solve_auxilary_problem_analytic_gd_grad_norm(A, c, gamma, h_0), 10)"
   ]
  },
  {
   "cell_type": "code",
   "execution_count": 23,
   "metadata": {},
   "outputs": [
    {
     "name": "stdout",
     "output_type": "stream",
     "text": [
      "A = tensor([[0.6099, 0.0000, 0.0000, 0.0000],\n",
      "        [0.0000, 1.0547, 0.0000, 0.0000],\n",
      "        [0.0000, 0.0000, 0.3447, 0.0000],\n",
      "        [0.0000, 0.0000, 0.0000, 0.4057]]) \n",
      "\n",
      "c = tensor([ 0.0000, 14.7075,  0.0000,  0.0000]) \n",
      "\n",
      "gamma = tensor([58.3372]) \n",
      "\n",
      "Time: 0.005482825413942919 \n",
      "\n",
      "h = tensor([-3.4549e-06, -6.2219e-01, -4.2231e-06, -4.0339e-06],\n",
      "       requires_grad=True)\n"
     ]
    },
    {
     "data": {
      "image/png": "[encoded data removed]",
      "text/plain": [
       "<Figure size 432x288 with 1 Axes>"
      ]
     },
     "metadata": {
      "needs_background": "light"
     },
     "output_type": "display_data"
    }
   ],
   "source": [
    "test(lambda A, c, gamma, h_0: solve_auxilary_problem_exact_gd_np(A, c, gamma, h_0), 1000)"
   ]
  },
  {
   "cell_type": "code",
   "execution_count": 24,
   "metadata": {},
   "outputs": [
    {
     "name": "stdout",
     "output_type": "stream",
     "text": [
      "A = tensor([[2.0363, 0.0000, 0.0000, 0.0000],\n",
      "        [0.0000, 0.4640, 0.0000, 0.0000],\n",
      "        [0.0000, 0.0000, 0.1786, 0.0000],\n",
      "        [0.0000, 0.0000, 0.0000, 0.1718]]) \n",
      "\n",
      "c = tensor([ 0.0000, 25.2483,  0.0000,  0.0000]) \n",
      "\n",
      "gamma = tensor([50.2921]) \n",
      "\n",
      "Time: 0.003501675920051639 \n",
      "\n",
      "h = tensor([-2.4247e-06, -7.9090e-01, -6.5542e-06, -6.5773e-06],\n",
      "       requires_grad=True)\n"
     ]
    },
    {
     "data": {
      "image/png": "[encoded data removed]",
      "text/plain": [
       "<Figure size 432x288 with 1 Axes>"
      ]
     },
     "metadata": {
      "needs_background": "light"
     },
     "output_type": "display_data"
    }
   ],
   "source": [
    "test(lambda A, c, gamma, h_0: solve_auxilary_problem_exact_gd(A, c, gamma, h_0), 1000)"
   ]
  },
  {
   "cell_type": "code",
   "execution_count": 25,
   "metadata": {},
   "outputs": [
    {
     "name": "stdout",
     "output_type": "stream",
     "text": [
      "A = tensor([[0.5362, 0.0000, 0.0000, 0.0000],\n",
      "        [0.0000, 0.3358, 0.0000, 0.0000],\n",
      "        [0.0000, 0.0000, 0.3272, 0.0000],\n",
      "        [0.0000, 0.0000, 0.0000, 0.5745]]) \n",
      "\n",
      "c = tensor([ 0.0000, 11.6401,  0.0000,  0.0000]) \n",
      "\n",
      "gamma = tensor([196.9587]) \n",
      "\n",
      "Time: 0.0023529011090286074 \n",
      "\n",
      "h = tensor([ 1.2962e-06, -3.8806e-01,  1.6218e-05,  6.0991e-07],\n",
      "       requires_grad=True)\n"
     ]
    },
    {
     "data": {
      "image/png": "[encoded data removed]",
      "text/plain": [
       "<Figure size 432x288 with 1 Axes>"
      ]
     },
     "metadata": {
      "needs_background": "light"
     },
     "output_type": "display_data"
    }
   ],
   "source": [
    "test(lambda A, c, gamma, h_0: solve_auxilary_problem_exact_newton(A, c, gamma, h_0), 1000)"
   ]
  },
  {
   "cell_type": "markdown",
   "metadata": {},
   "source": [
    "## One dimensional equivalent problem"
   ]
  },
  {
   "cell_type": "code",
   "execution_count": 26,
   "metadata": {},
   "outputs": [],
   "source": [
    "def auxilary_subproblem_objective(tau, T, c_tilda, gamma):\n",
    "    I = torch.eye(len(c_tilda))\n",
    "    value = tau**2 + .5 * c_tilda.T @ torch.inverse(2 * math.sqrt(gamma) * tau * I + T) @ c_tilda\n",
    "    return value"
   ]
  },
  {
   "cell_type": "code",
   "execution_count": 27,
   "metadata": {},
   "outputs": [],
   "source": [
    "def tridiag(d, e):\n",
    "    return torch.diag(d) + torch.diag(e, -1) + torch.diag(e, 1)\n",
    "\n",
    "\n",
    "def utu_decomposition(A):  # TODO\n",
    "    a = A.tolist()\n",
    "    N = len(a)\n",
    "    a, tau, d, e = xalglib.smatrixtd(a, N, True)\n",
    "    u = xalglib.smatrixtdunpackq(a, N, True, tau)\n",
    "    U = torch.tensor(u)\n",
    "    T = tridiag(torch.tensor(d), torch.tensor(e))\n",
    "    return T, U\n",
    "\n",
    "\n",
    "def solve_auxilary_subproblem_autograd_vanilla_gd(T, c_tilda, gamma, tau_0, learning_rate=0.1, n_iter=100):\n",
    "    tau = tau_0.clone().detach().requires_grad_()\n",
    "    for i in range(n_iter):\n",
    "        value = auxilary_subproblem_objective(tau, T, c_tilda, gamma)\n",
    "        g = gradient(value, tau)\n",
    "        with torch.no_grad():\n",
    "            tau -= learning_rate * g\n",
    "    return tau\n",
    "\n",
    "\n",
    "def solve_auxilary_subproblem_analytic_vanilla_gd(T, c_tilda, gamma, tau_0, learning_rate=0.1, n_iter=100):\n",
    "    tau = tau_0.clone().detach().requires_grad_()\n",
    "    I = torch.eye(len(c_tilda))\n",
    "    for i in range(n_iter):\n",
    "        B = torch.inverse(2 * math.sqrt(gamma) * tau * I + T)\n",
    "        g = 2 * tau - math.sqrt(gamma) * B @ B @ c_tilda @ c_tilda\n",
    "        with torch.no_grad():\n",
    "            tau -= learning_rate * g\n",
    "    return tau\n",
    "\n",
    "\n",
    "def solve_auxilary_subproblem_analytic_gd_grad_norm(T, c_tilda, gamma, tau_0, learning_rate=0.1, min_grad_norm=1e-3):\n",
    "    tau = tau_0.clone().detach().requires_grad_()\n",
    "    I = torch.eye(len(c_tilda))\n",
    "    while True:\n",
    "        B = torch.inverse(2 * math.sqrt(gamma) * tau * I + T)\n",
    "        g = 2 * tau - math.sqrt(gamma) * B @ B @ c_tilda @ c_tilda\n",
    "        g_norm = torch.norm(g)\n",
    "        if g_norm < min_grad_norm:\n",
    "            break\n",
    "        with torch.no_grad():\n",
    "            tau -= learning_rate * g\n",
    "    return tau\n",
    "\n",
    "\n",
    "def solve_auxilary_subproblem_newton(T, c_tilda, gamma, tau_0, eps=1e-7):\n",
    "    tau = tau_0.clone().detach().requires_grad_()\n",
    "    I = torch.eye(len(c_tilda))\n",
    "    while True:\n",
    "        B = torch.inverse(2 * math.sqrt(gamma) * tau * I + T)\n",
    "        B2 = B @ B\n",
    "        B3 = B2 @ B\n",
    "        g = 2 * tau - math.sqrt(gamma) * B2 @ c_tilda @ c_tilda\n",
    "        H = 2 + 4 * gamma * B3 @ c_tilda @ c_tilda\n",
    "        s = g / H\n",
    "        lmb_square = s * g\n",
    "        if lmb_square < eps:\n",
    "            break\n",
    "        with torch.no_grad():\n",
    "            tau -= s\n",
    "    return tau\n",
    "\n",
    "\n",
    "def solve_auxilary_problem_utu(A, c, gamma, solve_auxilary_subproblem, state=None):\n",
    "    if state is None:\n",
    "        T, U = utu_decomposition(A)\n",
    "        tau_0 = torch.tensor(1, dtype=torch.float32, requires_grad=True)\n",
    "    else:\n",
    "        T, U, tau_0 = state\n",
    "    c_tilda = U.T @ c\n",
    "    \n",
    "    tau = solve_auxilary_subproblem(T, c_tilda, gamma, tau_0)\n",
    "    assert tau > 0\n",
    "    I = torch.eye(len(c_tilda))\n",
    "    h = -U @ torch.inverse(2 * math.sqrt(gamma) * tau * I + T) @ c_tilda\n",
    "    \n",
    "    state = T, U, tau\n",
    "    \n",
    "    return h, state"
   ]
  },
  {
   "cell_type": "code",
   "execution_count": 28,
   "metadata": {},
   "outputs": [
    {
     "name": "stdout",
     "output_type": "stream",
     "text": [
      "A = tensor([[-1., -2.,  1.,  2.],\n",
      "        [-2.,  3.,  0., -2.],\n",
      "        [ 1.,  0.,  2.,  1.],\n",
      "        [ 2., -2.,  1.,  4.]]) \n",
      "\n",
      "T = tensor([[ 1.9867,  0.9067,  0.0000,  0.0000],\n",
      "        [ 0.9067, -1.3200, -1.6667,  0.0000],\n",
      "        [ 0.0000, -1.6667,  3.3333, -3.0000],\n",
      "        [ 0.0000,  0.0000, -3.0000,  4.0000]]) \n",
      "\n",
      "U = tensor([[ 0.1333, -0.7333, -0.6667,  0.0000],\n",
      "        [-0.3333, -0.6667,  0.6667,  0.0000],\n",
      "        [-0.9333,  0.1333, -0.3333,  0.0000],\n",
      "        [ 0.0000,  0.0000,  0.0000,  1.0000]]) \n",
      "\n",
      "U @ T @ U.T = tensor([[-1.0000e+00, -2.0000e+00,  1.0000e+00,  2.0000e+00],\n",
      "        [-2.0000e+00,  3.0000e+00,  8.1956e-08, -2.0000e+00],\n",
      "        [ 1.0000e+00,  0.0000e+00,  2.0000e+00,  1.0000e+00],\n",
      "        [ 2.0000e+00, -2.0000e+00,  1.0000e+00,  4.0000e+00]]) \n",
      "\n"
     ]
    }
   ],
   "source": [
    "def test():\n",
    "    A = torch.tensor([\n",
    "        [-1, -2, 1, 2],\n",
    "        [-2, 3, 0, -2],\n",
    "        [1, 0, 2, 1],\n",
    "        [2, -2, 1, 4]\n",
    "    ], dtype=torch.float32)\n",
    "    c = torch.ones(4)\n",
    "    gamma = 1\n",
    "\n",
    "    T, U = utu_decomposition(A)\n",
    "    print('A =', A, '\\n')\n",
    "    print('T =', T, '\\n')\n",
    "    print('U =', U, '\\n')\n",
    "    print('U @ T @ U.T =', U @ T @ U.T, '\\n')\n",
    "\n",
    "test()"
   ]
  },
  {
   "cell_type": "code",
   "execution_count": 29,
   "metadata": {},
   "outputs": [],
   "source": [
    "def test(solve, N):\n",
    "    A = torch.diag(torch.abs(torch.randn(4)))\n",
    "    k = 1\n",
    "    e_k = torch.zeros(4)\n",
    "    e_k[k] = 1\n",
    "    c = (10 + 10 * torch.abs(torch.randn(1))) * e_k\n",
    "    gamma = 100 * torch.abs(torch.randn(1))\n",
    "    \n",
    "    T, U = utu_decomposition(A)\n",
    "    tau_0 = torch.tensor(1, dtype=torch.float32, requires_grad=True)\n",
    "    \n",
    "    state = T, U, tau_0\n",
    "    \n",
    "    times = []\n",
    "    for i in range(N):\n",
    "        start = clock_gettime(CLOCK_MONOTONIC)\n",
    "        h, _ = solve(A, c, gamma, state)\n",
    "        end = clock_gettime(CLOCK_MONOTONIC)\n",
    "        times.append(end - start)\n",
    "    \n",
    "    print('A =', A, '\\n')\n",
    "    print('c =', c, '\\n')\n",
    "    print('gamma =', gamma, '\\n')\n",
    "    \n",
    "    print('Time:', np.mean(times), '\\n')\n",
    "    print('h =', h)\n",
    "\n",
    "    def f(h):\n",
    "        return c @ h + .5 * h.T @ A @ h + gamma * torch.norm(h)**4 / 4\n",
    "\n",
    "    xx = np.linspace(-2, 2, 1000)\n",
    "    yy = [f(x * e_k) for x in xx]\n",
    "    plt.plot(xx, yy)\n",
    "    y1, y2 = min(yy) - 10, min(yy) + 100\n",
    "    plt.ylim(y1, y2)\n",
    "    plt.plot([h[k], h[k]], [y1, y2])"
   ]
  },
  {
   "cell_type": "code",
   "execution_count": 30,
   "metadata": {},
   "outputs": [
    {
     "name": "stdout",
     "output_type": "stream",
     "text": [
      "A = tensor([[2.3938, 0.0000, 0.0000, 0.0000],\n",
      "        [0.0000, 0.1161, 0.0000, 0.0000],\n",
      "        [0.0000, 0.0000, 1.0347, 0.0000],\n",
      "        [0.0000, 0.0000, 0.0000, 1.3629]]) \n",
      "\n",
      "c = tensor([ 0.0000, 21.5628,  0.0000,  0.0000]) \n",
      "\n",
      "gamma = tensor([25.1548]) \n",
      "\n",
      "Time: 0.26668743769987485 \n",
      "\n",
      "h = tensor([ 0.0000, -0.9490,  0.0000,  0.0000], grad_fn=<MvBackward>)\n"
     ]
    },
    {
     "data": {
      "image/png": "[encoded data removed]",
      "text/plain": [
       "<Figure size 432x288 with 1 Axes>"
      ]
     },
     "metadata": {
      "needs_background": "light"
     },
     "output_type": "display_data"
    }
   ],
   "source": [
    "test(lambda A, c, gamma, state: \n",
    "     solve_auxilary_problem_utu(A, c, gamma, \n",
    "                                lambda T, c_tilda, gamma, tau_0: solve_auxilary_subproblem_autograd_vanilla_gd(T, c_tilda, gamma, tau_0, learning_rate=0.001, n_iter=1000), \n",
    "                                state), \n",
    "    10)"
   ]
  },
  {
   "cell_type": "code",
   "execution_count": 31,
   "metadata": {},
   "outputs": [
    {
     "name": "stdout",
     "output_type": "stream",
     "text": [
      "A = tensor([[0.4537, 0.0000, 0.0000, 0.0000],\n",
      "        [0.0000, 1.7813, 0.0000, 0.0000],\n",
      "        [0.0000, 0.0000, 1.1434, 0.0000],\n",
      "        [0.0000, 0.0000, 0.0000, 1.3966]]) \n",
      "\n",
      "c = tensor([ 0.0000, 18.7621,  0.0000,  0.0000]) \n",
      "\n",
      "gamma = tensor([120.5240]) \n",
      "\n",
      "Time: 0.0911901135998778 \n",
      "\n",
      "h = tensor([ 0.0000, -0.5292,  0.0000,  0.0000], grad_fn=<MvBackward>)\n"
     ]
    },
    {
     "data": {
      "image/png": "[encoded data removed]",
      "text/plain": [
       "<Figure size 432x288 with 1 Axes>"
      ]
     },
     "metadata": {
      "needs_background": "light"
     },
     "output_type": "display_data"
    }
   ],
   "source": [
    "test(lambda A, c, gamma, state: \n",
    "     solve_auxilary_problem_utu(A, c, gamma, \n",
    "                                lambda T, c_tilda, gamma, tau_0: solve_auxilary_subproblem_analytic_vanilla_gd(T, c_tilda, gamma, tau_0, learning_rate=0.001, n_iter=1000), \n",
    "                                state), \n",
    "    100)"
   ]
  },
  {
   "cell_type": "code",
   "execution_count": 32,
   "metadata": {},
   "outputs": [
    {
     "name": "stdout",
     "output_type": "stream",
     "text": [
      "A = tensor([[0.0248, 0.0000, 0.0000, 0.0000],\n",
      "        [0.0000, 1.1312, 0.0000, 0.0000],\n",
      "        [0.0000, 0.0000, 0.0939, 0.0000],\n",
      "        [0.0000, 0.0000, 0.0000, 0.9684]]) \n",
      "\n",
      "c = tensor([ 0.0000, 21.9000,  0.0000,  0.0000]) \n",
      "\n",
      "gamma = tensor([19.3540]) \n",
      "\n",
      "Time: 0.0015530343109276146 \n",
      "\n",
      "h = tensor([ 0.0000, -1.0233,  0.0000,  0.0000], grad_fn=<MvBackward>)\n"
     ]
    },
    {
     "data": {
      "image/png": "[encoded data removed]",
      "text/plain": [
       "<Figure size 432x288 with 1 Axes>"
      ]
     },
     "metadata": {
      "needs_background": "light"
     },
     "output_type": "display_data"
    }
   ],
   "source": [
    "test(lambda A, c, gamma, state: \n",
    "     solve_auxilary_problem_utu(A, c, gamma, \n",
    "                                lambda T, c_tilda, gamma, tau_0: solve_auxilary_subproblem_analytic_gd_grad_norm(T, c_tilda, gamma, tau_0, learning_rate=0.1), \n",
    "                                state), \n",
    "    1000)"
   ]
  },
  {
   "cell_type": "code",
   "execution_count": 33,
   "metadata": {},
   "outputs": [
    {
     "name": "stdout",
     "output_type": "stream",
     "text": [
      "A = tensor([[0.9833, 0.0000, 0.0000, 0.0000],\n",
      "        [0.0000, 0.6474, 0.0000, 0.0000],\n",
      "        [0.0000, 0.0000, 1.0779, 0.0000],\n",
      "        [0.0000, 0.0000, 0.0000, 0.0052]]) \n",
      "\n",
      "c = tensor([ 0.0000, 14.3886,  0.0000,  0.0000]) \n",
      "\n",
      "gamma = tensor([143.1189]) \n",
      "\n",
      "Time: 0.0006677610827464377 \n",
      "\n",
      "h = tensor([ 0.0000, -0.4617,  0.0000,  0.0000], grad_fn=<MvBackward>)\n"
     ]
    },
    {
     "data": {
      "image/png": "[encoded data removed]",
      "text/plain": [
       "<Figure size 432x288 with 1 Axes>"
      ]
     },
     "metadata": {
      "needs_background": "light"
     },
     "output_type": "display_data"
    }
   ],
   "source": [
    "test(lambda A, c, gamma, state: \n",
    "     solve_auxilary_problem_utu(A, c, gamma, \n",
    "                                lambda T, c_tilda, gamma, tau_0: solve_auxilary_subproblem_newton(T, c_tilda, gamma, tau_0), \n",
    "                                state), \n",
    "    1000)"
   ]
  },
  {
   "cell_type": "markdown",
   "metadata": {},
   "source": [
    "# Bregman-distance gradient method"
   ]
  },
  {
   "cell_type": "code",
   "execution_count": 34,
   "metadata": {},
   "outputs": [],
   "source": [
    "def BDGM_newton(f, x_tilda_k, eps, L3):\n",
    "    f_x_tilda_k = f(x_tilda_k)\n",
    "    g_x_tilda_k = gradient(f_x_tilda_k, x_tilda_k, retain_graph=True)\n",
    "    H_x_tilda_k = hessian(f_x_tilda_k, x_tilda_k)\n",
    "    \n",
    "    g_x_tilda_k_norm = torch.norm(g_x_tilda_k)\n",
    "    \n",
    "    alpha = 2 + math.sqrt(2)\n",
    "    A = alpha * H_x_tilda_k\n",
    "    gamma = L3 * alpha\n",
    "    \n",
    "    delta = 0.001 * eps**1.5 / (g_x_tilda_k_norm**0.5 + torch.norm(H_x_tilda_k)**1.5 / L3**0.5)\n",
    "    \n",
    "    z_0 = x_tilda_k\n",
    "    tau = 3 * delta / (8 * alpha * g_x_tilda_k_norm)\n",
    "    \n",
    "    def g_x_tilda_k_tau():  # z = z_i, h_i = z - x_tilda_k\n",
    "        x_p = x_tilda_k + tau * h_i\n",
    "        grad_g_p = gradient(f(x_p), x_p)\n",
    "        x_n = x_tilda_k - tau * h_i\n",
    "        grad_g_n = gradient(f(x_n), x_n)\n",
    "        r = 1 / tau**2 * (grad_g_p + grad_g_n - 2 * g_x_tilda_k)\n",
    "        return r\n",
    "    \n",
    "    def g_phi_k_tau():  # z = z_i, h_i = z - x_tilda_k\n",
    "        return g_x_tilda_k + g_x_tilda_k_tau() + u_i\n",
    "    \n",
    "    z_i = z_0\n",
    "    while True:\n",
    "        h_i = z_i - x_tilda_k\n",
    "        u_i = H_x_tilda_k @ h_i + L3 * (h_i**2).sum() * h_i\n",
    "        g_phi_k_tau_z_i = g_phi_k_tau()\n",
    "        grad_f_z_i = gradient(f(z_i), z_i)\n",
    "        if torch.norm(g_phi_k_tau_z_i) <= 1 / 6 * torch.norm(grad_f_z_i) - delta:\n",
    "            break\n",
    "        else:\n",
    "            c = g_phi_k_tau_z_i - alpha * u_i\n",
    "            h = solve_auxilary_problem_exact_newton(A, c, gamma, h_i)\n",
    "            z_i = h + x_tilda_k\n",
    "\n",
    "    return z_i"
   ]
  },
  {
   "cell_type": "code",
   "execution_count": 35,
   "metadata": {},
   "outputs": [],
   "source": [
    "def BDGM_utu(f, x_tilda_k, eps, L3):\n",
    "    f_x_tilda_k = f(x_tilda_k)\n",
    "    g_x_tilda_k = gradient(f_x_tilda_k, x_tilda_k, retain_graph=True)\n",
    "    H_x_tilda_k = hessian(f_x_tilda_k, x_tilda_k)\n",
    "    \n",
    "    g_x_tilda_k_norm = torch.norm(g_x_tilda_k)\n",
    "    \n",
    "    alpha = 2 + math.sqrt(2)\n",
    "    A = alpha * H_x_tilda_k\n",
    "    gamma = L3 * alpha\n",
    "    \n",
    "    T, U = utu_decomposition(A)\n",
    "    tau_0 = torch.tensor(1, dtype=torch.float32, requires_grad=True)\n",
    "    state = T, U, tau_0\n",
    "    \n",
    "    delta = 0.001 * eps**1.5 / (g_x_tilda_k_norm**0.5 + torch.norm(H_x_tilda_k)**1.5 / L3**0.5)\n",
    "    \n",
    "    z_0 = x_tilda_k\n",
    "    tau = 3 * delta / (8 * alpha * g_x_tilda_k_norm)\n",
    "    \n",
    "    def g_x_tilda_k_tau():  # z = z_i, h_i = z - x_tilda_k\n",
    "        x_p = x_tilda_k + tau * h_i\n",
    "        grad_g_p = gradient(f(x_p), x_p)\n",
    "        x_n = x_tilda_k - tau * h_i\n",
    "        grad_g_n = gradient(f(x_n), x_n)\n",
    "        r = 1 / tau**2 * (grad_g_p + grad_g_n - 2 * g_x_tilda_k)\n",
    "        return r\n",
    "    \n",
    "    def g_phi_k_tau():  # z = z_i, h_i = z - x_tilda_k\n",
    "        return g_x_tilda_k + g_x_tilda_k_tau() + u_i\n",
    "    \n",
    "    z_i = z_0\n",
    "    while True:\n",
    "        h_i = z_i - x_tilda_k\n",
    "        u_i = H_x_tilda_k @ h_i + L3 * (h_i**2).sum() * h_i\n",
    "        g_phi_k_tau_z_i = g_phi_k_tau()\n",
    "        grad_f_z_i = gradient(f(z_i), z_i)\n",
    "        if torch.norm(g_phi_k_tau_z_i) <= 1 / 6 * torch.norm(grad_f_z_i) - delta:\n",
    "            break\n",
    "        else:\n",
    "            c = g_phi_k_tau_z_i - alpha * u_i\n",
    "            h, state = solve_auxilary_problem_utu(A, c, gamma, solve_auxilary_subproblem_newton, state)\n",
    "            z_i = h + x_tilda_k\n",
    "\n",
    "    return z_i"
   ]
  },
  {
   "cell_type": "code",
   "execution_count": 36,
   "metadata": {},
   "outputs": [],
   "source": [
    "def test(solve, N):\n",
    "    def f(x):\n",
    "        return torch.nn.functional.binary_cross_entropy_with_logits(X @ x, y)\n",
    "\n",
    "    L3 = 5\n",
    "    eps = 1e-5\n",
    "    \n",
    "    def phi_k(z):\n",
    "        y = z - x_tilda_k\n",
    "        return g @ y + h @ y @ y + d3 @ y @ y @ y + L3 * torch.norm(y)**4 / 4\n",
    "\n",
    "    def is_feasible(z):\n",
    "        return torch.norm(z - x_tilda_k) <= 2 * ((2 + math.sqrt(2)) * torch.norm(g) / L3) ** (1/3)\n",
    "\n",
    "    times = []\n",
    "    for _ in range(N):\n",
    "        x_tilda_k = torch.randn(31, requires_grad=True)\n",
    "        f_x_tilda_k = f(x_tilda_k)\n",
    "        g = gradient(f_x_tilda_k, x_tilda_k, retain_graph=True)\n",
    "        h = hessian(f_x_tilda_k, x_tilda_k)\n",
    "        d3 = D3(f_x_tilda_k, x_tilda_k)\n",
    "        \n",
    "        start = clock_gettime(CLOCK_MONOTONIC)\n",
    "        z_opt = solve(f, x_tilda_k, eps, L3)\n",
    "        end = clock_gettime(CLOCK_MONOTONIC)\n",
    "        times.append(end - start)\n",
    "        \n",
    "        assert is_feasible(z_opt)\n",
    "        assert check_optimality(phi_k, z_opt, eps=1e-3)\n",
    "    \n",
    "    print('Time:', np.mean(times))"
   ]
  },
  {
   "cell_type": "code",
   "execution_count": 37,
   "metadata": {},
   "outputs": [
    {
     "name": "stdout",
     "output_type": "stream",
     "text": [
      "Time: 0.028133713390125194\n"
     ]
    }
   ],
   "source": [
    "test(BDGM_newton, 100)"
   ]
  },
  {
   "cell_type": "code",
   "execution_count": 38,
   "metadata": {},
   "outputs": [
    {
     "name": "stdout",
     "output_type": "stream",
     "text": [
      "Time: 0.020796119529986754\n"
     ]
    }
   ],
   "source": [
    "test(BDGM_utu, 100)"
   ]
  },
  {
   "cell_type": "markdown",
   "metadata": {},
   "source": [
    "# Hyperfast Second-Order Method"
   ]
  },
  {
   "cell_type": "code",
   "execution_count": 39,
   "metadata": {},
   "outputs": [],
   "source": [
    "def square_norm(x):\n",
    "    return torch.sum(x**2)\n",
    "\n",
    "def hyperfast_second_order_method(f, y_0, K, L3, eps):\n",
    "    A_0 = 0\n",
    "    x_0 = y_0 \n",
    "\n",
    "    x_tilda_k = x_0\n",
    "    A_k = A_0\n",
    "    x_k = x_0\n",
    "    y_k = y_0\n",
    "\n",
    "    for k in range(K):\n",
    "        y_k_plus_1 = BDGM_utu(f, x_tilda_k, eps, L3)\n",
    "\n",
    "        sn = square_norm(y_k_plus_1 - x_tilda_k)\n",
    "        lambda_min = 2 / (3 * L3 * sn)\n",
    "        lambda_max = 1 / (L3 * sn)\n",
    "        lambda_k_plus_1 = (lambda_min + lambda_max) / 2\n",
    "\n",
    "        a_k_plus_1 = 1 / 2 * (lambda_k_plus_1 +\n",
    "                              (lambda_k_plus_1 ** 2 +\n",
    "                               4 * lambda_k_plus_1 * A_k) ** 0.5)\n",
    "        A_k_plus_1 = a_k_plus_1 + A_k\n",
    "        x_tilda_k = A_k * y_k / A_k_plus_1 + a_k_plus_1 * x_k / A_k_plus_1\n",
    "        x_k = x_k - a_k_plus_1 * gradient(f(y_k_plus_1), y_k_plus_1)\n",
    "        \n",
    "        A_k = A_k_plus_1\n",
    "        y_k = y_k_plus_1\n",
    "\n",
    "    return y_k"
   ]
  },
  {
   "cell_type": "code",
   "execution_count": 40,
   "metadata": {},
   "outputs": [
    {
     "name": "stdout",
     "output_type": "stream",
     "text": [
      "Time: 7.32409562500834\n",
      "y_opt tensor([-0.4830, -0.6889, -0.4309, -0.4320, -0.4833, -0.4560, -0.4552, -0.4545,\n",
      "        -0.0914,  0.4990, -0.4841,  0.1016, -0.0853, -0.0380, -0.1502,  0.0855,\n",
      "         0.2174, -0.0329,  0.3647,  0.0480, -0.1783, -0.6496, -0.7155, -0.1155,\n",
      "         0.0680, -0.0602, -0.7559, -0.8994, -0.6387,  0.1182,  1.3293],\n",
      "       grad_fn=<AddBackward0>)\n",
      "f(y_opt) = tensor(0.1454, grad_fn=<BinaryCrossEntropyWithLogitsBackward>)\n",
      "y_opt is optimal: True\n",
      "y_opt is optimal: True\n",
      "y_opt is optimal: True\n",
      "y_opt is optimal: True\n",
      "y_opt is optimal: True\n",
      "y_opt is optimal: True\n",
      "y_opt is optimal: True\n"
     ]
    }
   ],
   "source": [
    "def test(N):\n",
    "    L3 = 5\n",
    "    eps = 1e-5\n",
    "    delta = 1e-9\n",
    "    K = 50\n",
    "    \n",
    "    def f(x):\n",
    "        return torch.nn.functional.binary_cross_entropy_with_logits(X @ x, y)\n",
    "    \n",
    "    times = []\n",
    "    for _ in range(N):\n",
    "        y_0 = torch.randn(31, requires_grad=True)\n",
    "        start = clock_gettime(CLOCK_MONOTONIC)\n",
    "        y_opt = hyperfast_second_order_method(f, y_0, K, L3, eps)\n",
    "        end = clock_gettime(CLOCK_MONOTONIC)\n",
    "        times.append(end - start)\n",
    "    \n",
    "    print('Time:', np.mean(times))\n",
    "    \n",
    "    print('y_opt', y_opt)\n",
    "    print('f(y_opt) =', f(y_opt))\n",
    "    print('y_opt is optimal:', check_optimality(f, y_opt, eps=1e-1))\n",
    "    print('y_opt is optimal:', check_optimality(f, y_opt, eps=1e-2))\n",
    "    print('y_opt is optimal:', check_optimality(f, y_opt, eps=1e-3))\n",
    "    print('y_opt is optimal:', check_optimality(f, y_opt, eps=1e-4))\n",
    "    print('y_opt is optimal:', check_optimality(f, y_opt, eps=1e-5))\n",
    "    print('y_opt is optimal:', check_optimality(f, y_opt, eps=1e-6))\n",
    "    print('y_opt is optimal:', check_optimality(f, y_opt, eps=1e-7))\n",
    "\n",
    "test(1)"
   ]
  },
  {
   "cell_type": "code",
   "execution_count": null,
   "metadata": {},
   "outputs": [],
   "source": []
  }
 ],
 "metadata": {
  "kernelspec": {
   "display_name": "Python 3",
   "language": "python",
   "name": "python3"
  },
  "language_info": {
   "codemirror_mode": {
    "name": "ipython",
    "version": 3
   },
   "file_extension": ".py",
   "mimetype": "text/x-python",
   "name": "python",
   "nbconvert_exporter": "python",
   "pygments_lexer": "ipython3",
   "version": "3.7.0"
  }
 },
 "nbformat": 4,
 "nbformat_minor": 4
}
