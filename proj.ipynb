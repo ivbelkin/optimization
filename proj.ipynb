{
 "cells": [
  {
   "cell_type": "code",
   "execution_count": 1,
   "metadata": {},
   "outputs": [],
   "source": [
    "import torch\n",
    "import math\n",
    "import numpy as np\n",
    "import xalglib\n",
    "import matplotlib.pyplot as plt\n",
    "\n",
    "from sklearn.datasets import load_breast_cancer\n",
    "from sklearn.linear_model import LogisticRegression\n",
    "from sklearn.metrics import log_loss"
   ]
  },
  {
   "cell_type": "markdown",
   "metadata": {},
   "source": [
    "# Problem"
   ]
  },
  {
   "cell_type": "markdown",
   "metadata": {},
   "source": [
    "## sklearn: LogisticRegression"
   ]
  },
  {
   "cell_type": "code",
   "execution_count": 2,
   "metadata": {},
   "outputs": [],
   "source": [
    "X, y = load_breast_cancer(True)\n",
    "X = (X - X.mean(axis=0)) / X.std(axis=0) + np.random.randn(*X.shape)\n",
    "X = np.concatenate((X, np.ones((X.shape[0], 1))), axis=1)"
   ]
  },
  {
   "cell_type": "code",
   "execution_count": 3,
   "metadata": {},
   "outputs": [
    {
     "data": {
      "text/plain": [
       "LogisticRegression(C=1.0, class_weight=None, dual=False, fit_intercept=False,\n",
       "                   intercept_scaling=1, l1_ratio=None, max_iter=100,\n",
       "                   multi_class='warn', n_jobs=None, penalty='none',\n",
       "                   random_state=None, solver='newton-cg', tol=1e-07, verbose=0,\n",
       "                   warm_start=False)"
      ]
     },
     "execution_count": 3,
     "metadata": {},
     "output_type": "execute_result"
    }
   ],
   "source": [
    "log_reg = LogisticRegression(penalty='none', fit_intercept=False, solver='newton-cg', tol=1e-7)\n",
    "log_reg.fit(X, y)"
   ]
  },
  {
   "cell_type": "code",
   "execution_count": 4,
   "metadata": {},
   "outputs": [],
   "source": [
    "x_opt = log_reg.coef_[0]"
   ]
  },
  {
   "cell_type": "code",
   "execution_count": 5,
   "metadata": {},
   "outputs": [
    {
     "data": {
      "text/plain": [
       "array([-0.79958168, -0.54571695, -0.51906312, -0.11792283, -0.02262045,\n",
       "       -0.55188501, -0.1911352 , -0.4243348 ,  0.15537339,  0.18411131,\n",
       "       -1.15803487, -0.00876188, -0.65974608, -0.40164107, -0.04764733,\n",
       "       -0.33422752,  0.32886424, -0.18277646,  0.30442109,  0.89567177,\n",
       "       -0.60535583, -0.72130665, -1.2434206 , -0.36327027, -0.61822979,\n",
       "       -0.34115297, -0.25764687, -0.43840302, -0.78910538, -0.22289441,\n",
       "        1.35780598])"
      ]
     },
     "execution_count": 5,
     "metadata": {},
     "output_type": "execute_result"
    }
   ],
   "source": [
    "x_opt"
   ]
  },
  {
   "cell_type": "code",
   "execution_count": 6,
   "metadata": {},
   "outputs": [
    {
     "data": {
      "text/plain": [
       "0.9595782073813708"
      ]
     },
     "execution_count": 6,
     "metadata": {},
     "output_type": "execute_result"
    }
   ],
   "source": [
    "log_reg.score(X, y)"
   ]
  },
  {
   "cell_type": "code",
   "execution_count": 7,
   "metadata": {},
   "outputs": [
    {
     "data": {
      "text/plain": [
       "0.12020288385500831"
      ]
     },
     "execution_count": 7,
     "metadata": {},
     "output_type": "execute_result"
    }
   ],
   "source": [
    "log_loss(y, log_reg.predict_proba(X))"
   ]
  },
  {
   "cell_type": "markdown",
   "metadata": {},
   "source": [
    "## PyTorch: optimization problem"
   ]
  },
  {
   "cell_type": "code",
   "execution_count": 8,
   "metadata": {},
   "outputs": [],
   "source": [
    "X = torch.tensor(X, dtype=torch.float32)\n",
    "y = torch.tensor(y, dtype=torch.float32)\n",
    "\n",
    "x_opt = torch.tensor(x_opt, dtype=torch.float32)\n",
    "N = x_opt.shape[0]\n",
    "\n",
    "x_0 = torch.randn(N)"
   ]
  },
  {
   "cell_type": "code",
   "execution_count": 9,
   "metadata": {},
   "outputs": [],
   "source": [
    "def f(x):\n",
    "    return torch.nn.functional.binary_cross_entropy_with_logits(X @ x, y)"
   ]
  },
  {
   "cell_type": "code",
   "execution_count": 10,
   "metadata": {},
   "outputs": [
    {
     "data": {
      "text/plain": [
       "0.12020285427570343"
      ]
     },
     "execution_count": 10,
     "metadata": {},
     "output_type": "execute_result"
    }
   ],
   "source": [
    "f(x_opt).item()"
   ]
  },
  {
   "cell_type": "code",
   "execution_count": 11,
   "metadata": {},
   "outputs": [
    {
     "data": {
      "text/plain": [
       "2.628032684326172"
      ]
     },
     "execution_count": 11,
     "metadata": {},
     "output_type": "execute_result"
    }
   ],
   "source": [
    "f(x_0).item()"
   ]
  },
  {
   "cell_type": "code",
   "execution_count": 12,
   "metadata": {},
   "outputs": [],
   "source": [
    "def check_optimality(f, x, step=1e-4, eps=1e-7):\n",
    "    n = x.shape[0]\n",
    "    fx = f(x)\n",
    "    for i in range(n):\n",
    "        for s in [-1, 1]:\n",
    "            y = x.clone()\n",
    "            y[i] += s * step\n",
    "            fy = f(y)\n",
    "            if fy < fx - eps:\n",
    "                return False\n",
    "    return True"
   ]
  },
  {
   "cell_type": "code",
   "execution_count": 13,
   "metadata": {},
   "outputs": [
    {
     "data": {
      "text/plain": [
       "False"
      ]
     },
     "execution_count": 13,
     "metadata": {},
     "output_type": "execute_result"
    }
   ],
   "source": [
    "check_optimality(f, x_0)"
   ]
  },
  {
   "cell_type": "code",
   "execution_count": 14,
   "metadata": {},
   "outputs": [
    {
     "data": {
      "text/plain": [
       "True"
      ]
     },
     "execution_count": 14,
     "metadata": {},
     "output_type": "execute_result"
    }
   ],
   "source": [
    "check_optimality(f, x_opt)"
   ]
  },
  {
   "cell_type": "markdown",
   "metadata": {},
   "source": [
    "# Helper functions"
   ]
  },
  {
   "cell_type": "code",
   "execution_count": 62,
   "metadata": {},
   "outputs": [],
   "source": [
    "def d_p(x, p):\n",
    "    '''\n",
    "    Prox-function\n",
    "    '''\n",
    "    return 1 / p * torch.norm(x)**p\n",
    "\n",
    "\n",
    "def gradient(f, x, create_graph=False, retain_graph=None):\n",
    "    '''\n",
    "    Gradient of scalar function 'f' w.r.t. 1-d vector 'x'\n",
    "    '''\n",
    "    return torch.autograd.grad(\n",
    "        outputs=[f],\n",
    "        inputs=[x],\n",
    "        create_graph=create_graph, \n",
    "        retain_graph=retain_graph)[0]\n",
    "\n",
    "\n",
    "def hessian(f, x, create_graph=False):\n",
    "    '''\n",
    "    Hessian of scalar function 'f' w.r.t. 1-d vector 'x'\n",
    "    '''\n",
    "    n = x.shape[0]\n",
    "    h = torch.empty(n, n)\n",
    "    g = gradient(f, x, True)\n",
    "    for i in range(n):\n",
    "        h[i] = gradient(g[i], x, create_graph, True)\n",
    "    return h\n",
    "\n",
    "\n",
    "def D3(f, x, create_graph=False):\n",
    "    n = x.shape[0]\n",
    "    d3 = torch.empty(n, n, n)\n",
    "    g = gradient(f, x, True)\n",
    "    for i in range(n):\n",
    "        d3[i] = hessian(g[i], x, create_graph)\n",
    "    return d3\n",
    "\n",
    "\n",
    "def hessian_vector_product(f, x, v, retain_graph=False):\n",
    "    '''\n",
    "    Hessian-vector product: D^2(f) @ v\n",
    "    '''\n",
    "    grad_f = gradient(f, x, True)\n",
    "    return gradient(grad_f @ v, x, retain_graph=retain_graph)"
   ]
  },
  {
   "cell_type": "code",
   "execution_count": 37,
   "metadata": {},
   "outputs": [
    {
     "name": "stdout",
     "output_type": "stream",
     "text": [
      "F = tensor(14.0625, grad_fn=<ProdBackward0>) \n",
      "\n",
      "g = tensor([18.7500, 11.2500]) \n",
      "\n",
      "h = tensor([[12.5000, 15.0000],\n",
      "        [15.0000,  4.5000]]) \n",
      "\n",
      "h @ e = tensor([27.5000, 19.5000]) \n",
      "\n",
      "d3 = tensor([[[ 2.8610e-06,  1.0000e+01],\n",
      "         [ 1.0000e+01,  6.0000e+00]],\n",
      "\n",
      "        [[ 1.0000e+01,  6.0000e+00],\n",
      "         [ 6.0000e+00, -1.4305e-06]]]) \n",
      "\n"
     ]
    }
   ],
   "source": [
    "def test():\n",
    "    x = torch.tensor([1.5, 2.5], requires_grad=True)\n",
    "    e = torch.tensor([1., 1.])\n",
    "    f = x.pow(2).prod()\n",
    "    print('F =', f, '\\n')\n",
    "\n",
    "    g = gradient(f, x, retain_graph=True)\n",
    "    print('g =', g, '\\n')\n",
    "\n",
    "    h = hessian(f, x)\n",
    "    print('h =', h, '\\n')\n",
    "\n",
    "    he = hessian_vector_product(f, x, e, retain_graph=True)\n",
    "    print('h @ e =', he, '\\n')\n",
    "    \n",
    "    d3 = D3(f, x)\n",
    "    print('d3 =', d3, '\\n')\n",
    "\n",
    "test()"
   ]
  },
  {
   "cell_type": "markdown",
   "metadata": {},
   "source": [
    "# Auxilary problem"
   ]
  },
  {
   "cell_type": "code",
   "execution_count": 38,
   "metadata": {},
   "outputs": [],
   "source": [
    "def tridiag(d, e):\n",
    "    '''\n",
    "    Construct symmetric tridiagonal matrix from its main diagonal d and \n",
    "    above/below main diagonals equal to e\n",
    "    '''\n",
    "    return torch.diag(d) + torch.diag(e, -1) + torch.diag(e, 1)\n",
    "\n",
    "\n",
    "def utu_decomposition(A):  # TODO\n",
    "    '''\n",
    "    Decomposition of symmetric matrix A to U @ T @ U.T, where\n",
    "    U - symmetric ortogonal matrix, T - symmetric tridiagonla matrix\n",
    "    '''\n",
    "    a = A.tolist()\n",
    "    N = len(a)\n",
    "    a, tau, d, e = xalglib.smatrixtd(a, N, True)\n",
    "    u = xalglib.smatrixtdunpackq(a, N, True, tau)\n",
    "    U = torch.tensor(u)\n",
    "    T = tridiag(torch.tensor(d), torch.tensor(e))\n",
    "    return T, U\n",
    "\n",
    "\n",
    "def auxilary_subproblem_objective(tau, T, c_tilda, gamma):\n",
    "    I = torch.eye(len(c_tilda))\n",
    "    value = tau**2 + .5 * c_tilda.T @ torch.inverse(2 * math.sqrt(gamma) * tau * I + T) @ c_tilda\n",
    "    return value\n",
    "\n",
    "\n",
    "def solve_auxilary_subproblem(T, c_tilda, gamma, learning_rate):\n",
    "    tau = torch.tensor(1, dtype=torch.float32, requires_grad=True)\n",
    "    for i in range(1000):  # TODO\n",
    "        value = auxilary_subproblem_objective(tau, T, c_tilda, gamma)\n",
    "        value.backward()\n",
    "        with torch.no_grad():\n",
    "            tau -= learning_rate * tau.grad\n",
    "        tau.grad.detach_()\n",
    "        tau.grad.zero_()\n",
    "    return tau\n",
    "\n",
    "\n",
    "def solve_auxilary_problem(A, c, gamma):\n",
    "    T, U = utu_decomposition(A)\n",
    "    c_tilda = U.T @ c\n",
    "\n",
    "    tau = solve_auxilary_subproblem(T, c_tilda, gamma, 0.1)\n",
    "    assert tau > 0\n",
    "    I = torch.eye(len(c_tilda))\n",
    "    h = -U @ torch.inverse(2 * math.sqrt(gamma) * tau * I + T) @ c_tilda\n",
    "    \n",
    "    return h\n",
    "\n",
    "def auxilary_subproblem_dummy_objective(h, A, c, gamma):\n",
    "    value = c @ h + .5 * h.T @ A @ h +  gamma * torch.norm(h)**4 / 4\n",
    "    return value\n",
    "\n",
    "def solve_auxilary_problem_dummy(A, c, gamma, learning_rate=0.001):\n",
    "    h = torch.tensor([1, 1, 1, 1], dtype=torch.float32, requires_grad=True)\n",
    "    for i in range(1000): \n",
    "        value = auxilary_subproblem_dummy_objective(h, A, c, gamma)\n",
    "        value.backward()\n",
    "        with torch.no_grad():\n",
    "            h -= learning_rate * h.grad\n",
    "        h.grad.detach_()\n",
    "        h.grad.zero_()\n",
    "    return h\n"
   ]
  },
  {
   "cell_type": "code",
   "execution_count": 39,
   "metadata": {},
   "outputs": [
    {
     "name": "stdout",
     "output_type": "stream",
     "text": [
      "A = tensor([[-1., -2.,  1.,  2.],\n",
      "        [-2.,  3.,  0., -2.],\n",
      "        [ 1.,  0.,  2.,  1.],\n",
      "        [ 2., -2.,  1.,  4.]]) \n",
      "\n",
      "T = tensor([[ 1.9867,  0.9067,  0.0000,  0.0000],\n",
      "        [ 0.9067, -1.3200, -1.6667,  0.0000],\n",
      "        [ 0.0000, -1.6667,  3.3333, -3.0000],\n",
      "        [ 0.0000,  0.0000, -3.0000,  4.0000]]) \n",
      "\n",
      "U = tensor([[ 0.1333, -0.7333, -0.6667,  0.0000],\n",
      "        [-0.3333, -0.6667,  0.6667,  0.0000],\n",
      "        [-0.9333,  0.1333, -0.3333,  0.0000],\n",
      "        [ 0.0000,  0.0000,  0.0000,  1.0000]]) \n",
      "\n",
      "U @ T @ U.T = tensor([[-1.0000e+00, -2.0000e+00,  1.0000e+00,  2.0000e+00],\n",
      "        [-2.0000e+00,  3.0000e+00,  8.1956e-08, -2.0000e+00],\n",
      "        [ 1.0000e+00,  0.0000e+00,  2.0000e+00,  1.0000e+00],\n",
      "        [ 2.0000e+00, -2.0000e+00,  1.0000e+00,  4.0000e+00]]) \n",
      "\n"
     ]
    }
   ],
   "source": [
    "def test():\n",
    "    A = torch.tensor([\n",
    "        [-1, -2, 1, 2],\n",
    "        [-2, 3, 0, -2],\n",
    "        [1, 0, 2, 1],\n",
    "        [2, -2, 1, 4]\n",
    "    ], dtype=torch.float32)\n",
    "    c = torch.ones(4)\n",
    "    gamma = 1\n",
    "\n",
    "    T, U = utu_decomposition(A)\n",
    "    print('A =', A, '\\n')\n",
    "    print('T =', T, '\\n')\n",
    "    print('U =', U, '\\n')\n",
    "    print('U @ T @ U.T =', U @ T @ U.T, '\\n')\n",
    "\n",
    "test()"
   ]
  },
  {
   "cell_type": "code",
   "execution_count": 40,
   "metadata": {},
   "outputs": [
    {
     "name": "stdout",
     "output_type": "stream",
     "text": [
      "A = tensor([[ 0.7467,  0.5064, -0.3284, -0.2032],\n",
      "        [ 0.5064,  4.1816, -0.4006,  1.4852],\n",
      "        [-0.3284, -0.4006,  1.4505,  0.0077],\n",
      "        [-0.2032,  1.4852,  0.0077,  3.3837]]) \n",
      "\n",
      "T = tensor([[ 1.1302,  0.4556,  0.0000,  0.0000],\n",
      "        [ 0.4556,  1.2698,  1.0151,  0.0000],\n",
      "        [ 0.0000,  1.0151,  3.9788, -1.4991],\n",
      "        [ 0.0000,  0.0000, -1.4991,  3.3837]]) \n",
      "\n",
      "U = tensor([[ 0.3572, -0.9242,  0.1355,  0.0000],\n",
      "        [ 0.0440, -0.1283, -0.9908,  0.0000],\n",
      "        [ 0.9330,  0.3598, -0.0051,  0.0000],\n",
      "        [ 0.0000,  0.0000,  0.0000,  1.0000]]) \n",
      "\n",
      "U @ T @ U.T = tensor([[ 0.7467,  0.5064, -0.3284, -0.2032],\n",
      "        [ 0.5064,  4.1816, -0.4006,  1.4852],\n",
      "        [-0.3284, -0.4006,  1.4505,  0.0077],\n",
      "        [-0.2032,  1.4852,  0.0077,  3.3837]]) \n",
      "\n",
      "tau = tensor(0.7850, requires_grad=True) \n",
      "\n"
     ]
    },
    {
     "data": {
      "image/png": "[encoded data removed]",
      "text/plain": [
       "<Figure size 432x288 with 1 Axes>"
      ]
     },
     "metadata": {
      "needs_background": "light"
     },
     "output_type": "display_data"
    }
   ],
   "source": [
    "def test():\n",
    "    c = torch.randn(4)\n",
    "    x = torch.randn(4, requires_grad=True)\n",
    "    f = -sum(torch.log(torch.sigmoid(x @ torch.randn(4))) for _ in range(10))\n",
    "    A = hessian(f, x)\n",
    "    gamma = 1\n",
    "\n",
    "    T, U = utu_decomposition(A)\n",
    "    print('A =', A, '\\n')\n",
    "    print('T =', T, '\\n')\n",
    "    print('U =', U, '\\n')\n",
    "    print('U @ T @ U.T =', U @ T @ U.T, '\\n')\n",
    "\n",
    "    tau = solve_auxilary_subproblem(T, c, gamma, 0.1)\n",
    "    print('tau =', tau, '\\n')\n",
    "\n",
    "    xx = np.linspace(-2, 5, 1000)\n",
    "    y = [auxilary_subproblem_objective(x, T, c, gamma) for x in xx]\n",
    "    plt.plot(xx, y)\n",
    "    plt.ylim(-5, 5)\n",
    "    plt.plot([tau, tau], [-5, 5])\n",
    "\n",
    "test()"
   ]
  },
  {
   "cell_type": "code",
   "execution_count": 41,
   "metadata": {},
   "outputs": [
    {
     "name": "stdout",
     "output_type": "stream",
     "text": [
      "A = tensor([[0.9407, 0.0000, 0.0000, 0.0000],\n",
      "        [0.0000, 0.5929, 0.0000, 0.0000],\n",
      "        [0.0000, 0.0000, 0.1349, 0.0000],\n",
      "        [0.0000, 0.0000, 0.0000, 0.6754]]) \n",
      "\n",
      "c = tensor([ 0.0000, 10.4709,  0.0000,  0.0000]) \n",
      "\n",
      "gamma = tensor([66.1202]) \n",
      "\n",
      "h = tensor([ 0.0000, -0.5355,  0.0000,  0.0000], grad_fn=<MvBackward>)\n"
     ]
    },
    {
     "data": {
      "image/png": "[encoded data removed]",
      "text/plain": [
       "<Figure size 432x288 with 1 Axes>"
      ]
     },
     "metadata": {
      "needs_background": "light"
     },
     "output_type": "display_data"
    }
   ],
   "source": [
    "def test():\n",
    "    A = torch.diag(torch.abs(torch.randn(4)))\n",
    "    k = 1\n",
    "    e_k = torch.zeros(4)\n",
    "    e_k[k] = 1\n",
    "    c = (10 + 10 * torch.abs(torch.randn(1))) * e_k\n",
    "    gamma = 100 * torch.abs(torch.randn(1))\n",
    "\n",
    "    print('A =', A, '\\n')\n",
    "    print('c =', c, '\\n')\n",
    "    print('gamma =', gamma, '\\n')\n",
    "\n",
    "    h = solve_auxilary_problem(A, c, gamma)\n",
    "    print('h =', h)\n",
    "\n",
    "    def f(h):\n",
    "        return c @ h + .5 * c.T @ A @ c + gamma * torch.norm(h)**4 / 4\n",
    "\n",
    "    xx = np.linspace(-2, 2, 1000)\n",
    "    yy = [f(x * e_k) for x in xx]\n",
    "    plt.plot(xx, yy)\n",
    "    y1, y2 = min(yy) - 10, min(yy) + 100\n",
    "    plt.ylim(y1, y2)\n",
    "    plt.plot([h[k], h[k]], [y1, y2])\n",
    "\n",
    "test()"
   ]
  },
  {
   "cell_type": "code",
   "execution_count": 42,
   "metadata": {},
   "outputs": [
    {
     "name": "stdout",
     "output_type": "stream",
     "text": [
      "A = tensor([[2.9651, 0.0000, 0.0000, 0.0000],\n",
      "        [0.0000, 1.0539, 0.0000, 0.0000],\n",
      "        [0.0000, 0.0000, 0.2919, 0.0000],\n",
      "        [0.0000, 0.0000, 0.0000, 0.0596]]) \n",
      "\n",
      "c = tensor([ 0.0000, 20.1661,  0.0000,  0.0000]) \n",
      "\n",
      "gamma = tensor([119.1427]) \n",
      "\n",
      "h = tensor([ 5.4151e-18, -5.4783e-01,  8.7143e-17,  1.1090e-16],\n",
      "       requires_grad=True)\n"
     ]
    },
    {
     "data": {
      "image/png": "[encoded data removed]",
      "text/plain": [
       "<Figure size 432x288 with 1 Axes>"
      ]
     },
     "metadata": {
      "needs_background": "light"
     },
     "output_type": "display_data"
    }
   ],
   "source": [
    "def test():\n",
    "    A = torch.diag(torch.abs(torch.randn(4)))\n",
    "    k = 1\n",
    "    e_k = torch.zeros(4)\n",
    "    e_k[k] = 1\n",
    "    c = (10 + 10 * torch.abs(torch.randn(1))) * e_k\n",
    "    gamma = 100 * torch.abs(torch.randn(1))\n",
    "\n",
    "    print('A =', A, '\\n')\n",
    "    print('c =', c, '\\n')\n",
    "    print('gamma =', gamma, '\\n')\n",
    "\n",
    "    h = solve_auxilary_problem_dummy(A, c, gamma)\n",
    "    print('h =', h)\n",
    "\n",
    "    def f(h):\n",
    "        return c @ h + .5 * h.T @ A @ h + gamma * torch.norm(h)**4 / 4\n",
    "\n",
    "    xx = np.linspace(-2, 2, 1000)\n",
    "    yy = [f(x * e_k) for x in xx]\n",
    "    plt.plot(xx, yy)\n",
    "    y1, y2 = min(yy) - 10, min(yy) + 100\n",
    "    plt.ylim(y1, y2)\n",
    "    plt.plot([h[k], h[k]], [y1, y2])\n",
    "\n",
    "test()"
   ]
  },
  {
   "cell_type": "markdown",
   "metadata": {},
   "source": [
    "# Bregman-distance gradient method"
   ]
  },
  {
   "cell_type": "code",
   "execution_count": 148,
   "metadata": {},
   "outputs": [],
   "source": [
    "def BDGM(f, x_tilda_k, delta, L3):\n",
    "    \n",
    "    grad_f_x_tilda_k = torch.autograd.grad([f(x_tilda_k)], [x_tilda_k], create_graph=True)[0]\n",
    "    \n",
    "    z_0 = x_tilda_k\n",
    "    tau = 3 * delta / (8 * (2 + math.sqrt(2)) * torch.norm(grad_f_x_tilda_k))\n",
    "    \n",
    "    def D2v(z):\n",
    "        return hessian_vector_product(f(x_tilda_k), x_tilda_k, z - x_tilda_k)\n",
    "    \n",
    "    def rho_k(z):\n",
    "        '''\n",
    "        Scaling function\n",
    "        '''\n",
    "        return .5 * D2v(z) @ (z - x_tilda_k) \\\n",
    "               + L3 * d_p(z - x_tilda_k, 4)\n",
    "    \n",
    "    def beta_rho_k(z_i, z):\n",
    "        '''\n",
    "        Bregman distance\n",
    "        '''\n",
    "        grad_rho_k = torch.autograd.grad([rho_k(z_i)], [z_i], create_graph=True)[0]\n",
    "        return rho_k(z) - rho_k(z_i) - grad_rho_k @ (z - z_i)\n",
    "    \n",
    "    def g_x_tilda_k_tau(z):\n",
    "        x_p = x_tilda_k + tau * (z - x_tilda_k)\n",
    "        grad_g_p = torch.autograd.grad([f(x_p)], [x_p], create_graph=True)[0]\n",
    "        x_n = x_tilda_k - tau * (z - x_tilda_k)\n",
    "        grad_g_n = torch.autograd.grad([f(x_n)], [x_n], create_graph=True)[0]\n",
    "        return 1 / tau**2 * (grad_g_p + grad_g_n - 2 * grad_f_x_tilda_k)\n",
    "    \n",
    "    def g_phi_k_tau(z):\n",
    "        return grad_f_x_tilda_k + D2v(z) + g_x_tilda_k_tau(z) + L3 * ((z - x_tilda_k)**2).sum() * (z - x_tilda_k)\n",
    "    \n",
    "    def auxilary_subproblem_dummy_objective(z, g_phi_k_tau_z_i, z_i): \n",
    "        value = g_phi_k_tau_z_i @ (z - z_i) + 2 * (1 + 2**(-.5))*beta_rho_k(z_i, z)\n",
    "        return value\n",
    "    \n",
    "    def solve_auxilary_problem_dummy(g_phi_k_tau_z_i, z_i, learning_rate=0.001):\n",
    "        z = torch.ones(len(z_i), dtype=torch.float32, requires_grad=True)\n",
    "        for i in range(10000): \n",
    "            value = auxilary_subproblem_dummy_objective(z, g_phi_k_tau_z_i, z_i)\n",
    "            value.backward(retain_graph=True)\n",
    "#             print(value.item())\n",
    "            with torch.no_grad():\n",
    "                z -= learning_rate * z.grad\n",
    "            z.grad.detach_()\n",
    "            z.grad.zero_()\n",
    "        return z\n",
    "    \n",
    "    i = 0\n",
    "    z_i = z_0\n",
    "    while True:\n",
    "        g_phi_k_tau_z_i = g_phi_k_tau(z_i)\n",
    "        print(i, z_i, torch.norm(g_phi_k_tau_z_i))\n",
    "        grad_f_z_i = torch.autograd.grad([f(z_i)], [z_i], create_graph=True)[0]\n",
    "        if torch.norm(g_phi_k_tau_z_i) <= 1 / 6 * torch.norm(grad_f_z_i) - delta:\n",
    "            break\n",
    "        else:\n",
    "            z_i = solve_auxilary_problem_dummy(g_phi_k_tau_z_i, z_i, 0.0001)\n",
    "        i += 1\n",
    "    return z_i"
   ]
  },
  {
   "cell_type": "code",
   "execution_count": 137,
   "metadata": {},
   "outputs": [],
   "source": [
    "x_tilda_k = torch.randn(4, requires_grad=True)"
   ]
  },
  {
   "cell_type": "code",
   "execution_count": 142,
   "metadata": {},
   "outputs": [
    {
     "data": {
      "text/plain": [
       "tensor([-0.8656,  0.1553, -0.4892, -0.5124], requires_grad=True)"
      ]
     },
     "execution_count": 142,
     "metadata": {},
     "output_type": "execute_result"
    }
   ],
   "source": [
    "x_tilda_k"
   ]
  },
  {
   "cell_type": "code",
   "execution_count": 149,
   "metadata": {},
   "outputs": [
    {
     "name": "stdout",
     "output_type": "stream",
     "text": [
      "tensor([-2.5941,  0.0150, -0.4682, -0.5382])\n",
      "tensor([[8.9908, 0.0000, 0.0000, 0.0000],\n",
      "        [0.0000, 0.2896, 0.0000, 0.0000],\n",
      "        [0.0000, 0.0000, 2.8716, 0.0000],\n",
      "        [0.0000, 0.0000, 0.0000, 3.1507]])\n",
      "tensor([[[-20.7740,   0.0000,  -0.0000,  -0.0000],\n",
      "         [ -0.0000,   0.0000,  -0.0000,  -0.0000],\n",
      "         [ -0.0000,   0.0000,  -0.0000,  -0.0000],\n",
      "         [ -0.0000,   0.0000,  -0.0000,  -0.0000]],\n",
      "\n",
      "        [[ -0.0000,   0.0000,  -0.0000,  -0.0000],\n",
      "         [ -0.0000,   3.7282,  -0.0000,  -0.0000],\n",
      "         [ -0.0000,   0.0000,  -0.0000,  -0.0000],\n",
      "         [ -0.0000,   0.0000,  -0.0000,  -0.0000]],\n",
      "\n",
      "        [[ -0.0000,   0.0000,  -0.0000,  -0.0000],\n",
      "         [ -0.0000,   0.0000,  -0.0000,  -0.0000],\n",
      "         [ -0.0000,   0.0000, -11.7403,  -0.0000],\n",
      "         [ -0.0000,   0.0000,  -0.0000,  -0.0000]],\n",
      "\n",
      "        [[ -0.0000,   0.0000,  -0.0000,  -0.0000],\n",
      "         [ -0.0000,   0.0000,  -0.0000,  -0.0000],\n",
      "         [ -0.0000,   0.0000,  -0.0000,  -0.0000],\n",
      "         [ -0.0000,   0.0000,  -0.0000, -12.2978]]])\n",
      "0 tensor([-0.8656,  0.1553, -0.4892, -0.5124], requires_grad=True) tensor(2.6904, grad_fn=<NormBackward0>)\n",
      "1 tensor([-0.9815,  0.2361, -0.5486, -0.5760], requires_grad=True) tensor(72562.9375, grad_fn=<NormBackward0>)\n",
      "2 tensor([14.8302,  0.1554, -0.4892,  3.4203], requires_grad=True) tensor(51239.2656, grad_fn=<NormBackward0>)\n",
      "3 tensor([17.8961,  0.1553, -0.4892,  4.1871], requires_grad=True) tensor(36341.2695, grad_fn=<NormBackward0>)\n",
      "4 tensor([15.1325,  0.1553, -0.4892,  6.8236], requires_grad=True) tensor(25684.0996, grad_fn=<NormBackward0>)\n",
      "5 tensor([12.2023,  0.1553, -0.4892,  9.3329], requires_grad=True) tensor(18147.6641, grad_fn=<NormBackward0>)\n",
      "6 tensor([ 9.2699,  0.1553, -0.4892, 11.3581], requires_grad=True) tensor(12818.7754, grad_fn=<NormBackward0>)\n",
      "7 tensor([ 6.6486,  0.1553, -0.4892, 12.7358], requires_grad=True) tensor(61651.0547, grad_fn=<NormBackward0>)\n",
      "8 tensor([14.9189,  0.1553, -0.4892,  8.9462], requires_grad=True) tensor(26911.1465, grad_fn=<NormBackward0>)\n",
      "9 tensor([12.0253,  0.1553, -0.4892, 10.7377], requires_grad=True) tensor(51422.7969, grad_fn=<NormBackward0>)\n",
      "10 tensor([16.7276,  0.1553, -0.4892,  8.2008], requires_grad=True) tensor(36340.0430, grad_fn=<NormBackward0>)\n",
      "11 tensor([23.0227,  0.1553, -0.4892,  8.6162], requires_grad=True) tensor(14618.8691, grad_fn=<NormBackward0>)\n",
      "12 tensor([32.4727,  0.1553, -0.4892, 11.0321], requires_grad=True) tensor(147723.5312, grad_fn=<NormBackward0>)\n",
      "13 tensor([nan, nan, nan, nan], requires_grad=True) tensor(nan, grad_fn=<NormBackward0>)\n",
      "14 tensor([nan, nan, nan, nan], requires_grad=True) tensor(nan, grad_fn=<NormBackward0>)\n",
      "15 tensor([nan, nan, nan, nan], requires_grad=True) tensor(nan, grad_fn=<NormBackward0>)\n",
      "16 tensor([nan, nan, nan, nan], requires_grad=True) tensor(nan, grad_fn=<NormBackward0>)\n",
      "17 tensor([nan, nan, nan, nan], requires_grad=True) tensor(nan, grad_fn=<NormBackward0>)\n",
      "18 tensor([nan, nan, nan, nan], requires_grad=True) tensor(nan, grad_fn=<NormBackward0>)\n",
      "19 tensor([nan, nan, nan, nan], requires_grad=True) tensor(nan, grad_fn=<NormBackward0>)\n",
      "20 tensor([nan, nan, nan, nan], requires_grad=True) tensor(nan, grad_fn=<NormBackward0>)\n",
      "21 tensor([nan, nan, nan, nan], requires_grad=True) tensor(nan, grad_fn=<NormBackward0>)\n",
      "22 tensor([nan, nan, nan, nan], requires_grad=True) tensor(nan, grad_fn=<NormBackward0>)\n",
      "23 tensor([nan, nan, nan, nan], requires_grad=True) tensor(nan, grad_fn=<NormBackward0>)\n"
     ]
    },
    {
     "ename": "KeyboardInterrupt",
     "evalue": "",
     "output_type": "error",
     "traceback": [
      "\u001b[0;31m---------------------------------------------------------------------------\u001b[0m",
      "\u001b[0;31mKeyboardInterrupt\u001b[0m                         Traceback (most recent call last)",
      "\u001b[0;32m<ipython-input-149-1957bef7f9ce>\u001b[0m in \u001b[0;36m<module>\u001b[0;34m\u001b[0m\n\u001b[1;32m     36\u001b[0m     \u001b[0mprint\u001b[0m\u001b[0;34m(\u001b[0m\u001b[0;34m'z_opt is optimal:'\u001b[0m\u001b[0;34m,\u001b[0m \u001b[0mcheck_optimality\u001b[0m\u001b[0;34m(\u001b[0m\u001b[0mphi_k\u001b[0m\u001b[0;34m,\u001b[0m \u001b[0mz_opt\u001b[0m\u001b[0;34m,\u001b[0m \u001b[0meps\u001b[0m\u001b[0;34m=\u001b[0m\u001b[0;36m1e-7\u001b[0m\u001b[0;34m)\u001b[0m\u001b[0;34m)\u001b[0m\u001b[0;34m\u001b[0m\u001b[0m\n\u001b[1;32m     37\u001b[0m \u001b[0;34m\u001b[0m\u001b[0m\n\u001b[0;32m---> 38\u001b[0;31m \u001b[0mtest\u001b[0m\u001b[0;34m(\u001b[0m\u001b[0;34m)\u001b[0m\u001b[0;34m\u001b[0m\u001b[0m\n\u001b[0m",
      "\u001b[0;32m<ipython-input-149-1957bef7f9ce>\u001b[0m in \u001b[0;36mtest\u001b[0;34m()\u001b[0m\n\u001b[1;32m     23\u001b[0m         \u001b[0;32mreturn\u001b[0m \u001b[0mtorch\u001b[0m\u001b[0;34m.\u001b[0m\u001b[0mnorm\u001b[0m\u001b[0;34m(\u001b[0m\u001b[0mz\u001b[0m \u001b[0;34m-\u001b[0m \u001b[0mx_tilda_k\u001b[0m\u001b[0;34m)\u001b[0m \u001b[0;34m<=\u001b[0m \u001b[0;36m2\u001b[0m \u001b[0;34m*\u001b[0m \u001b[0;34m(\u001b[0m\u001b[0;34m(\u001b[0m\u001b[0;36m2\u001b[0m \u001b[0;34m+\u001b[0m \u001b[0mmath\u001b[0m\u001b[0;34m.\u001b[0m\u001b[0msqrt\u001b[0m\u001b[0;34m(\u001b[0m\u001b[0;36m2\u001b[0m\u001b[0;34m)\u001b[0m\u001b[0;34m)\u001b[0m \u001b[0;34m*\u001b[0m \u001b[0mtorch\u001b[0m\u001b[0;34m.\u001b[0m\u001b[0mnorm\u001b[0m\u001b[0;34m(\u001b[0m\u001b[0mg\u001b[0m\u001b[0;34m)\u001b[0m \u001b[0;34m/\u001b[0m \u001b[0mL3\u001b[0m\u001b[0;34m)\u001b[0m \u001b[0;34m**\u001b[0m \u001b[0;34m(\u001b[0m\u001b[0;36m1\u001b[0m\u001b[0;34m/\u001b[0m\u001b[0;36m3\u001b[0m\u001b[0;34m)\u001b[0m\u001b[0;34m\u001b[0m\u001b[0m\n\u001b[1;32m     24\u001b[0m \u001b[0;34m\u001b[0m\u001b[0m\n\u001b[0;32m---> 25\u001b[0;31m     \u001b[0mz_opt\u001b[0m \u001b[0;34m=\u001b[0m \u001b[0mBDGM\u001b[0m\u001b[0;34m(\u001b[0m\u001b[0mf\u001b[0m\u001b[0;34m,\u001b[0m \u001b[0mx_tilda_k\u001b[0m\u001b[0;34m,\u001b[0m \u001b[0mdelta\u001b[0m\u001b[0;34m,\u001b[0m \u001b[0mL3\u001b[0m\u001b[0;34m)\u001b[0m\u001b[0;34m\u001b[0m\u001b[0m\n\u001b[0m\u001b[1;32m     26\u001b[0m     \u001b[0mprint\u001b[0m\u001b[0;34m(\u001b[0m\u001b[0;34m'z_opt ='\u001b[0m\u001b[0;34m,\u001b[0m \u001b[0mz_opt\u001b[0m\u001b[0;34m)\u001b[0m\u001b[0;34m\u001b[0m\u001b[0m\n\u001b[1;32m     27\u001b[0m     \u001b[0mprint\u001b[0m\u001b[0;34m(\u001b[0m\u001b[0;34m'z_opt is feasible:'\u001b[0m\u001b[0;34m,\u001b[0m \u001b[0mis_feasible\u001b[0m\u001b[0;34m(\u001b[0m\u001b[0mz_opt\u001b[0m\u001b[0;34m)\u001b[0m\u001b[0;34m)\u001b[0m\u001b[0;34m\u001b[0m\u001b[0m\n",
      "\u001b[0;32m<ipython-input-148-287b72b99102>\u001b[0m in \u001b[0;36mBDGM\u001b[0;34m(f, x_tilda_k, delta, L3)\u001b[0m\n\u001b[1;32m     58\u001b[0m             \u001b[0;32mbreak\u001b[0m\u001b[0;34m\u001b[0m\u001b[0m\n\u001b[1;32m     59\u001b[0m         \u001b[0;32melse\u001b[0m\u001b[0;34m:\u001b[0m\u001b[0;34m\u001b[0m\u001b[0m\n\u001b[0;32m---> 60\u001b[0;31m             \u001b[0mz_i\u001b[0m \u001b[0;34m=\u001b[0m \u001b[0msolve_auxilary_problem_dummy\u001b[0m\u001b[0;34m(\u001b[0m\u001b[0mg_phi_k_tau_z_i\u001b[0m\u001b[0;34m,\u001b[0m \u001b[0mz_i\u001b[0m\u001b[0;34m,\u001b[0m \u001b[0;36m0.0001\u001b[0m\u001b[0;34m)\u001b[0m\u001b[0;34m\u001b[0m\u001b[0m\n\u001b[0m\u001b[1;32m     61\u001b[0m         \u001b[0mi\u001b[0m \u001b[0;34m+=\u001b[0m \u001b[0;36m1\u001b[0m\u001b[0;34m\u001b[0m\u001b[0m\n\u001b[1;32m     62\u001b[0m     \u001b[0;32mreturn\u001b[0m \u001b[0mz_i\u001b[0m\u001b[0;34m\u001b[0m\u001b[0m\n",
      "\u001b[0;32m<ipython-input-148-287b72b99102>\u001b[0m in \u001b[0;36msolve_auxilary_problem_dummy\u001b[0;34m(g_phi_k_tau_z_i, z_i, learning_rate)\u001b[0m\n\u001b[1;32m     41\u001b[0m         \u001b[0;32mfor\u001b[0m \u001b[0mi\u001b[0m \u001b[0;32min\u001b[0m \u001b[0mrange\u001b[0m\u001b[0;34m(\u001b[0m\u001b[0;36m10000\u001b[0m\u001b[0;34m)\u001b[0m\u001b[0;34m:\u001b[0m\u001b[0;34m\u001b[0m\u001b[0m\n\u001b[1;32m     42\u001b[0m             \u001b[0mvalue\u001b[0m \u001b[0;34m=\u001b[0m \u001b[0mauxilary_subproblem_dummy_objective\u001b[0m\u001b[0;34m(\u001b[0m\u001b[0mz\u001b[0m\u001b[0;34m,\u001b[0m \u001b[0mg_phi_k_tau_z_i\u001b[0m\u001b[0;34m,\u001b[0m \u001b[0mz_i\u001b[0m\u001b[0;34m)\u001b[0m\u001b[0;34m\u001b[0m\u001b[0m\n\u001b[0;32m---> 43\u001b[0;31m             \u001b[0mvalue\u001b[0m\u001b[0;34m.\u001b[0m\u001b[0mbackward\u001b[0m\u001b[0;34m(\u001b[0m\u001b[0mretain_graph\u001b[0m\u001b[0;34m=\u001b[0m\u001b[0;32mTrue\u001b[0m\u001b[0;34m)\u001b[0m\u001b[0;34m\u001b[0m\u001b[0m\n\u001b[0m\u001b[1;32m     44\u001b[0m \u001b[0;31m#             print(value.item())\u001b[0m\u001b[0;34m\u001b[0m\u001b[0;34m\u001b[0m\u001b[0m\n\u001b[1;32m     45\u001b[0m             \u001b[0;32mwith\u001b[0m \u001b[0mtorch\u001b[0m\u001b[0;34m.\u001b[0m\u001b[0mno_grad\u001b[0m\u001b[0;34m(\u001b[0m\u001b[0;34m)\u001b[0m\u001b[0;34m:\u001b[0m\u001b[0;34m\u001b[0m\u001b[0m\n",
      "\u001b[0;32m~/miniconda3/envs/nlp/lib/python3.7/site-packages/torch/tensor.py\u001b[0m in \u001b[0;36mbackward\u001b[0;34m(self, gradient, retain_graph, create_graph)\u001b[0m\n\u001b[1;32m    193\u001b[0m                 \u001b[0mproducts\u001b[0m\u001b[0;34m.\u001b[0m \u001b[0mDefaults\u001b[0m \u001b[0mto\u001b[0m\u001b[0;31m \u001b[0m\u001b[0;31m`\u001b[0m\u001b[0;31m`\u001b[0m\u001b[0;32mFalse\u001b[0m\u001b[0;31m`\u001b[0m\u001b[0;31m`\u001b[0m\u001b[0;34m.\u001b[0m\u001b[0;34m\u001b[0m\u001b[0m\n\u001b[1;32m    194\u001b[0m         \"\"\"\n\u001b[0;32m--> 195\u001b[0;31m         \u001b[0mtorch\u001b[0m\u001b[0;34m.\u001b[0m\u001b[0mautograd\u001b[0m\u001b[0;34m.\u001b[0m\u001b[0mbackward\u001b[0m\u001b[0;34m(\u001b[0m\u001b[0mself\u001b[0m\u001b[0;34m,\u001b[0m \u001b[0mgradient\u001b[0m\u001b[0;34m,\u001b[0m \u001b[0mretain_graph\u001b[0m\u001b[0;34m,\u001b[0m \u001b[0mcreate_graph\u001b[0m\u001b[0;34m)\u001b[0m\u001b[0;34m\u001b[0m\u001b[0m\n\u001b[0m\u001b[1;32m    196\u001b[0m \u001b[0;34m\u001b[0m\u001b[0m\n\u001b[1;32m    197\u001b[0m     \u001b[0;32mdef\u001b[0m \u001b[0mregister_hook\u001b[0m\u001b[0;34m(\u001b[0m\u001b[0mself\u001b[0m\u001b[0;34m,\u001b[0m \u001b[0mhook\u001b[0m\u001b[0;34m)\u001b[0m\u001b[0;34m:\u001b[0m\u001b[0;34m\u001b[0m\u001b[0m\n",
      "\u001b[0;32m~/miniconda3/envs/nlp/lib/python3.7/site-packages/torch/autograd/__init__.py\u001b[0m in \u001b[0;36mbackward\u001b[0;34m(tensors, grad_tensors, retain_graph, create_graph, grad_variables)\u001b[0m\n\u001b[1;32m     97\u001b[0m     Variable._execution_engine.run_backward(\n\u001b[1;32m     98\u001b[0m         \u001b[0mtensors\u001b[0m\u001b[0;34m,\u001b[0m \u001b[0mgrad_tensors\u001b[0m\u001b[0;34m,\u001b[0m \u001b[0mretain_graph\u001b[0m\u001b[0;34m,\u001b[0m \u001b[0mcreate_graph\u001b[0m\u001b[0;34m,\u001b[0m\u001b[0;34m\u001b[0m\u001b[0m\n\u001b[0;32m---> 99\u001b[0;31m         allow_unreachable=True)  # allow_unreachable flag\n\u001b[0m\u001b[1;32m    100\u001b[0m \u001b[0;34m\u001b[0m\u001b[0m\n\u001b[1;32m    101\u001b[0m \u001b[0;34m\u001b[0m\u001b[0m\n",
      "\u001b[0;31mKeyboardInterrupt\u001b[0m: "
     ]
    }
   ],
   "source": [
    "def test():\n",
    "    def f(x):\n",
    "        return x.pow(4).sum()\n",
    "\n",
    "    f_x_tilda_k = f(x_tilda_k)\n",
    "    g = gradient(f_x_tilda_k, x_tilda_k, retain_graph=True)\n",
    "    h = hessian(f_x_tilda_k, x_tilda_k)\n",
    "    d3 = D3(f_x_tilda_k, x_tilda_k)\n",
    "    \n",
    "    print(g)\n",
    "    print(h)\n",
    "    print(d3)\n",
    "    \n",
    "    L3 = 5\n",
    "    eps = 1e-2\n",
    "    delta = eps**1.5 / (torch.norm(g)**0.5 + torch.norm(h)**1.5 / L3**0.5)\n",
    "    \n",
    "    def phi_k(z):\n",
    "        y = z - x_tilda_k\n",
    "        return g @ y + h @ y @ y + d3 @ y @ y @ y + L3 * torch.norm(y)**4 / 4\n",
    "\n",
    "    def is_feasible(z):\n",
    "        return torch.norm(z - x_tilda_k) <= 2 * ((2 + math.sqrt(2)) * torch.norm(g) / L3) ** (1/3)\n",
    "\n",
    "    z_opt = BDGM(f, x_tilda_k, delta, L3)\n",
    "    print('z_opt =', z_opt)\n",
    "    print('z_opt is feasible:', is_feasible(z_opt))\n",
    "    \n",
    "    print('phi_k(z_opt) =', phi_k(z_opt))\n",
    "    print('z_opt is optimal:', check_optimality(phi_k, z_opt, eps=1e-1))\n",
    "    print('z_opt is optimal:', check_optimality(phi_k, z_opt, eps=1e-2))\n",
    "    print('z_opt is optimal:', check_optimality(phi_k, z_opt, eps=1e-3))\n",
    "    print('z_opt is optimal:', check_optimality(phi_k, z_opt, eps=1e-4))\n",
    "    print('z_opt is optimal:', check_optimality(phi_k, z_opt, eps=1e-5))\n",
    "    print('z_opt is optimal:', check_optimality(phi_k, z_opt, eps=1e-6))\n",
    "    print('z_opt is optimal:', check_optimality(phi_k, z_opt, eps=1e-7))\n",
    "\n",
    "test()"
   ]
  },
  {
   "cell_type": "markdown",
   "metadata": {},
   "source": [
    "# Hyperfast Second-Order Method"
   ]
  },
  {
   "cell_type": "code",
   "execution_count": 399,
   "metadata": {},
   "outputs": [],
   "source": [
    "import numpy as np\n",
    "\n",
    "def square_norm(x):\n",
    "    return torch.sum(torch.tensor(x)**2)\n",
    "\n",
    "def hyperfast_second_order_method(f, y_0, K, L3, delta):\n",
    "    '''\n",
    "    Algorithm 2: Hyperfast Second-Order Method\n",
    "    '''\n",
    "    A_0 = 0\n",
    "    x_0 = y_0 \n",
    "    x_tilda_k = x_0\n",
    "    A_k = A_0\n",
    "    x_k = x_0\n",
    "    y_k = y_0\n",
    "    for k in range(K):\n",
    "        y_k_plus_1 = BDGM(f, x_tilda_k, delta, L3)\n",
    "        y_k_plus_1.requires_grad_()\n",
    "        lambda_min = 2 / (3 * L3 * square_norm(y_k_plus_1 - x_tilda_k))\n",
    "        lambda_max = 1 / (L3 * square_norm(y_k_plus_1 - x_tilda_k))\n",
    "        lambda_k_plus_1 = np.random.uniform(lambda_min, lambda_max)\n",
    "        a_k_plus_1 = 1 / 2 * (lambda_k_plus_1 +\n",
    "                              (lambda_k_plus_1 ** 2 +\n",
    "                               4 * lambda_k_plus_1 * A_k) ** 0.5)\n",
    "        A_k_plus_1 = a_k_plus_1 + A_k\n",
    "        x_tilda_k = A_k * y_k / A_k_plus_1 + a_k_plus_1 * x_k / A_k_plus_1\n",
    "        x_k = x_k - a_k_plus_1 * torch.autograd.grad([f(y_k_plus_1)],\n",
    "                                                     [y_k_plus_1],\n",
    "                                                     create_graph=True)[0]\n",
    "        A_k = A_k_plus_1\n",
    "        y_k = y_k_plus_1      \n",
    "    return y_k"
   ]
  }
 ],
 "metadata": {
  "kernelspec": {
   "display_name": "Python 3",
   "language": "python",
   "name": "python3"
  },
  "language_info": {
   "codemirror_mode": {
    "name": "ipython",
    "version": 3
   },
   "file_extension": ".py",
   "mimetype": "text/x-python",
   "name": "python",
   "nbconvert_exporter": "python",
   "pygments_lexer": "ipython3",
   "version": "3.7.0"
  }
 },
 "nbformat": 4,
 "nbformat_minor": 4
}
